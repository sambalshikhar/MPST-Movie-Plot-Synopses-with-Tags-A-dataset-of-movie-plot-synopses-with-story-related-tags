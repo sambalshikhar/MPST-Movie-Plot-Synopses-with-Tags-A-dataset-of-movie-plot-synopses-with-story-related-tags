{
  "nbformat": 4,
  "nbformat_minor": 0,
  "metadata": {
    "colab": {
      "name": "model_2.ipynb",
      "version": "0.3.2",
      "provenance": [],
      "collapsed_sections": []
    },
    "language_info": {
      "name": "python",
      "version": "3.6.4",
      "mimetype": "text/x-python",
      "codemirror_mode": {
        "name": "ipython",
        "version": 3
      },
      "pygments_lexer": "ipython3",
      "nbconvert_exporter": "python",
      "file_extension": ".py"
    },
    "kernelspec": {
      "name": "python3",
      "display_name": "Python 3"
    },
    "accelerator": "GPU"
  },
  "cells": [
    {
      "cell_type": "code",
      "metadata": {
        "_uuid": "8f2839f25d086af736a60e9eeb907d3b93b6e0e5",
        "_cell_guid": "b1076dfc-b9ad-4769-8c92-a6c4dae69d19",
        "trusted": true,
        "id": "ja5Jl9vb27Jg",
        "colab_type": "code",
        "colab": {}
      },
      "source": [
        "# This Python 3 environment comes with many helpful analytics libraries installed\n",
        "# It is defined by the kaggle/python docker image: https://github.com/kaggle/docker-python\n",
        "# For example, here's several helpful packages to load in \n",
        "\n",
        "import numpy as np # linear algebra\n",
        "import pandas as pd # data processing, CSV file I/O (e.g. pd.read_csv)\n",
        "import warnings\n",
        "warnings.filterwarnings(\"ignore\")\n",
        "import pandas as pd\n",
        "import sqlite3\n",
        "import csv\n",
        "import matplotlib.pyplot as plt\n",
        "import seaborn as sns\n",
        "import numpy as np\n",
        "from bs4 import BeautifulSoup\n",
        "from wordcloud import WordCloud\n",
        "import re\n",
        "import os\n",
        "from sqlalchemy import create_engine # database connection\n",
        "import datetime as dt\n",
        "from nltk.corpus import stopwords\n",
        "from nltk.tokenize import word_tokenize\n",
        "from nltk.stem.snowball import SnowballStemmer\n",
        "from sklearn.feature_extraction.text import CountVectorizer\n",
        "from sklearn.feature_extraction.text import TfidfVectorizer\n",
        "from sklearn.multiclass import OneVsRestClassifier\n",
        "from sklearn.linear_model import SGDClassifier\n",
        "from sklearn import metrics\n",
        "from sklearn.metrics import f1_score,precision_score,recall_score\n",
        "from sklearn import svm\n",
        "from sklearn.linear_model import LogisticRegression\n",
        "from sklearn.naive_bayes import GaussianNB\n",
        "from datetime import datetime\n",
        "from bs4 import BeautifulSoup\n",
        "from sklearn.model_selection import GridSearchCV\n",
        "\n",
        "# Input data files are available in the \"../input/\" directory.\n",
        "# For example, running this (by clicking run or pressing Shift+Enter) will list the files in the input directory\n",
        "\n",
        "import os\n",
        "\n"
      ],
      "execution_count": 0,
      "outputs": []
    },
    {
      "cell_type": "code",
      "metadata": {
        "id": "8p1ykePi3zMD",
        "colab_type": "code",
        "outputId": "ef3cc51f-a915-4d53-f1b4-919a2f0e450f",
        "colab": {
          "base_uri": "https://localhost:8080/",
          "height": 122
        }
      },
      "source": [
        "from google.colab import drive\n",
        "drive.mount('/content/gdrive')"
      ],
      "execution_count": 2,
      "outputs": [
        {
          "output_type": "stream",
          "text": [
            "Go to this URL in a browser: https://accounts.google.com/o/oauth2/auth?client_id=947318989803-6bn6qk8qdgf4n4g3pfee6491hc0brc4i.apps.googleusercontent.com&redirect_uri=urn%3Aietf%3Awg%3Aoauth%3A2.0%3Aoob&scope=email%20https%3A%2F%2Fwww.googleapis.com%2Fauth%2Fdocs.test%20https%3A%2F%2Fwww.googleapis.com%2Fauth%2Fdrive%20https%3A%2F%2Fwww.googleapis.com%2Fauth%2Fdrive.photos.readonly%20https%3A%2F%2Fwww.googleapis.com%2Fauth%2Fpeopleapi.readonly&response_type=code\n",
            "\n",
            "Enter your authorization code:\n",
            "··········\n",
            "Mounted at /content/gdrive\n"
          ],
          "name": "stdout"
        }
      ]
    },
    {
      "cell_type": "code",
      "metadata": {
        "trusted": true,
        "id": "kJbPMY9E27Ku",
        "colab_type": "code",
        "colab": {}
      },
      "source": [
        "pd.options.mode.chained_assignment = None "
      ],
      "execution_count": 0,
      "outputs": []
    },
    {
      "cell_type": "code",
      "metadata": {
        "_cell_guid": "79c7e3d0-c299-4dcb-8224-4455121ee9b0",
        "_uuid": "d629ff2d2480ee46fbb7e2d37f6b5fab8052498a",
        "trusted": true,
        "id": "Q4GX81e527K0",
        "colab_type": "code",
        "colab": {}
      },
      "source": [
        "df=pd.read_csv('/content/gdrive/My Drive/mpst_full_data.csv')"
      ],
      "execution_count": 0,
      "outputs": []
    },
    {
      "cell_type": "code",
      "metadata": {
        "trusted": true,
        "id": "Dy0b7HqX27K8",
        "colab_type": "code",
        "outputId": "f98b9698-df5a-4b7c-fb85-7e7b32bd3041",
        "colab": {
          "base_uri": "https://localhost:8080/",
          "height": 238
        }
      },
      "source": [
        "df.head()"
      ],
      "execution_count": 5,
      "outputs": [
        {
          "output_type": "execute_result",
          "data": {
            "text/html": [
              "<div>\n",
              "<style scoped>\n",
              "    .dataframe tbody tr th:only-of-type {\n",
              "        vertical-align: middle;\n",
              "    }\n",
              "\n",
              "    .dataframe tbody tr th {\n",
              "        vertical-align: top;\n",
              "    }\n",
              "\n",
              "    .dataframe thead th {\n",
              "        text-align: right;\n",
              "    }\n",
              "</style>\n",
              "<table border=\"1\" class=\"dataframe\">\n",
              "  <thead>\n",
              "    <tr style=\"text-align: right;\">\n",
              "      <th></th>\n",
              "      <th>imdb_id</th>\n",
              "      <th>title</th>\n",
              "      <th>plot_synopsis</th>\n",
              "      <th>tags</th>\n",
              "      <th>split</th>\n",
              "      <th>synopsis_source</th>\n",
              "    </tr>\n",
              "  </thead>\n",
              "  <tbody>\n",
              "    <tr>\n",
              "      <th>0</th>\n",
              "      <td>tt0057603</td>\n",
              "      <td>I tre volti della paura</td>\n",
              "      <td>Note: this synopsis is for the orginal Italian...</td>\n",
              "      <td>cult, horror, gothic, murder, atmospheric</td>\n",
              "      <td>train</td>\n",
              "      <td>imdb</td>\n",
              "    </tr>\n",
              "    <tr>\n",
              "      <th>1</th>\n",
              "      <td>tt1733125</td>\n",
              "      <td>Dungeons &amp; Dragons: The Book of Vile Darkness</td>\n",
              "      <td>Two thousand years ago, Nhagruul the Foul, a s...</td>\n",
              "      <td>violence</td>\n",
              "      <td>train</td>\n",
              "      <td>imdb</td>\n",
              "    </tr>\n",
              "    <tr>\n",
              "      <th>2</th>\n",
              "      <td>tt0033045</td>\n",
              "      <td>The Shop Around the Corner</td>\n",
              "      <td>Matuschek's, a gift store in Budapest, is the ...</td>\n",
              "      <td>romantic</td>\n",
              "      <td>test</td>\n",
              "      <td>imdb</td>\n",
              "    </tr>\n",
              "    <tr>\n",
              "      <th>3</th>\n",
              "      <td>tt0113862</td>\n",
              "      <td>Mr. Holland's Opus</td>\n",
              "      <td>Glenn Holland, not a morning person by anyone'...</td>\n",
              "      <td>inspiring, romantic, stupid, feel-good</td>\n",
              "      <td>train</td>\n",
              "      <td>imdb</td>\n",
              "    </tr>\n",
              "    <tr>\n",
              "      <th>4</th>\n",
              "      <td>tt0086250</td>\n",
              "      <td>Scarface</td>\n",
              "      <td>In May 1980, a Cuban man named Tony Montana (A...</td>\n",
              "      <td>cruelty, murder, dramatic, cult, violence, atm...</td>\n",
              "      <td>val</td>\n",
              "      <td>imdb</td>\n",
              "    </tr>\n",
              "  </tbody>\n",
              "</table>\n",
              "</div>"
            ],
            "text/plain": [
              "     imdb_id  ... synopsis_source\n",
              "0  tt0057603  ...            imdb\n",
              "1  tt1733125  ...            imdb\n",
              "2  tt0033045  ...            imdb\n",
              "3  tt0113862  ...            imdb\n",
              "4  tt0086250  ...            imdb\n",
              "\n",
              "[5 rows x 6 columns]"
            ]
          },
          "metadata": {
            "tags": []
          },
          "execution_count": 5
        }
      ]
    },
    {
      "cell_type": "markdown",
      "metadata": {
        "id": "oUinVjCN27Lo",
        "colab_type": "text"
      },
      "source": [
        "# **Preprocessing Synopsis**"
      ]
    },
    {
      "cell_type": "code",
      "metadata": {
        "trusted": true,
        "id": "4gfrlGqZ27Lu",
        "colab_type": "code",
        "outputId": "4e9d6bdc-1df8-44ef-81a8-61d78972ad8b",
        "colab": {
          "base_uri": "https://localhost:8080/",
          "height": 71
        }
      },
      "source": [
        "sent_0 = df['plot_synopsis'].values[0]\n",
        "print(sent_0)\n",
        "print(\"=\"*50)\n"
      ],
      "execution_count": 6,
      "outputs": [
        {
          "output_type": "stream",
          "text": [
            "Note: this synopsis is for the orginal Italian release with the segments in this certain order.Boris Karloff introduces three horror tales of the macabre and the supernatural known as the 'Three Faces of Fear'.THE TELEPHONERosy (Michele Mercier) is an attractive, high-priced Parisian call-girl who returns to her spacious, basement apartment after an evening out when she immediately gets beset by a series of strange phone calls. The caller soon identified himself as Frank, her ex-pimp who has recently escaped from prison. Rosy is terrified for it was her testimony that landed the man in jail. Looking for solace, Rosy phones her lesbian lover Mary (Lynda Alfonsi). The two women have been estranged for some time, but Rosy is certain that she is the only one who can help her. Mary agrees to come over that night. Seconds later, Frank calls again, promising that no matter who she calls for protection, he will have his revenge. Unknown to Rosy, Mary is the caller impersonating Frank. Marry arrives at Rosy's apartment soon after, and does her best to calm Rosy's nerves. She gives the panic-struck woman a tranquillizer and puts her to bed.Later that night as Rosy sleeps, Mary gets up out of bed, and pens a note of confession: she was the one making the strange phone calls when she learned of Franks escape from prison. Knowing that Rosy would call on her for help, she explains that she felt it was her way of coming back into her life after their breakup. While she is busy writing, she fails to notice an intruder in the apartment. This time it is Frank, for real. He creeps up behind Mary and strangles her to death with one of Rosys nylon stockings. The sound of the struggle awaken Rosy and she gasps in fright. The murderous pimp realizes that he just killed the wrong woman, and slowly makes his way to Rosy's bed. However, earlier that night, Rosy had placed a butcher knife under her pillow at Mary's suggestion. Rosy seizes the knife and stabs Frank with it as he's beginning to strangle her. Rosy drops the knife and breaks down in hysteria, surrounded by the two corpses of her former lovers.THE WURDALAKIn 19th Century Russia, Vladimir D'Urfe is a young nobleman on a long trip. During the course of his journey, he finds a beheaded corpse with a knife plunged into its heart. He withdraws the blade and takes it as a souvenir.Later that night, Vladimir stops at a small rural cottage to ask for shelter. He notices several daggers hanging up on one of the walls, and a vacant space that happens to fit the one he has discovered. Vladimir is surprised by the entrance of Giorgio (Glauco Onorato), who explains that the knife belongs to his father, who has not been seen for five days. Giorgio offers a room to the young count, and subsequently introduces him to the rest of the family: his wife (Rika Dialina), their young son Ivan, Giorgio's younger brother Pietro (Massimo Righi), and sister Sdenka (Susy Anderson). It subsequently transpires that they are eagerly anticipating the arrival of their father, Gorcha, as well as the reason for his absence: he has gone to do battle with the outlaw and dreaded wurdalak Ali Beg. Vladimir is confused by the term, and Sdenka explains that a wurdalak is a walking cadaver who feeds on the blood of the living, preferably close friends and family members. Giorgio and Pietro are certain that the corpse Vladimir had discovered is that of Ali Beg, but also realize that there is a strong possibility that their father has been infected by the blood curse too. They warn the count to leave, but he decides to stay and await the old mans return.At the stroke of midnight, Gorcha (Boris Karloff) returns to the cottage. His sour demeanor and unkempt appearance bode the worse, and the two brothers are torn: they realize that it is their duty to kill Gorcha before he feeds on the family, but their love for him makes it difficult to reach a decision. Later that night, both Ivan and Pietro are attacked by Gorcha who drains them of blood, and then flees the cottage. Giorgio stakes and beheads Pietro to prevent him from reviving as a wurdalak. But he is prevented from doing so to Ivan when his wife threatens to commit suicide. Reluntantly, he agrees to bury the child without taking the necessary precautions.That same night, the child rises from his grave and begs to be invited into the cottage. The mother runs to her son's aid, stabbing Giorgio when he attempts to stop her, only to be greeted at the front door by Gorcha. The old man bits and infects his daughter-in-law, who then does the same for her husband. Vladimir and Sdenka flee from the cottage and go on the run and hide out in the ruins of an abandoned cathedral as dawn breaks. Vladimir is optimistic that a long and happy life lies with them. But Sdenka is reluctant to relinquish her family ties. She believes that she is meant to stay with the family.Sdenka's fears about her family are confirmed when that evening, Gorcha and her siblings show up at the abandoned Abby. As Vladimir sleeps, Sdenka is lured into their loving arms where they bite to death. Awakened by her screams, Vladimir rushes to her aid, but the family has already taken her home, forcing the lover to follow suite. The young nobleman finds her, lying motionless on her bed. Sdenka awakens, and a distinct change is visible on her face. No longer caring, Vladimir embraces her, and she bites and infects him too.THE DROP OF WATERIn Victorian London, England, Nurse Helen Chester (Jacqueline Pierreux) is called to a large house to prepare the corpse of an elderly medium for her burial. As she dressed the body, she notices an elaborate diamond ring on its finger. Tempted by greed, Nurse Chester steals it. As she does, a glass tips over, and drops of water begin to splash on the floor. She is also assailed by a fly, no doubt attracted by the odor of the body. Unsettled but pleased by her acquisition, she finishes the job and returns home to her small East End flat.After returning home, Nurse Chester is assailed by strange events. The buzzing fly returns and continues to pester her. Then the lights in her apartment go out, and the sounds of the dripping water continues with maddening regularity. She sees the old womans corpse lying on her bed, and coming towards her. The terrified woman begs for forgiveness, but she ultimately strangles herself, imaging that the medium's hands are gripping her throat.The next morning, the concierge (Harriet White Medin) discovers Nurse Chester's body and calls the police. The investigator on the scene (Gustavo de Nardo) quickly concludes that its a simple case and that Nurse Chester \"died of fright\". The pathologist arrives on the scene to examine the body before it's taken away and he notes that the only sign of violence is a small bruise on her left finger, mostly likely caused when someone pried a ring from her finger. As the doctor makes this observation, the concierge appears distressed, as she has apparently took the ring from the dead Nurse Chester, and is further distracted by the sound of a fly swooping about in the air....Boris Karloff makes a final appearance as Gorcha riding on his horse as he concludes the three tales of fear and tells the viewers to be careful while walking home at night for ghosts and vampires have no fear. The image pulls back to actually reveal him sitting on a prop fake horse with a camera crew and various crewmen moving branches around to simulate the scene of riding through the forest from the Wurdalak segment.\n",
            "==================================================\n"
          ],
          "name": "stdout"
        }
      ]
    },
    {
      "cell_type": "code",
      "metadata": {
        "trusted": true,
        "id": "FDh9jB7S27Lz",
        "colab_type": "code",
        "colab": {}
      },
      "source": [
        "# https://stackoverflow.com/a/47091490/4084039\n",
        "import re\n",
        "\n",
        "def decontracted(phrase):\n",
        "    # specific\n",
        "    phrase = re.sub(r\"won't\", \"will not\", phrase)\n",
        "    phrase = re.sub(r\"can\\'t\", \"can not\", phrase)\n",
        "\n",
        "    # general\n",
        "    phrase = re.sub(r\"n\\'t\", \" not\", phrase)\n",
        "    phrase = re.sub(r\"\\'re\", \" are\", phrase)\n",
        "    phrase = re.sub(r\"\\'s\", \" is\", phrase)\n",
        "    phrase = re.sub(r\"\\'d\", \" would\", phrase)\n",
        "    phrase = re.sub(r\"\\'ll\", \" will\", phrase)\n",
        "    phrase = re.sub(r\"\\'t\", \" not\", phrase)\n",
        "    phrase = re.sub(r\"\\'ve\", \" have\", phrase)\n",
        "    phrase = re.sub(r\"\\'m\", \" am\", phrase)\n",
        "    return phrase"
      ],
      "execution_count": 0,
      "outputs": []
    },
    {
      "cell_type": "code",
      "metadata": {
        "id": "bPPPLR7i5L4F",
        "colab_type": "code",
        "colab": {}
      },
      "source": [
        "stopwords= set(['br', 'the', 'i', 'me', 'my', 'myself', 'we', 'our', 'ours', 'ourselves', 'you', \"you're\", \"you've\",\\\n",
        "            \"you'll\", \"you'd\", 'your', 'yours', 'yourself', 'yourselves', 'he', 'him', 'his', 'himself', \\\n",
        "            'she', \"she's\", 'her', 'hers', 'herself', 'it', \"it's\", 'its', 'itself', 'they', 'them', 'their',\\\n",
        "            'theirs', 'themselves', 'what', 'which', 'who', 'whom', 'this', 'that', \"that'll\", 'these', 'those', \\\n",
        "            'am', 'is', 'are', 'was', 'were', 'be', 'been', 'being', 'have', 'has', 'had', 'having', 'do', 'does', \\\n",
        "            'did', 'doing', 'a', 'an', 'the', 'and', 'but', 'if', 'or', 'because', 'as', 'until', 'while', 'of', \\\n",
        "            'at', 'by', 'for', 'with', 'about', 'against', 'between', 'into', 'through', 'during', 'before', 'after',\\\n",
        "            'above', 'below', 'to', 'from', 'up', 'down', 'in', 'out', 'on', 'off', 'over', 'under', 'again', 'further',\\\n",
        "            'then', 'once', 'here', 'there', 'when', 'where', 'why', 'how', 'all', 'any', 'both', 'each', 'few', 'more',\\\n",
        "            'most', 'other', 'some', 'such', 'only', 'own', 'same', 'so', 'than', 'too', 'very', \\\n",
        "            's', 't', 'can', 'will', 'just', 'don', \"don't\", 'should', \"should've\", 'now', 'd', 'll', 'm', 'o', 're', \\\n",
        "            've', 'y', 'ain', 'aren', \"aren't\", 'couldn', \"couldn't\", 'didn', \"didn't\", 'doesn', \"doesn't\", 'hadn',\\\n",
        "            \"hadn't\", 'hasn', \"hasn't\", 'haven', \"haven't\", 'isn', \"isn't\", 'ma', 'mightn', \"mightn't\", 'mustn',\\\n",
        "            \"mustn't\", 'needn', \"needn't\", 'shan', \"shan't\", 'shouldn', \"shouldn't\", 'wasn', \"wasn't\", 'weren', \"weren't\", \\\n",
        "            'won', \"won't\", 'wouldn', \"wouldn't\"])"
      ],
      "execution_count": 0,
      "outputs": []
    },
    {
      "cell_type": "code",
      "metadata": {
        "id": "axmRoE6r5mRE",
        "colab_type": "code",
        "outputId": "bdbf376f-8e6b-4862-f1d7-11e86a018ac7",
        "colab": {
          "base_uri": "https://localhost:8080/",
          "height": 34
        }
      },
      "source": [
        "# Combining all the above stundents \n",
        "from tqdm import tqdm\n",
        "preprocessed_synopsis = []\n",
        "# tqdm is for printing the status bar\n",
        "for sentance in tqdm(df['plot_synopsis'].values):\n",
        "    sentance = re.sub(r\"http\\S+\", \"\", sentance)\n",
        "    sentance = BeautifulSoup(sentance, 'lxml').get_text()\n",
        "    sentance = decontracted(sentance)\n",
        "    sentance = re.sub(\"\\S*\\d\\S*\", \"\", sentance).strip()\n",
        "    sentance = re.sub('[^A-Za-z]+', ' ', sentance)\n",
        "    # https://gist.github.com/sebleier/554280\n",
        "    sentance = ' '.join(e.lower() for e in sentance.split() if e.lower() not in stopwords)\n",
        "    preprocessed_synopsis.append(sentance.strip())"
      ],
      "execution_count": 9,
      "outputs": [
        {
          "output_type": "stream",
          "text": [
            "100%|██████████| 14828/14828 [00:24<00:00, 603.76it/s]\n"
          ],
          "name": "stderr"
        }
      ]
    },
    {
      "cell_type": "code",
      "metadata": {
        "id": "yyzJiRFM8yyM",
        "colab_type": "code",
        "colab": {}
      },
      "source": [
        "df['preprocessed_plots']=preprocessed_synopsis"
      ],
      "execution_count": 0,
      "outputs": []
    },
    {
      "cell_type": "code",
      "metadata": {
        "id": "8EjkkJ5kYi7k",
        "colab_type": "code",
        "outputId": "eccdf2e5-c3fa-4fb3-cfe7-30c9b5b3ebde",
        "colab": {
          "base_uri": "https://localhost:8080/",
          "height": 1000
        }
      },
      "source": [
        "df"
      ],
      "execution_count": 11,
      "outputs": [
        {
          "output_type": "execute_result",
          "data": {
            "text/html": [
              "<div>\n",
              "<style scoped>\n",
              "    .dataframe tbody tr th:only-of-type {\n",
              "        vertical-align: middle;\n",
              "    }\n",
              "\n",
              "    .dataframe tbody tr th {\n",
              "        vertical-align: top;\n",
              "    }\n",
              "\n",
              "    .dataframe thead th {\n",
              "        text-align: right;\n",
              "    }\n",
              "</style>\n",
              "<table border=\"1\" class=\"dataframe\">\n",
              "  <thead>\n",
              "    <tr style=\"text-align: right;\">\n",
              "      <th></th>\n",
              "      <th>imdb_id</th>\n",
              "      <th>title</th>\n",
              "      <th>plot_synopsis</th>\n",
              "      <th>tags</th>\n",
              "      <th>split</th>\n",
              "      <th>synopsis_source</th>\n",
              "      <th>preprocessed_plots</th>\n",
              "    </tr>\n",
              "  </thead>\n",
              "  <tbody>\n",
              "    <tr>\n",
              "      <th>0</th>\n",
              "      <td>tt0057603</td>\n",
              "      <td>I tre volti della paura</td>\n",
              "      <td>Note: this synopsis is for the orginal Italian...</td>\n",
              "      <td>cult, horror, gothic, murder, atmospheric</td>\n",
              "      <td>train</td>\n",
              "      <td>imdb</td>\n",
              "      <td>note synopsis orginal italian release segments...</td>\n",
              "    </tr>\n",
              "    <tr>\n",
              "      <th>1</th>\n",
              "      <td>tt1733125</td>\n",
              "      <td>Dungeons &amp; Dragons: The Book of Vile Darkness</td>\n",
              "      <td>Two thousand years ago, Nhagruul the Foul, a s...</td>\n",
              "      <td>violence</td>\n",
              "      <td>train</td>\n",
              "      <td>imdb</td>\n",
              "      <td>two thousand years ago nhagruul foul sorcerer ...</td>\n",
              "    </tr>\n",
              "    <tr>\n",
              "      <th>2</th>\n",
              "      <td>tt0033045</td>\n",
              "      <td>The Shop Around the Corner</td>\n",
              "      <td>Matuschek's, a gift store in Budapest, is the ...</td>\n",
              "      <td>romantic</td>\n",
              "      <td>test</td>\n",
              "      <td>imdb</td>\n",
              "      <td>matuschek gift store budapest workplace alfred...</td>\n",
              "    </tr>\n",
              "    <tr>\n",
              "      <th>3</th>\n",
              "      <td>tt0113862</td>\n",
              "      <td>Mr. Holland's Opus</td>\n",
              "      <td>Glenn Holland, not a morning person by anyone'...</td>\n",
              "      <td>inspiring, romantic, stupid, feel-good</td>\n",
              "      <td>train</td>\n",
              "      <td>imdb</td>\n",
              "      <td>glenn holland not morning person anyone standa...</td>\n",
              "    </tr>\n",
              "    <tr>\n",
              "      <th>4</th>\n",
              "      <td>tt0086250</td>\n",
              "      <td>Scarface</td>\n",
              "      <td>In May 1980, a Cuban man named Tony Montana (A...</td>\n",
              "      <td>cruelty, murder, dramatic, cult, violence, atm...</td>\n",
              "      <td>val</td>\n",
              "      <td>imdb</td>\n",
              "      <td>may cuban man named tony montana al pacino cla...</td>\n",
              "    </tr>\n",
              "    <tr>\n",
              "      <th>5</th>\n",
              "      <td>tt1315981</td>\n",
              "      <td>A Single Man</td>\n",
              "      <td>George Falconer (Colin Firth) approaches a car...</td>\n",
              "      <td>romantic, queer, flashback</td>\n",
              "      <td>val</td>\n",
              "      <td>imdb</td>\n",
              "      <td>george falconer colin firth approaches car acc...</td>\n",
              "    </tr>\n",
              "    <tr>\n",
              "      <th>6</th>\n",
              "      <td>tt0249380</td>\n",
              "      <td>Baise-moi</td>\n",
              "      <td>Baise-moi tells the story of Nadine and Manu w...</td>\n",
              "      <td>gothic, cruelty, violence, cult, revenge, sadist</td>\n",
              "      <td>train</td>\n",
              "      <td>wikipedia</td>\n",
              "      <td>baise moi tells story nadine manu go violent s...</td>\n",
              "    </tr>\n",
              "    <tr>\n",
              "      <th>7</th>\n",
              "      <td>tt0408790</td>\n",
              "      <td>Flightplan</td>\n",
              "      <td>Kyle Pratt (Jodie Foster) is a propulsion engi...</td>\n",
              "      <td>mystery, suspenseful, action, murder, flashback</td>\n",
              "      <td>train</td>\n",
              "      <td>imdb</td>\n",
              "      <td>kyle pratt jodie foster propulsion engineer ba...</td>\n",
              "    </tr>\n",
              "    <tr>\n",
              "      <th>8</th>\n",
              "      <td>tt0021079</td>\n",
              "      <td>Little Caesar</td>\n",
              "      <td>Small-time Italian-American criminals Caesar E...</td>\n",
              "      <td>violence</td>\n",
              "      <td>train</td>\n",
              "      <td>imdb</td>\n",
              "      <td>small time italian american criminals caesar e...</td>\n",
              "    </tr>\n",
              "    <tr>\n",
              "      <th>9</th>\n",
              "      <td>tt1615065</td>\n",
              "      <td>Savages</td>\n",
              "      <td>The movie begins with a video being shot of me...</td>\n",
              "      <td>revenge, neo noir, murder, violence, flashback</td>\n",
              "      <td>train</td>\n",
              "      <td>imdb</td>\n",
              "      <td>movie begins video shot men hands tied behind ...</td>\n",
              "    </tr>\n",
              "    <tr>\n",
              "      <th>10</th>\n",
              "      <td>tt0089606</td>\n",
              "      <td>Mitt liv som hund</td>\n",
              "      <td>The action takes place in the years 1958-1959 ...</td>\n",
              "      <td>cult, prank</td>\n",
              "      <td>train</td>\n",
              "      <td>wikipedia</td>\n",
              "      <td>action takes place years sweden troubled year ...</td>\n",
              "    </tr>\n",
              "    <tr>\n",
              "      <th>11</th>\n",
              "      <td>tt0078908</td>\n",
              "      <td>The Brood</td>\n",
              "      <td>At the Somafree Institute, Dr. Hal Raglan humi...</td>\n",
              "      <td>cult, psychedelic, murder, violence</td>\n",
              "      <td>train</td>\n",
              "      <td>imdb</td>\n",
              "      <td>somafree institute dr hal raglan humiliates pa...</td>\n",
              "    </tr>\n",
              "    <tr>\n",
              "      <th>12</th>\n",
              "      <td>tt0795493</td>\n",
              "      <td>Cassandra's Dream</td>\n",
              "      <td>Brothers Terry (Colin Farrell) and Ian (Ewan M...</td>\n",
              "      <td>tragedy, dramatic, murder</td>\n",
              "      <td>train</td>\n",
              "      <td>wikipedia</td>\n",
              "      <td>brothers terry colin farrell ian ewan mcgregor...</td>\n",
              "    </tr>\n",
              "    <tr>\n",
              "      <th>13</th>\n",
              "      <td>tt0093389</td>\n",
              "      <td>The Last Emperor</td>\n",
              "      <td>Arrival.\\nA train pulls into a station in Nort...</td>\n",
              "      <td>murder</td>\n",
              "      <td>train</td>\n",
              "      <td>imdb</td>\n",
              "      <td>arrival train pulls station north china soldie...</td>\n",
              "    </tr>\n",
              "    <tr>\n",
              "      <th>14</th>\n",
              "      <td>tt0120899</td>\n",
              "      <td>My Life So Far</td>\n",
              "      <td>The film tells the story of how the Pettigrew ...</td>\n",
              "      <td>flashback, autobiographical, home movie</td>\n",
              "      <td>train</td>\n",
              "      <td>wikipedia</td>\n",
              "      <td>film tells story pettigrew family living famil...</td>\n",
              "    </tr>\n",
              "    <tr>\n",
              "      <th>15</th>\n",
              "      <td>tt1937113</td>\n",
              "      <td>Call of Duty: Modern Warfare 3</td>\n",
              "      <td>Hours after the end of the previous game and t...</td>\n",
              "      <td>good versus evil</td>\n",
              "      <td>test</td>\n",
              "      <td>imdb</td>\n",
              "      <td>hours end previous game death traitorous gener...</td>\n",
              "    </tr>\n",
              "    <tr>\n",
              "      <th>16</th>\n",
              "      <td>tt1232776</td>\n",
              "      <td>Fish Tank</td>\n",
              "      <td>We open with Mia (Katie Jarvis), a 15 year old...</td>\n",
              "      <td>suspenseful, depressing, realism</td>\n",
              "      <td>train</td>\n",
              "      <td>imdb</td>\n",
              "      <td>open mia katie jarvis year old youngster hunch...</td>\n",
              "    </tr>\n",
              "    <tr>\n",
              "      <th>17</th>\n",
              "      <td>tt0402399</td>\n",
              "      <td>The New World</td>\n",
              "      <td>Over a shot of trees reflected in water, a gir...</td>\n",
              "      <td>boring, murder, cult, violence, atmospheric, h...</td>\n",
              "      <td>train</td>\n",
              "      <td>imdb</td>\n",
              "      <td>shot trees reflected water girl pocahontas inv...</td>\n",
              "    </tr>\n",
              "    <tr>\n",
              "      <th>18</th>\n",
              "      <td>tt1619029</td>\n",
              "      <td>Jackie</td>\n",
              "      <td>The film begins with a close-up of Jackie Kenn...</td>\n",
              "      <td>flashback</td>\n",
              "      <td>val</td>\n",
              "      <td>imdb</td>\n",
              "      <td>film begins close jackie kennedy natalie portm...</td>\n",
              "    </tr>\n",
              "    <tr>\n",
              "      <th>19</th>\n",
              "      <td>tt0102007</td>\n",
              "      <td>The Haunted</td>\n",
              "      <td>This creepy and scary story centers around The...</td>\n",
              "      <td>paranormal, horror, haunting</td>\n",
              "      <td>test</td>\n",
              "      <td>imdb</td>\n",
              "      <td>creepy scary story centers around smurl family...</td>\n",
              "    </tr>\n",
              "    <tr>\n",
              "      <th>20</th>\n",
              "      <td>tt0398712</td>\n",
              "      <td>Assault on Precinct 13</td>\n",
              "      <td>On New Years Eve, Detroit's oldest police stat...</td>\n",
              "      <td>suspenseful, neo noir, murder, violence, actio...</td>\n",
              "      <td>val</td>\n",
              "      <td>imdb</td>\n",
              "      <td>new years eve detroit oldest police station pr...</td>\n",
              "    </tr>\n",
              "    <tr>\n",
              "      <th>21</th>\n",
              "      <td>tt0036868</td>\n",
              "      <td>The Best Years of Our Lives</td>\n",
              "      <td>After World War II, Fred Derry (Dana Andrews),...</td>\n",
              "      <td>romantic, historical, storytelling</td>\n",
              "      <td>train</td>\n",
              "      <td>wikipedia</td>\n",
              "      <td>world war ii fred derry dana andrews homer par...</td>\n",
              "    </tr>\n",
              "    <tr>\n",
              "      <th>22</th>\n",
              "      <td>tt0116571</td>\n",
              "      <td>House Arrest</td>\n",
              "      <td>The film is told through the perspective of Gr...</td>\n",
              "      <td>romantic, home movie</td>\n",
              "      <td>train</td>\n",
              "      <td>wikipedia</td>\n",
              "      <td>film told perspective grover tj literary devic...</td>\n",
              "    </tr>\n",
              "    <tr>\n",
              "      <th>23</th>\n",
              "      <td>tt0104779</td>\n",
              "      <td>Bitter Moon</td>\n",
              "      <td>Nigel Dobson (Hugh Grant) and his wife Fiona (...</td>\n",
              "      <td>comedy, cruelty, murder, sadist, flashback, re...</td>\n",
              "      <td>train</td>\n",
              "      <td>imdb</td>\n",
              "      <td>nigel dobson hugh grant wife fiona kristn scot...</td>\n",
              "    </tr>\n",
              "    <tr>\n",
              "      <th>24</th>\n",
              "      <td>tt2005374</td>\n",
              "      <td>The Frozen Ground</td>\n",
              "      <td>The film opens in an Anchorage motel room in 1...</td>\n",
              "      <td>dramatic, murder</td>\n",
              "      <td>test</td>\n",
              "      <td>wikipedia</td>\n",
              "      <td>film opens anchorage motel room cindy paulson ...</td>\n",
              "    </tr>\n",
              "    <tr>\n",
              "      <th>25</th>\n",
              "      <td>tt0865556</td>\n",
              "      <td>The Forbidden Kingdom</td>\n",
              "      <td>South Boston teenager Jason Tripitikas is a fa...</td>\n",
              "      <td>fantasy, murder, violence, flashback, philosop...</td>\n",
              "      <td>train</td>\n",
              "      <td>wikipedia</td>\n",
              "      <td>south boston teenager jason tripitikas fan mar...</td>\n",
              "    </tr>\n",
              "    <tr>\n",
              "      <th>26</th>\n",
              "      <td>tt1454029</td>\n",
              "      <td>The Help</td>\n",
              "      <td>In civil-rights era Jackson, Mississippi, 23-y...</td>\n",
              "      <td>historical, feel-good</td>\n",
              "      <td>val</td>\n",
              "      <td>imdb</td>\n",
              "      <td>civil rights era jackson mississippi eugenia s...</td>\n",
              "    </tr>\n",
              "    <tr>\n",
              "      <th>27</th>\n",
              "      <td>tt1411238</td>\n",
              "      <td>No Strings Attached</td>\n",
              "      <td>15 years agoWe see two young kids, named Emma ...</td>\n",
              "      <td>boring, adult comedy, cute, flashback, romanti...</td>\n",
              "      <td>test</td>\n",
              "      <td>imdb</td>\n",
              "      <td>years agowe see two young kids named emma adam...</td>\n",
              "    </tr>\n",
              "    <tr>\n",
              "      <th>28</th>\n",
              "      <td>tt0118689</td>\n",
              "      <td>Bean</td>\n",
              "      <td>Mr. Bean (Rowan Atkinson) is a well-meaning, b...</td>\n",
              "      <td>cult, comedy, entertaining</td>\n",
              "      <td>train</td>\n",
              "      <td>imdb</td>\n",
              "      <td>mr bean rowan atkinson well meaning hopelessly...</td>\n",
              "    </tr>\n",
              "    <tr>\n",
              "      <th>29</th>\n",
              "      <td>tt1716772</td>\n",
              "      <td>The Inbetweeners Movie</td>\n",
              "      <td>Four teenage misfits - Will, Simon, Jay and Ne...</td>\n",
              "      <td>bleak, comedy, humor, entertaining</td>\n",
              "      <td>train</td>\n",
              "      <td>imdb</td>\n",
              "      <td>four teenage misfits simon jay neil finished l...</td>\n",
              "    </tr>\n",
              "    <tr>\n",
              "      <th>...</th>\n",
              "      <td>...</td>\n",
              "      <td>...</td>\n",
              "      <td>...</td>\n",
              "      <td>...</td>\n",
              "      <td>...</td>\n",
              "      <td>...</td>\n",
              "      <td>...</td>\n",
              "    </tr>\n",
              "    <tr>\n",
              "      <th>14798</th>\n",
              "      <td>tt0099409</td>\n",
              "      <td>Desperate Hours</td>\n",
              "      <td>In Utah, Nancy Breyers (Kelly Lynch) is a defe...</td>\n",
              "      <td>violence, neo noir, murder</td>\n",
              "      <td>train</td>\n",
              "      <td>wikipedia</td>\n",
              "      <td>utah nancy breyers kelly lynch defense lawyer ...</td>\n",
              "    </tr>\n",
              "    <tr>\n",
              "      <th>14799</th>\n",
              "      <td>tt0346631</td>\n",
              "      <td>Blood and Bone</td>\n",
              "      <td>Fresh out of prison, Isaiah Bone moves to Los ...</td>\n",
              "      <td>revenge, violence</td>\n",
              "      <td>train</td>\n",
              "      <td>wikipedia</td>\n",
              "      <td>fresh prison isaiah bone moves los angeles und...</td>\n",
              "    </tr>\n",
              "    <tr>\n",
              "      <th>14800</th>\n",
              "      <td>tt0319736</td>\n",
              "      <td>The Legend of Bhagat Singh</td>\n",
              "      <td>Bhagat Singh was born in British India in 1907...</td>\n",
              "      <td>avant garde</td>\n",
              "      <td>train</td>\n",
              "      <td>wikipedia</td>\n",
              "      <td>bhagat singh born british india child witnesse...</td>\n",
              "    </tr>\n",
              "    <tr>\n",
              "      <th>14801</th>\n",
              "      <td>tt0235154</td>\n",
              "      <td>Ruang talok 69</td>\n",
              "      <td>Tum is a secretary working for a bank when the...</td>\n",
              "      <td>violence, murder</td>\n",
              "      <td>test</td>\n",
              "      <td>wikipedia</td>\n",
              "      <td>tum secretary working bank company forced shed...</td>\n",
              "    </tr>\n",
              "    <tr>\n",
              "      <th>14802</th>\n",
              "      <td>tt0301777</td>\n",
              "      <td>Robot Stories</td>\n",
              "      <td>The film is divided up to four short stories:\\...</td>\n",
              "      <td>satire, flashback</td>\n",
              "      <td>train</td>\n",
              "      <td>wikipedia</td>\n",
              "      <td>film divided four short stories robot baby you...</td>\n",
              "    </tr>\n",
              "    <tr>\n",
              "      <th>14803</th>\n",
              "      <td>tt0028010</td>\n",
              "      <td>My Man Godfrey</td>\n",
              "      <td>During the Great Depression, Godfrey \"Smith\" P...</td>\n",
              "      <td>romantic, comedy, satire, depressing</td>\n",
              "      <td>train</td>\n",
              "      <td>wikipedia</td>\n",
              "      <td>great depression godfrey smith parke william p...</td>\n",
              "    </tr>\n",
              "    <tr>\n",
              "      <th>14804</th>\n",
              "      <td>tt0064110</td>\n",
              "      <td>The Bridge at Remagen</td>\n",
              "      <td>The film opens with the U.S. Army failing to c...</td>\n",
              "      <td>murder</td>\n",
              "      <td>train</td>\n",
              "      <td>wikipedia</td>\n",
              "      <td>film opens u army failing capture still intact...</td>\n",
              "    </tr>\n",
              "    <tr>\n",
              "      <th>14805</th>\n",
              "      <td>tt0053085</td>\n",
              "      <td>The Mummy</td>\n",
              "      <td>In 1921, an archaeological expedition led by S...</td>\n",
              "      <td>revenge</td>\n",
              "      <td>train</td>\n",
              "      <td>wikipedia</td>\n",
              "      <td>archaeological expedition led sir joseph whemp...</td>\n",
              "    </tr>\n",
              "    <tr>\n",
              "      <th>14806</th>\n",
              "      <td>tt0045470</td>\n",
              "      <td>Die Geschichte vom kleinen Muck</td>\n",
              "      <td>An old artisan in a Middle Eastern town finds ...</td>\n",
              "      <td>psychedelic, fantasy</td>\n",
              "      <td>test</td>\n",
              "      <td>wikipedia</td>\n",
              "      <td>old artisan middle eastern town finds brunt ab...</td>\n",
              "    </tr>\n",
              "    <tr>\n",
              "      <th>14807</th>\n",
              "      <td>tt0049434</td>\n",
              "      <td>The Last Wagon</td>\n",
              "      <td>Sheriff Bull Harper (George Mathews) is taking...</td>\n",
              "      <td>revenge, murder</td>\n",
              "      <td>train</td>\n",
              "      <td>wikipedia</td>\n",
              "      <td>sheriff bull harper george mathews taking coma...</td>\n",
              "    </tr>\n",
              "    <tr>\n",
              "      <th>14808</th>\n",
              "      <td>tt0052837</td>\n",
              "      <td>The Gazebo</td>\n",
              "      <td>Television writer and director Elliott Nash (G...</td>\n",
              "      <td>suspenseful, murder</td>\n",
              "      <td>test</td>\n",
              "      <td>wikipedia</td>\n",
              "      <td>television writer director elliott nash glenn ...</td>\n",
              "    </tr>\n",
              "    <tr>\n",
              "      <th>14809</th>\n",
              "      <td>tt0256524</td>\n",
              "      <td>The Curse of the Jade Scorpion</td>\n",
              "      <td>In 1940, C.W. Briggs (Woody Allen) is an insur...</td>\n",
              "      <td>comedy</td>\n",
              "      <td>train</td>\n",
              "      <td>wikipedia</td>\n",
              "      <td>c w briggs woody allen insurance investigator ...</td>\n",
              "    </tr>\n",
              "    <tr>\n",
              "      <th>14810</th>\n",
              "      <td>tt2209418</td>\n",
              "      <td>Before Midnight</td>\n",
              "      <td>Nine years have passed since Before Sunset. Je...</td>\n",
              "      <td>boring, romantic, fantasy, philosophical, stor...</td>\n",
              "      <td>train</td>\n",
              "      <td>wikipedia</td>\n",
              "      <td>nine years passed since sunset jesse c line be...</td>\n",
              "    </tr>\n",
              "    <tr>\n",
              "      <th>14811</th>\n",
              "      <td>tt0023151</td>\n",
              "      <td>The Lost Squadron</td>\n",
              "      <td>Captain \"Gibby\" Gibson (Richard Dix) and his c...</td>\n",
              "      <td>romantic, murder</td>\n",
              "      <td>train</td>\n",
              "      <td>wikipedia</td>\n",
              "      <td>captain gibby gibson richard dix close friend ...</td>\n",
              "    </tr>\n",
              "    <tr>\n",
              "      <th>14812</th>\n",
              "      <td>tt1890725</td>\n",
              "      <td>Blood-C</td>\n",
              "      <td>Blood-C is set in an isolated rural town on th...</td>\n",
              "      <td>violence, alternate reality, flashback</td>\n",
              "      <td>val</td>\n",
              "      <td>wikipedia</td>\n",
              "      <td>blood c set isolated rural town shore lake suw...</td>\n",
              "    </tr>\n",
              "    <tr>\n",
              "      <th>14813</th>\n",
              "      <td>tt0078078</td>\n",
              "      <td>Petey Wheatstraw</td>\n",
              "      <td>Petey Wheatstraw (Rudy Ray Moore) is born duri...</td>\n",
              "      <td>paranormal, murder, blaxploitation</td>\n",
              "      <td>train</td>\n",
              "      <td>wikipedia</td>\n",
              "      <td>petey wheatstraw rudy ray moore born great mia...</td>\n",
              "    </tr>\n",
              "    <tr>\n",
              "      <th>14814</th>\n",
              "      <td>tt3289956</td>\n",
              "      <td>The Autopsy of Jane Doe</td>\n",
              "      <td>An unidentified corpse of a woman is found hal...</td>\n",
              "      <td>dark, cruelty, murder, paranormal, violence, s...</td>\n",
              "      <td>test</td>\n",
              "      <td>wikipedia</td>\n",
              "      <td>unidentified corpse woman found half buried ba...</td>\n",
              "    </tr>\n",
              "    <tr>\n",
              "      <th>14815</th>\n",
              "      <td>tt0033482</td>\n",
              "      <td>El conde de Montecristo</td>\n",
              "      <td>=== Summary ===\\nOn the day of his wedding to ...</td>\n",
              "      <td>revenge</td>\n",
              "      <td>train</td>\n",
              "      <td>wikipedia</td>\n",
              "      <td>summary day wedding merc edmond dant first mat...</td>\n",
              "    </tr>\n",
              "    <tr>\n",
              "      <th>14816</th>\n",
              "      <td>tt0105585</td>\n",
              "      <td>Thunderheart</td>\n",
              "      <td>During the early 1970s, FBI agent Ray Levoi is...</td>\n",
              "      <td>suspenseful, murder, flashback</td>\n",
              "      <td>test</td>\n",
              "      <td>wikipedia</td>\n",
              "      <td>early fbi agent ray levoi assigned aid investi...</td>\n",
              "    </tr>\n",
              "    <tr>\n",
              "      <th>14817</th>\n",
              "      <td>tt0028522</td>\n",
              "      <td>Yellow Dust</td>\n",
              "      <td>The film opens in the hills of California. Bob...</td>\n",
              "      <td>violence, romantic, historical fiction</td>\n",
              "      <td>train</td>\n",
              "      <td>wikipedia</td>\n",
              "      <td>film opens hills california bob culpepper coll...</td>\n",
              "    </tr>\n",
              "    <tr>\n",
              "      <th>14818</th>\n",
              "      <td>tt0045053</td>\n",
              "      <td>The Prisoner of Zenda</td>\n",
              "      <td>On his deathbed, the king of Ruritania announc...</td>\n",
              "      <td>action</td>\n",
              "      <td>train</td>\n",
              "      <td>wikipedia</td>\n",
              "      <td>deathbed king ruritania announces two twin son...</td>\n",
              "    </tr>\n",
              "    <tr>\n",
              "      <th>14819</th>\n",
              "      <td>tt1869716</td>\n",
              "      <td>The East</td>\n",
              "      <td>Jane, an operative for the private intelligenc...</td>\n",
              "      <td>suspenseful, neo noir, violence, tragedy, reve...</td>\n",
              "      <td>test</td>\n",
              "      <td>wikipedia</td>\n",
              "      <td>jane operative private intelligence firm hille...</td>\n",
              "    </tr>\n",
              "    <tr>\n",
              "      <th>14820</th>\n",
              "      <td>tt0074646</td>\n",
              "      <td>Hot Potato</td>\n",
              "      <td>Hot Potato begins in Chang Lan, a fictional co...</td>\n",
              "      <td>blaxploitation</td>\n",
              "      <td>train</td>\n",
              "      <td>wikipedia</td>\n",
              "      <td>hot potato begins chang lan fictional country ...</td>\n",
              "    </tr>\n",
              "    <tr>\n",
              "      <th>14821</th>\n",
              "      <td>tt0025601</td>\n",
              "      <td>One Night of Love</td>\n",
              "      <td>Opera singer Mary Barrett (Grace Moore) leaves...</td>\n",
              "      <td>romantic</td>\n",
              "      <td>val</td>\n",
              "      <td>wikipedia</td>\n",
              "      <td>opera singer mary barrett grace moore leaves s...</td>\n",
              "    </tr>\n",
              "    <tr>\n",
              "      <th>14822</th>\n",
              "      <td>tt0102592</td>\n",
              "      <td>One False Move</td>\n",
              "      <td>Three criminals, Ray, Pluto and Fantasia (Ray'...</td>\n",
              "      <td>neo noir, realism, murder, violence, atmospher...</td>\n",
              "      <td>train</td>\n",
              "      <td>wikipedia</td>\n",
              "      <td>three criminals ray pluto fantasia ray girlfri...</td>\n",
              "    </tr>\n",
              "    <tr>\n",
              "      <th>14823</th>\n",
              "      <td>tt0219952</td>\n",
              "      <td>Lucky Numbers</td>\n",
              "      <td>In 1988 Russ Richards (John Travolta), the wea...</td>\n",
              "      <td>comedy, murder</td>\n",
              "      <td>test</td>\n",
              "      <td>wikipedia</td>\n",
              "      <td>russ richards john travolta weatherman harrisb...</td>\n",
              "    </tr>\n",
              "    <tr>\n",
              "      <th>14824</th>\n",
              "      <td>tt1371159</td>\n",
              "      <td>Iron Man 2</td>\n",
              "      <td>In Russia, the media covers Tony Stark's discl...</td>\n",
              "      <td>good versus evil, violence</td>\n",
              "      <td>train</td>\n",
              "      <td>wikipedia</td>\n",
              "      <td>russia media covers tony stark disclosure iden...</td>\n",
              "    </tr>\n",
              "    <tr>\n",
              "      <th>14825</th>\n",
              "      <td>tt0063443</td>\n",
              "      <td>Play Dirty</td>\n",
              "      <td>During the North African Campaign in World War...</td>\n",
              "      <td>anti war</td>\n",
              "      <td>train</td>\n",
              "      <td>wikipedia</td>\n",
              "      <td>north african campaign world war ii captain do...</td>\n",
              "    </tr>\n",
              "    <tr>\n",
              "      <th>14826</th>\n",
              "      <td>tt0039464</td>\n",
              "      <td>High Wall</td>\n",
              "      <td>Steven Kenet catches his unfaithful wife in th...</td>\n",
              "      <td>murder</td>\n",
              "      <td>test</td>\n",
              "      <td>wikipedia</td>\n",
              "      <td>steven kenet catches unfaithful wife apartment...</td>\n",
              "    </tr>\n",
              "    <tr>\n",
              "      <th>14827</th>\n",
              "      <td>tt0235166</td>\n",
              "      <td>Against All Hope</td>\n",
              "      <td>Sometime in the 1950s in Chicago a man, Cecil ...</td>\n",
              "      <td>christian film</td>\n",
              "      <td>test</td>\n",
              "      <td>wikipedia</td>\n",
              "      <td>sometime chicago man cecil moe michael madsen ...</td>\n",
              "    </tr>\n",
              "  </tbody>\n",
              "</table>\n",
              "<p>14828 rows × 7 columns</p>\n",
              "</div>"
            ],
            "text/plain": [
              "         imdb_id  ...                                 preprocessed_plots\n",
              "0      tt0057603  ...  note synopsis orginal italian release segments...\n",
              "1      tt1733125  ...  two thousand years ago nhagruul foul sorcerer ...\n",
              "2      tt0033045  ...  matuschek gift store budapest workplace alfred...\n",
              "3      tt0113862  ...  glenn holland not morning person anyone standa...\n",
              "4      tt0086250  ...  may cuban man named tony montana al pacino cla...\n",
              "5      tt1315981  ...  george falconer colin firth approaches car acc...\n",
              "6      tt0249380  ...  baise moi tells story nadine manu go violent s...\n",
              "7      tt0408790  ...  kyle pratt jodie foster propulsion engineer ba...\n",
              "8      tt0021079  ...  small time italian american criminals caesar e...\n",
              "9      tt1615065  ...  movie begins video shot men hands tied behind ...\n",
              "10     tt0089606  ...  action takes place years sweden troubled year ...\n",
              "11     tt0078908  ...  somafree institute dr hal raglan humiliates pa...\n",
              "12     tt0795493  ...  brothers terry colin farrell ian ewan mcgregor...\n",
              "13     tt0093389  ...  arrival train pulls station north china soldie...\n",
              "14     tt0120899  ...  film tells story pettigrew family living famil...\n",
              "15     tt1937113  ...  hours end previous game death traitorous gener...\n",
              "16     tt1232776  ...  open mia katie jarvis year old youngster hunch...\n",
              "17     tt0402399  ...  shot trees reflected water girl pocahontas inv...\n",
              "18     tt1619029  ...  film begins close jackie kennedy natalie portm...\n",
              "19     tt0102007  ...  creepy scary story centers around smurl family...\n",
              "20     tt0398712  ...  new years eve detroit oldest police station pr...\n",
              "21     tt0036868  ...  world war ii fred derry dana andrews homer par...\n",
              "22     tt0116571  ...  film told perspective grover tj literary devic...\n",
              "23     tt0104779  ...  nigel dobson hugh grant wife fiona kristn scot...\n",
              "24     tt2005374  ...  film opens anchorage motel room cindy paulson ...\n",
              "25     tt0865556  ...  south boston teenager jason tripitikas fan mar...\n",
              "26     tt1454029  ...  civil rights era jackson mississippi eugenia s...\n",
              "27     tt1411238  ...  years agowe see two young kids named emma adam...\n",
              "28     tt0118689  ...  mr bean rowan atkinson well meaning hopelessly...\n",
              "29     tt1716772  ...  four teenage misfits simon jay neil finished l...\n",
              "...          ...  ...                                                ...\n",
              "14798  tt0099409  ...  utah nancy breyers kelly lynch defense lawyer ...\n",
              "14799  tt0346631  ...  fresh prison isaiah bone moves los angeles und...\n",
              "14800  tt0319736  ...  bhagat singh born british india child witnesse...\n",
              "14801  tt0235154  ...  tum secretary working bank company forced shed...\n",
              "14802  tt0301777  ...  film divided four short stories robot baby you...\n",
              "14803  tt0028010  ...  great depression godfrey smith parke william p...\n",
              "14804  tt0064110  ...  film opens u army failing capture still intact...\n",
              "14805  tt0053085  ...  archaeological expedition led sir joseph whemp...\n",
              "14806  tt0045470  ...  old artisan middle eastern town finds brunt ab...\n",
              "14807  tt0049434  ...  sheriff bull harper george mathews taking coma...\n",
              "14808  tt0052837  ...  television writer director elliott nash glenn ...\n",
              "14809  tt0256524  ...  c w briggs woody allen insurance investigator ...\n",
              "14810  tt2209418  ...  nine years passed since sunset jesse c line be...\n",
              "14811  tt0023151  ...  captain gibby gibson richard dix close friend ...\n",
              "14812  tt1890725  ...  blood c set isolated rural town shore lake suw...\n",
              "14813  tt0078078  ...  petey wheatstraw rudy ray moore born great mia...\n",
              "14814  tt3289956  ...  unidentified corpse woman found half buried ba...\n",
              "14815  tt0033482  ...  summary day wedding merc edmond dant first mat...\n",
              "14816  tt0105585  ...  early fbi agent ray levoi assigned aid investi...\n",
              "14817  tt0028522  ...  film opens hills california bob culpepper coll...\n",
              "14818  tt0045053  ...  deathbed king ruritania announces two twin son...\n",
              "14819  tt1869716  ...  jane operative private intelligence firm hille...\n",
              "14820  tt0074646  ...  hot potato begins chang lan fictional country ...\n",
              "14821  tt0025601  ...  opera singer mary barrett grace moore leaves s...\n",
              "14822  tt0102592  ...  three criminals ray pluto fantasia ray girlfri...\n",
              "14823  tt0219952  ...  russ richards john travolta weatherman harrisb...\n",
              "14824  tt1371159  ...  russia media covers tony stark disclosure iden...\n",
              "14825  tt0063443  ...  north african campaign world war ii captain do...\n",
              "14826  tt0039464  ...  steven kenet catches unfaithful wife apartment...\n",
              "14827  tt0235166  ...  sometime chicago man cecil moe michael madsen ...\n",
              "\n",
              "[14828 rows x 7 columns]"
            ]
          },
          "metadata": {
            "tags": []
          },
          "execution_count": 11
        }
      ]
    },
    {
      "cell_type": "markdown",
      "metadata": {
        "id": "VT4rEem9xEJH",
        "colab_type": "text"
      },
      "source": [
        "**Preprocessing Labels**"
      ]
    },
    {
      "cell_type": "code",
      "metadata": {
        "id": "v2MunYZsxHEz",
        "colab_type": "code",
        "colab": {}
      },
      "source": [
        "def remove_spaces(x):\n",
        "    x=x.split(\",\")\n",
        "    nospace=[]\n",
        "    for item in x:\n",
        "        item=item.lstrip()\n",
        "        nospace.append(item)\n",
        "    return (\",\").join(nospace)  "
      ],
      "execution_count": 0,
      "outputs": []
    },
    {
      "cell_type": "code",
      "metadata": {
        "id": "DFf4h6AIxP-r",
        "colab_type": "code",
        "colab": {}
      },
      "source": [
        "df['tags']=df['tags'].apply(remove_spaces)"
      ],
      "execution_count": 0,
      "outputs": []
    },
    {
      "cell_type": "code",
      "metadata": {
        "trusted": true,
        "id": "TQeys0v927L5",
        "colab_type": "code",
        "colab": {}
      },
      "source": [
        "train=df.loc[(df.split=='train')|(df.split==\"val\")]\n",
        "train=train.reset_index()\n",
        "test=df.loc[df.split=='test']\n",
        "test=test.reset_index()"
      ],
      "execution_count": 0,
      "outputs": []
    },
    {
      "cell_type": "code",
      "metadata": {
        "id": "xfl9GIkoK-iJ",
        "colab_type": "code",
        "colab": {}
      },
      "source": [
        ""
      ],
      "execution_count": 0,
      "outputs": []
    },
    {
      "cell_type": "markdown",
      "metadata": {
        "id": "CM-P2RyJ866t",
        "colab_type": "text"
      },
      "source": [
        "**SPLITTTING INTO TRAIN AND TEST**"
      ]
    },
    {
      "cell_type": "code",
      "metadata": {
        "trusted": true,
        "id": "HLq3kJrF27L_",
        "colab_type": "code",
        "outputId": "dbda9f18-59b4-47d2-e014-aac921244cdf",
        "colab": {
          "base_uri": "https://localhost:8080/",
          "height": 51
        }
      },
      "source": [
        "print(\"Total number of points for training: \",train.shape[0])\n",
        "print(\"Total number of points for test: \",test.shape[0])"
      ],
      "execution_count": 15,
      "outputs": [
        {
          "output_type": "stream",
          "text": [
            "Total number of points for training:  11862\n",
            "Total number of points for test:  2966\n"
          ],
          "name": "stdout"
        }
      ]
    },
    {
      "cell_type": "markdown",
      "metadata": {
        "id": "uoVcjV2L27ML",
        "colab_type": "text"
      },
      "source": [
        "**Vectorizing multi-label tags**"
      ]
    },
    {
      "cell_type": "code",
      "metadata": {
        "trusted": true,
        "id": "6IMHaT_H27MO",
        "colab_type": "code",
        "colab": {}
      },
      "source": [
        "vectorizer = CountVectorizer(tokenizer = lambda x: x.split(\",\"), binary='true')\n",
        "y_train = vectorizer.fit_transform(train['tags']).toarray()\n",
        "y_test=vectorizer.transform(test['tags']).toarray()"
      ],
      "execution_count": 0,
      "outputs": []
    },
    {
      "cell_type": "code",
      "metadata": {
        "id": "Ekv_ZRODSq_E",
        "colab_type": "code",
        "outputId": "8b6700a4-c63d-4c1e-ed13-a540b528cf2f",
        "colab": {
          "base_uri": "https://localhost:8080/",
          "height": 34
        }
      },
      "source": [
        "y_train.shape"
      ],
      "execution_count": 17,
      "outputs": [
        {
          "output_type": "execute_result",
          "data": {
            "text/plain": [
              "(11862, 71)"
            ]
          },
          "metadata": {
            "tags": []
          },
          "execution_count": 17
        }
      ]
    },
    {
      "cell_type": "markdown",
      "metadata": {
        "id": "aSzPSE9yBUdX",
        "colab_type": "text"
      },
      "source": [
        "# **MODELS**"
      ]
    },
    {
      "cell_type": "markdown",
      "metadata": {
        "id": "M7NyM-2P27MT",
        "colab_type": "text"
      },
      "source": [
        " **BASELINE MODEL:ALLOCATING TOP 3 MOST FREQUENT TAGS FOR ALL THE DATA POINTS**"
      ]
    },
    {
      "cell_type": "code",
      "metadata": {
        "trusted": true,
        "id": "gS-2oPIF27MU",
        "colab_type": "code",
        "colab": {}
      },
      "source": [
        "top_three_tags=\"murder,violence,romantic\""
      ],
      "execution_count": 0,
      "outputs": []
    },
    {
      "cell_type": "code",
      "metadata": {
        "trusted": true,
        "id": "_QVZ21W827Mb",
        "colab_type": "code",
        "colab": {}
      },
      "source": [
        "test['baseline_prediction']=top_three_tags"
      ],
      "execution_count": 0,
      "outputs": []
    },
    {
      "cell_type": "code",
      "metadata": {
        "trusted": true,
        "id": "pkDvZ7Ns27Me",
        "colab_type": "code",
        "colab": {}
      },
      "source": [
        "multilabel_y_test_baseline = vectorizer.transform(test['baseline_prediction'])"
      ],
      "execution_count": 0,
      "outputs": []
    },
    {
      "cell_type": "code",
      "metadata": {
        "trusted": true,
        "id": "8lvxZGH327Mm",
        "colab_type": "code",
        "outputId": "9dc76eea-a0d1-4a76-e006-da46fababfef",
        "colab": {
          "base_uri": "https://localhost:8080/",
          "height": 34
        }
      },
      "source": [
        "print(\"micro f1 scoore :\",metrics.f1_score(y_test,multilabel_y_test_baseline, average = 'micro'))"
      ],
      "execution_count": 0,
      "outputs": [
        {
          "output_type": "stream",
          "text": [
            "micro f1 scoore : 0.29609375\n"
          ],
          "name": "stdout"
        }
      ]
    },
    {
      "cell_type": "markdown",
      "metadata": {
        "id": "0vdz-z7927My",
        "colab_type": "text"
      },
      "source": [
        "**This is our baseline model**"
      ]
    },
    {
      "cell_type": "code",
      "metadata": {
        "id": "1gqgVpKZDOXC",
        "colab_type": "code",
        "colab": {}
      },
      "source": [
        "def plot_scores(df):\n",
        "  \n",
        "  figure=plt.figure()\n",
        "  \n",
        "  plt.plot(np.log10(np.array([10**-5,10**-4,10**-3,10**-2, 10**-1, 10**1])),df.mean_train_score,label=\"Train\")\n",
        "  plt.plot(np.log10(np.array([10**-5,10**-4,10**-3,10**-2, 10**-1, 10**1])),df.mean_test_score,label=\"Test\")\n",
        "  plt.xlabel(\"Log10 of parameters\")\n",
        "  plt.ylabel(\"F1_micro\")\n",
        "  plt.title(\"F1_micro vs log10 of parameters\")\n",
        "  plt.xlim((-5,2))\n",
        "  plt.legend()\n",
        "  plt.show()\n",
        " "
      ],
      "execution_count": 0,
      "outputs": []
    },
    {
      "cell_type": "markdown",
      "metadata": {
        "id": "-AEpAvcDBsv4",
        "colab_type": "text"
      },
      "source": [
        "**LINEAR MODELS**\n",
        "\n",
        "\n",
        "1.   Logistic regression\n",
        "\n"
      ]
    },
    {
      "cell_type": "code",
      "metadata": {
        "id": "aQlD_6g2Book",
        "colab_type": "code",
        "colab": {}
      },
      "source": [
        "vectorizer = TfidfVectorizer(min_df=15,max_df=0.9)\n",
        "vectorizer.fit(train['preprocessed_plots'])\n",
        "x_train=vectorizer.transform(train['preprocessed_plots'])\n",
        "x_test=vectorizer.transform(test['preprocessed_plots'])"
      ],
      "execution_count": 0,
      "outputs": []
    },
    {
      "cell_type": "code",
      "metadata": {
        "id": "mSSoUbI29OpE",
        "colab_type": "code",
        "outputId": "f76dc432-e0ca-4675-87ea-e1c02561c55d",
        "colab": {
          "base_uri": "https://localhost:8080/",
          "height": 170
        }
      },
      "source": [
        "\n",
        "\n",
        "params = {\n",
        "    \"estimator__alpha\": [10**-5,10**-4,10**-3,10**-2, 10**-1, 10**1]\n",
        "}\n",
        "\n",
        "clf = OneVsRestClassifier(SGDClassifier(loss='log', penalty='l1',n_jobs=-1),n_jobs=-1)\n",
        "\n",
        "model=GridSearchCV(clf, param_grid=params, scoring='f1_micro',n_jobs=-1,return_train_score=True,cv=3)\n",
        "\n",
        "model.fit(x_train, y_train)\n",
        "\n",
        "print (\"The best cross-validation score:\",model.best_score_)\n",
        "print (\"The best parameters:\",model.best_params_)"
      ],
      "execution_count": 0,
      "outputs": [
        {
          "output_type": "stream",
          "text": [
            "Fitting 3 folds for each of 6 candidates, totalling 18 fits\n"
          ],
          "name": "stdout"
        },
        {
          "output_type": "stream",
          "text": [
            "[Parallel(n_jobs=-1)]: Using backend LokyBackend with 2 concurrent workers.\n",
            "[Parallel(n_jobs=-1)]: Done   1 tasks      | elapsed:   35.8s\n",
            "[Parallel(n_jobs=-1)]: Done   4 tasks      | elapsed:  1.4min\n",
            "[Parallel(n_jobs=-1)]: Done   9 tasks      | elapsed:  2.8min\n",
            "[Parallel(n_jobs=-1)]: Done  14 tasks      | elapsed:  5.8min\n",
            "[Parallel(n_jobs=-1)]: Done  18 out of  18 | elapsed:  6.6min finished\n"
          ],
          "name": "stderr"
        },
        {
          "output_type": "stream",
          "text": [
            "The best cross-validation score: 0.286537129003598\n",
            "The best parameters: {'estimator__alpha': 1e-05}\n"
          ],
          "name": "stdout"
        }
      ]
    },
    {
      "cell_type": "code",
      "metadata": {
        "id": "jw2VNUYTFWxr",
        "colab_type": "code",
        "outputId": "4dfd92f2-3490-444a-aa28-28fd7742881c",
        "colab": {
          "base_uri": "https://localhost:8080/",
          "height": 295
        }
      },
      "source": [
        "plot_scores(pd.DataFrame(model.cv_results_))"
      ],
      "execution_count": 0,
      "outputs": [
        {
          "output_type": "display_data",
          "data": {
            "image/png": "[encoded data removed]",
            "text/plain": [
              "<Figure size 432x288 with 1 Axes>"
            ]
          },
          "metadata": {
            "tags": []
          }
        }
      ]
    },
    {
      "cell_type": "code",
      "metadata": {
        "id": "4-cz11xNOo4K",
        "colab_type": "code",
        "outputId": "df4b1ad1-1b1e-4a0b-b147-b01f0e69f23b",
        "colab": {
          "base_uri": "https://localhost:8080/",
          "height": 51
        }
      },
      "source": [
        "\n",
        "\n",
        "classifier = OneVsRestClassifier(SGDClassifier(loss='log', alpha=0.00001, penalty='l1'), n_jobs=-1)\n",
        "classifier.fit(x_train, y_train)\n",
        "predictions = classifier.predict (x_test)\n",
        "\n",
        "precision = precision_score(y_test, predictions, average='micro')\n",
        "recall = recall_score(y_test, predictions, average='micro')\n",
        "f1 = f1_score(y_test, predictions, average='micro')\n",
        " \n",
        "print(\"Micro-average quality numbers\")\n",
        "print(\"Precision: {:.4f}, Recall: {:.4f}, F1-measure: {:.4f}\".format(precision, recall, f1))"
      ],
      "execution_count": 0,
      "outputs": [
        {
          "output_type": "stream",
          "text": [
            "Micro-average quality numbers\n",
            "Precision: 0.4462, Recall: 0.2276, F1-measure: 0.3014\n"
          ],
          "name": "stdout"
        }
      ]
    },
    {
      "cell_type": "markdown",
      "metadata": {
        "id": "VZTyCUnt9hLj",
        "colab_type": "text"
      },
      "source": [
        "\n",
        "2.  Linear SVM\n",
        "\n"
      ]
    },
    {
      "cell_type": "code",
      "metadata": {
        "id": "qab5TM1NZXhv",
        "colab_type": "code",
        "outputId": "832a0b71-7a68-42e2-bfbc-bafd9d2cc9b5",
        "colab": {
          "base_uri": "https://localhost:8080/",
          "height": 170
        }
      },
      "source": [
        "params = {\n",
        "    \"estimator__alpha\": [10**-5,10**-4,10**-3,10**-2, 10**-1, 10**1]\n",
        "}\n",
        "\n",
        "clf = OneVsRestClassifier(SGDClassifier(loss='hinge', penalty='l1',n_jobs=-1),n_jobs=-1)\n",
        "\n",
        "model=GridSearchCV(clf, param_grid=params, scoring='f1_micro',n_jobs=-1,return_train_score=True,cv=3,verbose=10)\n",
        "\n",
        "model.fit(x_train, y_train)\n",
        "\n",
        "print (\"The best cross-validation score:\",model.best_score_)\n",
        "print (\"The best parameters:\",model.best_params_)"
      ],
      "execution_count": 0,
      "outputs": [
        {
          "output_type": "stream",
          "text": [
            "Fitting 3 folds for each of 6 candidates, totalling 18 fits\n"
          ],
          "name": "stdout"
        },
        {
          "output_type": "stream",
          "text": [
            "[Parallel(n_jobs=-1)]: Using backend LokyBackend with 2 concurrent workers.\n",
            "[Parallel(n_jobs=-1)]: Done   1 tasks      | elapsed:   33.3s\n",
            "[Parallel(n_jobs=-1)]: Done   4 tasks      | elapsed:  1.4min\n",
            "[Parallel(n_jobs=-1)]: Done   9 tasks      | elapsed:  2.2min\n",
            "[Parallel(n_jobs=-1)]: Done  14 tasks      | elapsed:  4.6min\n",
            "[Parallel(n_jobs=-1)]: Done  18 out of  18 | elapsed:  5.9min finished\n"
          ],
          "name": "stderr"
        },
        {
          "output_type": "stream",
          "text": [
            "The best cross-validation score: 0.28152269967303\n",
            "The best parameters: {'estimator__alpha': 1e-05}\n"
          ],
          "name": "stdout"
        }
      ]
    },
    {
      "cell_type": "code",
      "metadata": {
        "id": "z3Zg4U41Lno_",
        "colab_type": "code",
        "outputId": "79b974b3-44a9-4cf4-94a3-6e279dabfd8d",
        "colab": {
          "base_uri": "https://localhost:8080/",
          "height": 295
        }
      },
      "source": [
        "plot_scores(pd.DataFrame(model.cv_results_))"
      ],
      "execution_count": 0,
      "outputs": [
        {
          "output_type": "display_data",
          "data": {
            "image/png": "[encoded data removed]",
            "text/plain": [
              "<Figure size 432x288 with 1 Axes>"
            ]
          },
          "metadata": {
            "tags": []
          }
        }
      ]
    },
    {
      "cell_type": "code",
      "metadata": {
        "id": "56D_Ziho9qI8",
        "colab_type": "code",
        "outputId": "4a766520-6917-42cf-b87d-548ff2139ff5",
        "colab": {
          "base_uri": "https://localhost:8080/",
          "height": 51
        }
      },
      "source": [
        "classifier = OneVsRestClassifier(SGDClassifier(loss='hinge', alpha=0.00001, penalty='l1'), n_jobs=-1)\n",
        "classifier.fit(x_train, y_train)\n",
        "predictions = classifier.predict (x_test)\n",
        "\n",
        "precision = precision_score(y_test, predictions, average='micro')\n",
        "recall = recall_score(y_test, predictions, average='micro')\n",
        "f1 = f1_score(y_test, predictions, average='micro')\n",
        " \n",
        "print(\"Micro-average quality numbers\")\n",
        "print(\"Precision: {:.4f}, Recall: {:.4f}, F1-measure: {:.4f}\".format(precision, recall, f1))"
      ],
      "execution_count": 0,
      "outputs": [
        {
          "output_type": "stream",
          "text": [
            "Micro-average quality numbers\n",
            "Precision: 0.3523, Recall: 0.2676, F1-measure: 0.3041\n"
          ],
          "name": "stdout"
        }
      ]
    },
    {
      "cell_type": "markdown",
      "metadata": {
        "id": "sCkS3OZDc3g2",
        "colab_type": "text"
      },
      "source": [
        "**We see that the linear models on basic tfidf vectorization do not produce good results infact they are poor than the base model **"
      ]
    },
    {
      "cell_type": "markdown",
      "metadata": {
        "id": "srkJg-2xdIIO",
        "colab_type": "text"
      },
      "source": [
        "# **FEATURE ENGINEERING AND TWEAKING**"
      ]
    },
    {
      "cell_type": "markdown",
      "metadata": {
        "id": "VbVo1y9BdWU1",
        "colab_type": "text"
      },
      "source": [
        "**BI-GRAM MODEL**"
      ]
    },
    {
      "cell_type": "code",
      "metadata": {
        "id": "vQJHtH2xdVnq",
        "colab_type": "code",
        "colab": {}
      },
      "source": [
        "vectorizer = TfidfVectorizer(min_df=5,ngram_range=(2,2))\n",
        "vectorizer.fit(train['preprocessed_plots'])\n",
        "x_train=vectorizer.transform(train['preprocessed_plots'])\n",
        "x_test=vectorizer.transform(test['preprocessed_plots'])"
      ],
      "execution_count": 0,
      "outputs": []
    },
    {
      "cell_type": "code",
      "metadata": {
        "id": "GH6Qj9PvGJax",
        "colab_type": "code",
        "outputId": "093c014e-bc13-409b-9f6a-245de35c7be8",
        "colab": {
          "base_uri": "https://localhost:8080/",
          "height": 170
        }
      },
      "source": [
        "params = {\n",
        "    \"estimator__alpha\": [10**-5,10**-4,10**-3,10**-2, 10**-1, 10**1]\n",
        "}\n",
        "\n",
        "clf = OneVsRestClassifier(SGDClassifier(loss='log', penalty='l1',n_jobs=-1),n_jobs=-1)\n",
        "\n",
        "model=GridSearchCV(clf, param_grid=params, scoring='f1_micro',n_jobs=-1,return_train_score=True,cv=3,verbose=10)\n",
        "\n",
        "model.fit(x_train, y_train)\n",
        "\n",
        "print (\"The best cross-validation score:\",model.best_score_)\n",
        "print (\"The best parameters:\",model.best_params_)"
      ],
      "execution_count": 0,
      "outputs": [
        {
          "output_type": "stream",
          "text": [
            "Fitting 3 folds for each of 6 candidates, totalling 18 fits\n"
          ],
          "name": "stdout"
        },
        {
          "output_type": "stream",
          "text": [
            "[Parallel(n_jobs=-1)]: Using backend LokyBackend with 2 concurrent workers.\n",
            "[Parallel(n_jobs=-1)]: Done   1 tasks      | elapsed:   16.7s\n",
            "[Parallel(n_jobs=-1)]: Done   4 tasks      | elapsed:   41.4s\n",
            "[Parallel(n_jobs=-1)]: Done   9 tasks      | elapsed:  1.4min\n",
            "[Parallel(n_jobs=-1)]: Done  14 tasks      | elapsed:  2.9min\n",
            "[Parallel(n_jobs=-1)]: Done  18 out of  18 | elapsed:  3.3min finished\n"
          ],
          "name": "stderr"
        },
        {
          "output_type": "stream",
          "text": [
            "The best cross-validation score: 0.20976129949120373\n",
            "The best parameters: {'estimator__alpha': 1e-05}\n"
          ],
          "name": "stdout"
        }
      ]
    },
    {
      "cell_type": "code",
      "metadata": {
        "id": "_0P_rLxBLs3W",
        "colab_type": "code",
        "outputId": "69889a76-3b39-47dd-ad11-16c95ecfcbd7",
        "colab": {
          "base_uri": "https://localhost:8080/",
          "height": 295
        }
      },
      "source": [
        "plot_scores(pd.DataFrame(model.cv_results_))"
      ],
      "execution_count": 0,
      "outputs": [
        {
          "output_type": "display_data",
          "data": {
            "image/png": "[encoded data removed]",
            "text/plain": [
              "<Figure size 432x288 with 1 Axes>"
            ]
          },
          "metadata": {
            "tags": []
          }
        }
      ]
    },
    {
      "cell_type": "code",
      "metadata": {
        "id": "65XGZlM-eOkB",
        "colab_type": "code",
        "outputId": "a4d19c8e-04b4-4a3a-b140-66fcfa0152d8",
        "colab": {
          "base_uri": "https://localhost:8080/",
          "height": 51
        }
      },
      "source": [
        "classifier = OneVsRestClassifier(SGDClassifier(loss='log', alpha=0.00001, penalty='l1'), n_jobs=-1)\n",
        "classifier.fit(x_train, y_train)\n",
        "predictions = classifier.predict (x_test)\n",
        "\n",
        "precision = precision_score(y_test, predictions, average='micro')\n",
        "recall = recall_score(y_test, predictions, average='micro')\n",
        "f1 = f1_score(y_test, predictions, average='micro')\n",
        " \n",
        "print(\"Micro-average quality numbers\")\n",
        "print(\"Precision: {:.4f}, Recall: {:.4f}, F1-measure: {:.4f}\".format(precision, recall, f1))"
      ],
      "execution_count": 0,
      "outputs": [
        {
          "output_type": "stream",
          "text": [
            "Micro-average quality numbers\n",
            "Precision: 0.5407, Recall: 0.1599, F1-measure: 0.2469\n"
          ],
          "name": "stdout"
        }
      ]
    },
    {
      "cell_type": "markdown",
      "metadata": {
        "id": "EvQvpdOGQljF",
        "colab_type": "text"
      },
      "source": [
        "**TRIGRAM**"
      ]
    },
    {
      "cell_type": "code",
      "metadata": {
        "id": "Klv_dl6CQoxR",
        "colab_type": "code",
        "colab": {}
      },
      "source": [
        "vectorizer = TfidfVectorizer(min_df=5,ngram_range=(3,3))\n",
        "vectorizer.fit(train['preprocessed_plots'])\n",
        "x_train=vectorizer.transform(train['preprocessed_plots'])\n",
        "x_test=vectorizer.transform(test['preprocessed_plots'])"
      ],
      "execution_count": 0,
      "outputs": []
    },
    {
      "cell_type": "code",
      "metadata": {
        "id": "7RG1Vxp7Qq_6",
        "colab_type": "code",
        "outputId": "1e5437f9-cfd6-43db-889d-385b1cbb1285",
        "colab": {
          "base_uri": "https://localhost:8080/",
          "height": 170
        }
      },
      "source": [
        "params = {\n",
        "    \"estimator__alpha\":[10**-5,10**-4,10**-3,10**-2, 10**-1, 10**1]\n",
        "}\n",
        "\n",
        "clf = OneVsRestClassifier(SGDClassifier(loss='log', penalty='l1',n_jobs=-1),n_jobs=-1)\n",
        "\n",
        "model=GridSearchCV(clf, param_grid=params, scoring='f1_micro',n_jobs=-1,return_train_score=True,cv=3,verbose=10)\n",
        "\n",
        "model.fit(x_train, y_train)\n",
        "\n",
        "print (\"The best cross-validation score:\",model.best_score_)\n",
        "print (\"The best parameters:\",model.best_params_)"
      ],
      "execution_count": 0,
      "outputs": [
        {
          "output_type": "stream",
          "text": [
            "Fitting 3 folds for each of 6 candidates, totalling 18 fits\n"
          ],
          "name": "stdout"
        },
        {
          "output_type": "stream",
          "text": [
            "[Parallel(n_jobs=-1)]: Using backend LokyBackend with 2 concurrent workers.\n",
            "[Parallel(n_jobs=-1)]: Done   1 tasks      | elapsed:    4.8s\n",
            "[Parallel(n_jobs=-1)]: Done   4 tasks      | elapsed:    9.3s\n",
            "[Parallel(n_jobs=-1)]: Done   9 tasks      | elapsed:   19.2s\n",
            "[Parallel(n_jobs=-1)]: Done  14 tasks      | elapsed:   36.4s\n",
            "[Parallel(n_jobs=-1)]: Done  18 out of  18 | elapsed:   42.2s finished\n"
          ],
          "name": "stderr"
        },
        {
          "output_type": "stream",
          "text": [
            "The best cross-validation score: 0.19522724829765858\n",
            "The best parameters: {'estimator__alpha': 1e-05}\n"
          ],
          "name": "stdout"
        }
      ]
    },
    {
      "cell_type": "code",
      "metadata": {
        "id": "7MSaYC1vLvRP",
        "colab_type": "code",
        "outputId": "07db04c5-62e0-40e2-9959-2537ff752635",
        "colab": {
          "base_uri": "https://localhost:8080/",
          "height": 295
        }
      },
      "source": [
        "plot_scores(pd.DataFrame(model.cv_results_))"
      ],
      "execution_count": 0,
      "outputs": [
        {
          "output_type": "display_data",
          "data": {
            "image/png": "[encoded data removed]",
            "text/plain": [
              "<Figure size 432x288 with 1 Axes>"
            ]
          },
          "metadata": {
            "tags": []
          }
        }
      ]
    },
    {
      "cell_type": "code",
      "metadata": {
        "id": "_3o8jiXNQ1Tv",
        "colab_type": "code",
        "outputId": "c4cf2399-2efe-4eaa-926a-5fbc5351da10",
        "colab": {
          "base_uri": "https://localhost:8080/",
          "height": 51
        }
      },
      "source": [
        "classifier = OneVsRestClassifier(SGDClassifier(loss='log', alpha=1e-05, penalty='l1'), n_jobs=-1)\n",
        "classifier.fit(x_train, y_train)\n",
        "predictions = classifier.predict (x_test)\n",
        "\n",
        "precision = precision_score(y_test, predictions, average='micro')\n",
        "recall = recall_score(y_test, predictions, average='micro')\n",
        "f1 = f1_score(y_test, predictions, average='micro')\n",
        " \n",
        "print(\"Micro-average quality numbers\")\n",
        "print(\"Precision: {:.4f}, Recall: {:.4f}, F1-measure: {:.4f}\".format(precision, recall, f1))"
      ],
      "execution_count": 0,
      "outputs": [
        {
          "output_type": "stream",
          "text": [
            "Micro-average quality numbers\n",
            "Precision: 0.3040, Recall: 0.1490, F1-measure: 0.2000\n"
          ],
          "name": "stdout"
        }
      ]
    },
    {
      "cell_type": "markdown",
      "metadata": {
        "id": "MjxTlRjnOIgj",
        "colab_type": "text"
      },
      "source": [
        "**N-GRAM**"
      ]
    },
    {
      "cell_type": "code",
      "metadata": {
        "id": "vr0XXj2cOLLe",
        "colab_type": "code",
        "colab": {}
      },
      "source": [
        "vectorizer = TfidfVectorizer(min_df=5,ngram_range=(1,3))\n",
        "vectorizer.fit(train['preprocessed_plots'])\n",
        "x_train=vectorizer.transform(train['preprocessed_plots'])\n",
        "x_test=vectorizer.transform(test['preprocessed_plots'])"
      ],
      "execution_count": 0,
      "outputs": []
    },
    {
      "cell_type": "code",
      "metadata": {
        "id": "cffydtqtOLWn",
        "colab_type": "code",
        "outputId": "e5ba7333-5077-4e9b-efb3-42e6cca3e64f",
        "colab": {
          "base_uri": "https://localhost:8080/",
          "height": 170
        }
      },
      "source": [
        "params = {\n",
        "    \"estimator__alpha\":[10**-5,10**-4,10**-3,10**-2, 10**-1, 10**1]\n",
        "}\n",
        "\n",
        "clf = OneVsRestClassifier(SGDClassifier(loss='log', penalty='l1',n_jobs=-1),n_jobs=-1)\n",
        "\n",
        "model=GridSearchCV(clf, param_grid=params, scoring='f1_micro',n_jobs=-1,return_train_score=True,cv=3,verbose=10)\n",
        "\n",
        "model.fit(x_train, y_train)\n",
        "\n",
        "print (\"The best cross-validation score:\",model.best_score_)\n",
        "print (\"The best parameters:\",model.best_params_)"
      ],
      "execution_count": 0,
      "outputs": [
        {
          "output_type": "stream",
          "text": [
            "Fitting 3 folds for each of 6 candidates, totalling 18 fits\n"
          ],
          "name": "stdout"
        },
        {
          "output_type": "stream",
          "text": [
            "[Parallel(n_jobs=-1)]: Using backend LokyBackend with 2 concurrent workers.\n",
            "[Parallel(n_jobs=-1)]: Done   1 tasks      | elapsed:  1.1min\n",
            "[Parallel(n_jobs=-1)]: Done   4 tasks      | elapsed:  2.6min\n",
            "[Parallel(n_jobs=-1)]: Done   9 tasks      | elapsed:  4.9min\n",
            "[Parallel(n_jobs=-1)]: Done  14 tasks      | elapsed: 10.4min\n",
            "[Parallel(n_jobs=-1)]: Done  18 out of  18 | elapsed: 11.7min finished\n"
          ],
          "name": "stderr"
        },
        {
          "output_type": "stream",
          "text": [
            "The best cross-validation score: 0.2773359371242069\n",
            "The best parameters: {'estimator__alpha': 1e-05}\n"
          ],
          "name": "stdout"
        }
      ]
    },
    {
      "cell_type": "code",
      "metadata": {
        "id": "XUar76vyOQaP",
        "colab_type": "code",
        "outputId": "97c33a12-94eb-4c80-9b63-ef9854e81f16",
        "colab": {
          "base_uri": "https://localhost:8080/",
          "height": 295
        }
      },
      "source": [
        "plot_scores(pd.DataFrame(model.cv_results_))"
      ],
      "execution_count": 0,
      "outputs": [
        {
          "output_type": "display_data",
          "data": {
            "image/png": "[encoded data removed]",
            "text/plain": [
              "<Figure size 432x288 with 1 Axes>"
            ]
          },
          "metadata": {
            "tags": []
          }
        }
      ]
    },
    {
      "cell_type": "code",
      "metadata": {
        "id": "Hvx-nQNvOTdo",
        "colab_type": "code",
        "outputId": "f071d793-f439-49c2-f9c4-735716e731e5",
        "colab": {
          "base_uri": "https://localhost:8080/",
          "height": 51
        }
      },
      "source": [
        "classifier = OneVsRestClassifier(SGDClassifier(loss='log', alpha=1e-05, penalty='l1'), n_jobs=-1)\n",
        "classifier.fit(x_train, y_train)\n",
        "predictions = classifier.predict (x_test)\n",
        "\n",
        "precision = precision_score(y_test, predictions, average='micro')\n",
        "recall = recall_score(y_test, predictions, average='micro')\n",
        "f1 = f1_score(y_test, predictions, average='micro')\n",
        " \n",
        "print(\"Micro-average quality numbers\")\n",
        "print(\"Precision: {:.4f}, Recall: {:.4f}, F1-measure: {:.4f}\".format(precision, recall, f1))"
      ],
      "execution_count": 0,
      "outputs": [
        {
          "output_type": "stream",
          "text": [
            "Micro-average quality numbers\n",
            "Precision: 0.4667, Recall: 0.2188, F1-measure: 0.2979\n"
          ],
          "name": "stdout"
        }
      ]
    },
    {
      "cell_type": "markdown",
      "metadata": {
        "id": "A7W5oLcWoXgS",
        "colab_type": "text"
      },
      "source": [
        "**As the distribution of tags is skewed,the best way would be to try and classify few tags .As the average number of tags is 3.Lets narrow down our appraoach to guess 3 and 4 tags.**\n"
      ]
    },
    {
      "cell_type": "markdown",
      "metadata": {
        "id": "VeDRm8z-pUCq",
        "colab_type": "text"
      },
      "source": [
        "**BI-GRAM MODEL**"
      ]
    },
    {
      "cell_type": "markdown",
      "metadata": {
        "id": "J0MvPLdHow6w",
        "colab_type": "text"
      },
      "source": [
        "**TAKING ONLY 3 TAGS**"
      ]
    },
    {
      "cell_type": "code",
      "metadata": {
        "id": "FVJ33gYXgVCZ",
        "colab_type": "code",
        "colab": {}
      },
      "source": [
        "vectorizer = CountVectorizer(tokenizer = lambda x: x.split(\",\"), binary='true',max_features = 3)\n",
        "y_train = vectorizer.fit_transform(train['tags'])\n",
        "y_test=vectorizer.transform(test['tags'])"
      ],
      "execution_count": 0,
      "outputs": []
    },
    {
      "cell_type": "code",
      "metadata": {
        "id": "Ec_9XnsqpQZ6",
        "colab_type": "code",
        "colab": {}
      },
      "source": [
        "vectorizer = TfidfVectorizer(min_df=5,ngram_range=(2,2))\n",
        "vectorizer.fit(train['preprocessed_plots'])\n",
        "x_train=vectorizer.transform(train['preprocessed_plots'])\n",
        "x_test=vectorizer.transform(test['preprocessed_plots'])"
      ],
      "execution_count": 0,
      "outputs": []
    },
    {
      "cell_type": "code",
      "metadata": {
        "id": "lGF4bHttpX6z",
        "colab_type": "code",
        "outputId": "902f0327-6d11-4ec9-eb8e-0ebc83682011",
        "colab": {
          "base_uri": "https://localhost:8080/",
          "height": 170
        }
      },
      "source": [
        "params = {\n",
        "    \"estimator__alpha\": [10**-5,10**-4,10**-3,10**-2, 10**-1, 10**1]\n",
        "}\n",
        "\n",
        "clf = OneVsRestClassifier(SGDClassifier(loss='log', penalty='l1',n_jobs=-1),n_jobs=-1)\n",
        "\n",
        "model=GridSearchCV(clf, param_grid=params, scoring='f1_micro',n_jobs=-1,return_train_score=True,cv=3,verbose=10)\n",
        "\n",
        "model.fit(x_train, y_train)\n",
        "\n",
        "print (\"The best cross-validation score:\",model.best_score_)\n",
        "print (\"The best parameters:\",model.best_params_)"
      ],
      "execution_count": 0,
      "outputs": [
        {
          "output_type": "stream",
          "text": [
            "Fitting 3 folds for each of 6 candidates, totalling 18 fits\n"
          ],
          "name": "stdout"
        },
        {
          "output_type": "stream",
          "text": [
            "[Parallel(n_jobs=-1)]: Using backend LokyBackend with 2 concurrent workers.\n",
            "[Parallel(n_jobs=-1)]: Done   1 tasks      | elapsed:    0.7s\n",
            "[Parallel(n_jobs=-1)]: Done   4 tasks      | elapsed:    1.6s\n",
            "[Parallel(n_jobs=-1)]: Done   9 tasks      | elapsed:    3.4s\n",
            "[Parallel(n_jobs=-1)]: Done  14 tasks      | elapsed:    5.3s\n",
            "[Parallel(n_jobs=-1)]: Done  18 out of  18 | elapsed:    6.3s finished\n"
          ],
          "name": "stderr"
        },
        {
          "output_type": "stream",
          "text": [
            "The best cross-validation score: 0.4230597911354935\n",
            "The best parameters: {'estimator__alpha': 1e-05}\n"
          ],
          "name": "stdout"
        }
      ]
    },
    {
      "cell_type": "code",
      "metadata": {
        "id": "aH_bktlmVZ84",
        "colab_type": "code",
        "outputId": "a0a198a1-5f05-44b9-8de1-1ac1a3d2ced6",
        "colab": {
          "base_uri": "https://localhost:8080/",
          "height": 295
        }
      },
      "source": [
        "plot_scores(pd.DataFrame(model.cv_results_))"
      ],
      "execution_count": 0,
      "outputs": [
        {
          "output_type": "display_data",
          "data": {
            "image/png": "[encoded data removed]",
            "text/plain": [
              "<Figure size 432x288 with 1 Axes>"
            ]
          },
          "metadata": {
            "tags": []
          }
        }
      ]
    },
    {
      "cell_type": "code",
      "metadata": {
        "id": "XyB-IvnwplPV",
        "colab_type": "code",
        "outputId": "4aeab470-5c33-4b33-9b42-01432993ca70",
        "colab": {
          "base_uri": "https://localhost:8080/",
          "height": 51
        }
      },
      "source": [
        "classifier = OneVsRestClassifier(SGDClassifier(loss='log', alpha=0.00001, penalty='l1'), n_jobs=-1)\n",
        "classifier.fit(x_train, y_train)\n",
        "predictions = classifier.predict (x_test)\n",
        "\n",
        "precision = precision_score(y_test, predictions, average='micro')\n",
        "recall = recall_score(y_test, predictions, average='micro')\n",
        "f1 = f1_score(y_test, predictions, average='micro')\n",
        " \n",
        "print(\"Micro-average quality numbers\")\n",
        "print(\"Precision: {:.4f}, Recall: {:.4f}, F1-measure: {:.4f}\".format(precision, recall, f1))"
      ],
      "execution_count": 0,
      "outputs": [
        {
          "output_type": "stream",
          "text": [
            "Micro-average quality numbers\n",
            "Precision: 0.5969, Recall: 0.3794, F1-measure: 0.4639\n"
          ],
          "name": "stdout"
        }
      ]
    },
    {
      "cell_type": "markdown",
      "metadata": {
        "id": "-BWBQSuwwBaV",
        "colab_type": "text"
      },
      "source": [
        "**TAKING 4 TAGS**"
      ]
    },
    {
      "cell_type": "code",
      "metadata": {
        "id": "MVbX08SpqF4_",
        "colab_type": "code",
        "colab": {}
      },
      "source": [
        "vectorizer = CountVectorizer(tokenizer = lambda x: x.split(\",\"), binary='true',max_features = 4)\n",
        "y_train = vectorizer.fit_transform(train['tags'])\n",
        "y_test=vectorizer.transform(test['tags'])"
      ],
      "execution_count": 0,
      "outputs": []
    },
    {
      "cell_type": "code",
      "metadata": {
        "id": "cdXpPXaQwGdv",
        "colab_type": "code",
        "colab": {}
      },
      "source": [
        "vectorizer = TfidfVectorizer(min_df=5,ngram_range=(2,2))\n",
        "vectorizer.fit(train['preprocessed_plots'])\n",
        "x_train=vectorizer.transform(train['preprocessed_plots'])\n",
        "x_test=vectorizer.transform(test['preprocessed_plots'])"
      ],
      "execution_count": 0,
      "outputs": []
    },
    {
      "cell_type": "code",
      "metadata": {
        "id": "NjxyHq0fwKEt",
        "colab_type": "code",
        "outputId": "30ebdd65-3b31-4b0e-8737-061de95bd87b",
        "colab": {
          "base_uri": "https://localhost:8080/",
          "height": 170
        }
      },
      "source": [
        "params = {\n",
        "    \"estimator__alpha\": [10**-5,10**-4,10**-3,10**-2, 10**-1, 10**1]\n",
        "}\n",
        "\n",
        "clf = OneVsRestClassifier(SGDClassifier(loss='log', penalty='l1',n_jobs=-1),n_jobs=-1)\n",
        "\n",
        "model=GridSearchCV(clf, param_grid=params, scoring='f1_micro',n_jobs=-1,return_train_score=True,cv=3,verbose=10)\n",
        "\n",
        "model.fit(x_train, y_train)\n",
        "\n",
        "print (\"The best cross-validation score:\",model.best_score_)\n",
        "print (\"The best parameters:\",model.best_params_)"
      ],
      "execution_count": 0,
      "outputs": [
        {
          "output_type": "stream",
          "text": [
            "Fitting 3 folds for each of 6 candidates, totalling 18 fits\n"
          ],
          "name": "stdout"
        },
        {
          "output_type": "stream",
          "text": [
            "[Parallel(n_jobs=-1)]: Using backend LokyBackend with 2 concurrent workers.\n",
            "[Parallel(n_jobs=-1)]: Done   1 tasks      | elapsed:    0.9s\n",
            "[Parallel(n_jobs=-1)]: Done   4 tasks      | elapsed:    2.0s\n",
            "[Parallel(n_jobs=-1)]: Done   9 tasks      | elapsed:    4.6s\n",
            "[Parallel(n_jobs=-1)]: Done  14 tasks      | elapsed:    7.3s\n",
            "[Parallel(n_jobs=-1)]: Done  18 out of  18 | elapsed:    8.7s finished\n"
          ],
          "name": "stderr"
        },
        {
          "output_type": "stream",
          "text": [
            "The best cross-validation score: 0.3975780570743171\n",
            "The best parameters: {'estimator__alpha': 1e-05}\n"
          ],
          "name": "stdout"
        }
      ]
    },
    {
      "cell_type": "code",
      "metadata": {
        "id": "vBsAe4PfVp1y",
        "colab_type": "code",
        "outputId": "1e64cadf-d09d-4b7f-c04f-b49ff1164742",
        "colab": {
          "base_uri": "https://localhost:8080/",
          "height": 295
        }
      },
      "source": [
        "plot_scores(pd.DataFrame(model.cv_results_))"
      ],
      "execution_count": 0,
      "outputs": [
        {
          "output_type": "display_data",
          "data": {
            "image/png": "[encoded data removed]",
            "text/plain": [
              "<Figure size 432x288 with 1 Axes>"
            ]
          },
          "metadata": {
            "tags": []
          }
        }
      ]
    },
    {
      "cell_type": "code",
      "metadata": {
        "id": "wTqNkegtSO_C",
        "colab_type": "code",
        "outputId": "cec653c1-9e3e-4207-b20b-265b0a35f40b",
        "colab": {
          "base_uri": "https://localhost:8080/",
          "height": 51
        }
      },
      "source": [
        "classifier = OneVsRestClassifier(SGDClassifier(loss='log', alpha=0.00001, penalty='l1'), n_jobs=-1)\n",
        "classifier.fit(x_train, y_train)\n",
        "predictions = classifier.predict (x_test)\n",
        "\n",
        "precision = precision_score(y_test, predictions, average='micro')\n",
        "recall = recall_score(y_test, predictions, average='micro')\n",
        "f1 = f1_score(y_test, predictions, average='micro')\n",
        " \n",
        "print(\"Micro-average quality numbers\")\n",
        "print(\"Precision: {:.4f}, Recall: {:.4f}, F1-measure: {:.4f}\".format(precision, recall, f1))"
      ],
      "execution_count": 0,
      "outputs": [
        {
          "output_type": "stream",
          "text": [
            "Micro-average quality numbers\n",
            "Precision: 0.5864, Recall: 0.3604, F1-measure: 0.4464\n"
          ],
          "name": "stdout"
        }
      ]
    },
    {
      "cell_type": "code",
      "metadata": {
        "id": "QkXXaod7ODoX",
        "colab_type": "code",
        "colab": {}
      },
      "source": [
        ""
      ],
      "execution_count": 0,
      "outputs": []
    },
    {
      "cell_type": "markdown",
      "metadata": {
        "id": "vewqn6W6SzVH",
        "colab_type": "text"
      },
      "source": [
        "**We see that as we are increasing the tag numbers the f1-score is going down**"
      ]
    },
    {
      "cell_type": "markdown",
      "metadata": {
        "id": "JR9ObNN-TW2X",
        "colab_type": "text"
      },
      "source": [
        "**Char-3 grams with all the tags**"
      ]
    },
    {
      "cell_type": "code",
      "metadata": {
        "id": "1jdKaoIwTFme",
        "colab_type": "code",
        "colab": {}
      },
      "source": [
        "vectorizer = CountVectorizer(tokenizer = lambda x: x.split(\",\"), binary='true')\n",
        "y_train = vectorizer.fit_transform(train['tags'])\n",
        "y_test=vectorizer.transform(test['tags'])"
      ],
      "execution_count": 0,
      "outputs": []
    },
    {
      "cell_type": "code",
      "metadata": {
        "id": "RCobL1mH07L_",
        "colab_type": "code",
        "colab": {}
      },
      "source": [
        "vectorizer = TfidfVectorizer(min_df=5,ngram_range=(3,3), analyzer='char')\n",
        "vectorizer.fit(train['preprocessed_plots'])\n",
        "x_train=vectorizer.transform(train['preprocessed_plots'])\n",
        "x_test=vectorizer.transform(test['preprocessed_plots'])"
      ],
      "execution_count": 0,
      "outputs": []
    },
    {
      "cell_type": "code",
      "metadata": {
        "id": "9fBHP5zKT0eS",
        "colab_type": "code",
        "outputId": "265faed3-1505-4846-d5c9-df9aafe60a1e",
        "colab": {
          "base_uri": "https://localhost:8080/",
          "height": 170
        }
      },
      "source": [
        "params = {\n",
        "    \"estimator__alpha\": [10**-5,10**-4,10**-3,10**-2, 10**-1, 10**1]\n",
        "}\n",
        "\n",
        "clf = OneVsRestClassifier(SGDClassifier(loss='log', penalty='l1',n_jobs=-1),n_jobs=-1)\n",
        "\n",
        "model=GridSearchCV(clf, param_grid=params, scoring='f1_micro',n_jobs=-1,return_train_score=True,cv=3,verbose=10)\n",
        "\n",
        "model.fit(x_train, y_train)\n",
        "\n",
        "print (\"The best cross-validation score:\",model.best_score_)\n",
        "print (\"The best parameters:\",model.best_params_)"
      ],
      "execution_count": 0,
      "outputs": [
        {
          "output_type": "stream",
          "text": [
            "Fitting 3 folds for each of 6 candidates, totalling 18 fits\n"
          ],
          "name": "stdout"
        },
        {
          "output_type": "stream",
          "text": [
            "[Parallel(n_jobs=-1)]: Using backend LokyBackend with 2 concurrent workers.\n",
            "[Parallel(n_jobs=-1)]: Done   1 tasks      | elapsed:  2.1min\n",
            "[Parallel(n_jobs=-1)]: Done   4 tasks      | elapsed:  4.8min\n",
            "[Parallel(n_jobs=-1)]: Done   9 tasks      | elapsed:  7.4min\n",
            "[Parallel(n_jobs=-1)]: Done  14 tasks      | elapsed: 13.0min\n",
            "[Parallel(n_jobs=-1)]: Done  18 out of  18 | elapsed: 15.2min finished\n"
          ],
          "name": "stderr"
        },
        {
          "output_type": "stream",
          "text": [
            "The best cross-validation score: 0.2817319047520408\n",
            "The best parameters: {'estimator__alpha': 1e-05}\n"
          ],
          "name": "stdout"
        }
      ]
    },
    {
      "cell_type": "code",
      "metadata": {
        "id": "Ml-qPxmCVrjb",
        "colab_type": "code",
        "outputId": "e25ca64f-04a9-4c0c-9674-d969e7e56f78",
        "colab": {
          "base_uri": "https://localhost:8080/",
          "height": 295
        }
      },
      "source": [
        "plot_scores(pd.DataFrame(model.cv_results_))"
      ],
      "execution_count": 0,
      "outputs": [
        {
          "output_type": "display_data",
          "data": {
            "image/png": "[encoded data removed]",
            "text/plain": [
              "<Figure size 432x288 with 1 Axes>"
            ]
          },
          "metadata": {
            "tags": []
          }
        }
      ]
    },
    {
      "cell_type": "code",
      "metadata": {
        "id": "PdOOQTEqT6LK",
        "colab_type": "code",
        "outputId": "7db1fdfb-3a68-4d3b-d63b-f7cbbef87403",
        "colab": {
          "base_uri": "https://localhost:8080/",
          "height": 51
        }
      },
      "source": [
        "classifier = OneVsRestClassifier(SGDClassifier(loss='log', alpha=0.00001, penalty='l1'), n_jobs=-1)\n",
        "classifier.fit(x_train, y_train)\n",
        "predictions = classifier.predict (x_test)\n",
        "\n",
        "precision = precision_score(y_test, predictions, average='micro')\n",
        "recall = recall_score(y_test, predictions, average='micro')\n",
        "f1 = f1_score(y_test, predictions, average='micro')\n",
        " \n",
        "print(\"Micro-average quality numbers\")\n",
        "print(\"Precision: {:.4f}, Recall: {:.4f}, F1-measure: {:.4f}\".format(precision, recall, f1))"
      ],
      "execution_count": 0,
      "outputs": [
        {
          "output_type": "stream",
          "text": [
            "Micro-average quality numbers\n",
            "Precision: 0.4619, Recall: 0.2181, F1-measure: 0.2963\n"
          ],
          "name": "stdout"
        }
      ]
    },
    {
      "cell_type": "markdown",
      "metadata": {
        "id": "vPMwWLncWouI",
        "colab_type": "text"
      },
      "source": [
        "**Nothing significant at char-level tfidf**"
      ]
    },
    {
      "cell_type": "markdown",
      "metadata": {
        "id": "alIfkKm8Jio3",
        "colab_type": "text"
      },
      "source": [
        "\n",
        "\n",
        "---\n",
        "\n"
      ]
    },
    {
      "cell_type": "markdown",
      "metadata": {
        "id": "_o3ufEFtc-J3",
        "colab_type": "text"
      },
      "source": [
        "**Featurization inspired by-https://www.analyticsvidhya.com/blog/2017/01/ultimate-guide-to-understand-implement-natural-language-processing-codes-in-python/**\n",
        "\n",
        "https://towardsdatascience.com/unsupervised-nlp-topic-models-as-a-supervised-learning-input-cf8ee9e5cf28"
      ]
    },
    {
      "cell_type": "markdown",
      "metadata": {
        "id": "tsZ2ls87mb6c",
        "colab_type": "text"
      },
      "source": [
        "**TOPIC MODELLING WITH LDA**"
      ]
    },
    {
      "cell_type": "markdown",
      "metadata": {
        "id": "uLI8O2frrMal",
        "colab_type": "text"
      },
      "source": [
        "CREATING DATA MATRIX"
      ]
    },
    {
      "cell_type": "code",
      "metadata": {
        "id": "N9eU1WpV-35d",
        "colab_type": "code",
        "outputId": "a5aa098f-1bcf-42ca-805c-317d2d158ecd",
        "colab": {
          "base_uri": "https://localhost:8080/",
          "height": 51
        }
      },
      "source": [
        "import pickle\n",
        "import gensim\n",
        "import spacy\n",
        "import pandas as pd\n",
        "import nltk; nltk.download('stopwords')\n",
        "import gensim.corpora as corpora\n",
        "from gensim.utils import simple_preprocess\n",
        "from gensim.models import CoherenceModel\n",
        "from sklearn.decomposition import LatentDirichletAllocation"
      ],
      "execution_count": 21,
      "outputs": [
        {
          "output_type": "stream",
          "text": [
            "[nltk_data] Downloading package stopwords to /root/nltk_data...\n",
            "[nltk_data]   Unzipping corpora/stopwords.zip.\n"
          ],
          "name": "stdout"
        }
      ]
    },
    {
      "cell_type": "code",
      "metadata": {
        "id": "UCDobTGArL2B",
        "colab_type": "code",
        "colab": {}
      },
      "source": [
        "vectorizer_topic =CountVectorizer(min_df=15,max_df=0.9)\n",
        "vectorizer_topic.fit(train['preprocessed_plots'])\n",
        "m_train=vectorizer_topic.transform(train['preprocessed_plots'])\n",
        "m_test=vectorizer_topic.transform(test['preprocessed_plots'])"
      ],
      "execution_count": 0,
      "outputs": []
    },
    {
      "cell_type": "code",
      "metadata": {
        "id": "_L6AUBIPQy8K",
        "colab_type": "code",
        "outputId": "d5dca2d2-08bd-4e6a-c195-445d372dfc99",
        "colab": {
          "base_uri": "https://localhost:8080/",
          "height": 34
        }
      },
      "source": [
        "m_train.shape"
      ],
      "execution_count": 19,
      "outputs": [
        {
          "output_type": "execute_result",
          "data": {
            "text/plain": [
              "(11862, 18909)"
            ]
          },
          "metadata": {
            "tags": []
          },
          "execution_count": 19
        }
      ]
    },
    {
      "cell_type": "code",
      "metadata": {
        "id": "qQDtWnZHhWL4",
        "colab_type": "code",
        "colab": {}
      },
      "source": [
        "lda_model = LatentDirichletAllocation(n_components=15, max_iter=5,learning_method='online',random_state=0,learning_offset=50)\n",
        "lda_Z = lda_model.fit_transform(m_train)"
      ],
      "execution_count": 0,
      "outputs": []
    },
    {
      "cell_type": "code",
      "metadata": {
        "id": "UehG_M_Qmfw0",
        "colab_type": "code",
        "colab": {}
      },
      "source": [
        "topic_assigned=np.argsort(lda_Z)[:,0]"
      ],
      "execution_count": 0,
      "outputs": []
    },
    {
      "cell_type": "code",
      "metadata": {
        "id": "uG7XPpZqo0Eb",
        "colab_type": "code",
        "colab": {
          "base_uri": "https://localhost:8080/",
          "height": 514
        },
        "outputId": "4dea89ce-011b-44a2-e985-965138dc30e4"
      },
      "source": [
        "pd.DataFrame({'Synopsis':train['preprocessed_plots'],'Label_assigned':topic_assigned})"
      ],
      "execution_count": 38,
      "outputs": [
        {
          "output_type": "execute_result",
          "data": {
            "text/html": [
              "<div>\n",
              "<style scoped>\n",
              "    .dataframe tbody tr th:only-of-type {\n",
              "        vertical-align: middle;\n",
              "    }\n",
              "\n",
              "    .dataframe tbody tr th {\n",
              "        vertical-align: top;\n",
              "    }\n",
              "\n",
              "    .dataframe thead th {\n",
              "        text-align: right;\n",
              "    }\n",
              "</style>\n",
              "<table border=\"1\" class=\"dataframe\">\n",
              "  <thead>\n",
              "    <tr style=\"text-align: right;\">\n",
              "      <th></th>\n",
              "      <th>Synopsis</th>\n",
              "      <th>Label_assigned</th>\n",
              "    </tr>\n",
              "  </thead>\n",
              "  <tbody>\n",
              "    <tr>\n",
              "      <th>0</th>\n",
              "      <td>note synopsis orginal italian release segments...</td>\n",
              "      <td>11</td>\n",
              "    </tr>\n",
              "    <tr>\n",
              "      <th>1</th>\n",
              "      <td>two thousand years ago nhagruul foul sorcerer ...</td>\n",
              "      <td>9</td>\n",
              "    </tr>\n",
              "    <tr>\n",
              "      <th>2</th>\n",
              "      <td>glenn holland not morning person anyone standa...</td>\n",
              "      <td>5</td>\n",
              "    </tr>\n",
              "    <tr>\n",
              "      <th>3</th>\n",
              "      <td>may cuban man named tony montana al pacino cla...</td>\n",
              "      <td>3</td>\n",
              "    </tr>\n",
              "    <tr>\n",
              "      <th>4</th>\n",
              "      <td>george falconer colin firth approaches car acc...</td>\n",
              "      <td>9</td>\n",
              "    </tr>\n",
              "    <tr>\n",
              "      <th>5</th>\n",
              "      <td>baise moi tells story nadine manu go violent s...</td>\n",
              "      <td>0</td>\n",
              "    </tr>\n",
              "    <tr>\n",
              "      <th>6</th>\n",
              "      <td>kyle pratt jodie foster propulsion engineer ba...</td>\n",
              "      <td>9</td>\n",
              "    </tr>\n",
              "    <tr>\n",
              "      <th>7</th>\n",
              "      <td>small time italian american criminals caesar e...</td>\n",
              "      <td>0</td>\n",
              "    </tr>\n",
              "    <tr>\n",
              "      <th>8</th>\n",
              "      <td>movie begins video shot men hands tied behind ...</td>\n",
              "      <td>9</td>\n",
              "    </tr>\n",
              "    <tr>\n",
              "      <th>9</th>\n",
              "      <td>action takes place years sweden troubled year ...</td>\n",
              "      <td>3</td>\n",
              "    </tr>\n",
              "    <tr>\n",
              "      <th>10</th>\n",
              "      <td>somafree institute dr hal raglan humiliates pa...</td>\n",
              "      <td>0</td>\n",
              "    </tr>\n",
              "    <tr>\n",
              "      <th>11</th>\n",
              "      <td>brothers terry colin farrell ian ewan mcgregor...</td>\n",
              "      <td>3</td>\n",
              "    </tr>\n",
              "    <tr>\n",
              "      <th>12</th>\n",
              "      <td>arrival train pulls station north china soldie...</td>\n",
              "      <td>0</td>\n",
              "    </tr>\n",
              "    <tr>\n",
              "      <th>13</th>\n",
              "      <td>film tells story pettigrew family living famil...</td>\n",
              "      <td>9</td>\n",
              "    </tr>\n",
              "    <tr>\n",
              "      <th>14</th>\n",
              "      <td>open mia katie jarvis year old youngster hunch...</td>\n",
              "      <td>9</td>\n",
              "    </tr>\n",
              "  </tbody>\n",
              "</table>\n",
              "</div>"
            ],
            "text/plain": [
              "                                             Synopsis  Label_assigned\n",
              "0   note synopsis orginal italian release segments...              11\n",
              "1   two thousand years ago nhagruul foul sorcerer ...               9\n",
              "2   glenn holland not morning person anyone standa...               5\n",
              "3   may cuban man named tony montana al pacino cla...               3\n",
              "4   george falconer colin firth approaches car acc...               9\n",
              "5   baise moi tells story nadine manu go violent s...               0\n",
              "6   kyle pratt jodie foster propulsion engineer ba...               9\n",
              "7   small time italian american criminals caesar e...               0\n",
              "8   movie begins video shot men hands tied behind ...               9\n",
              "9   action takes place years sweden troubled year ...               3\n",
              "10  somafree institute dr hal raglan humiliates pa...               0\n",
              "11  brothers terry colin farrell ian ewan mcgregor...               3\n",
              "12  arrival train pulls station north china soldie...               0\n",
              "13  film tells story pettigrew family living famil...               9\n",
              "14  open mia katie jarvis year old youngster hunch...               9"
            ]
          },
          "metadata": {
            "tags": []
          },
          "execution_count": 38
        }
      ]
    },
    {
      "cell_type": "markdown",
      "metadata": {
        "id": "NHItNs5NreXj",
        "colab_type": "text"
      },
      "source": [
        "**TOP WORDS FOR EACH TOPIC**"
      ]
    },
    {
      "cell_type": "code",
      "metadata": {
        "id": "Bu8N6ZIoqi1t",
        "colab_type": "code",
        "colab": {
          "base_uri": "https://localhost:8080/",
          "height": 527
        },
        "outputId": "7f0ee1dc-f9a6-4e40-c845-df641094bd4b"
      },
      "source": [
        "#https://medium.com/mlreview/topic-modeling-with-scikit-learn-e80d33668730\n",
        "\n",
        "def display_topics(model, feature_names, no_top_words):\n",
        "    for topic_idx, topic in enumerate(model.components_):\n",
        "        print (\"Topic %d:\" % (topic_idx))\n",
        "        print (\" \".join([feature_names[i]\n",
        "                        for i in topic.argsort()[:-no_top_words - 1:-1]]))\n",
        "        \n",
        "display_topics(lda_model,vectorizer_topic.get_feature_names(),10)"
      ],
      "execution_count": 44,
      "outputs": [
        {
          "output_type": "stream",
          "text": [
            "Topic 0:\n",
            "charlie jerry tom rose helen de daniel la el nina\n",
            "Topic 1:\n",
            "david henry alice jane house mary father love mother edward\n",
            "Topic 2:\n",
            "house back not car jack man one john tells finds\n",
            "Topic 3:\n",
            "max anne louis bruno duncan macbeth luther owen fletcher philippe\n",
            "Topic 4:\n",
            "not one father life film family also love wife time\n",
            "Topic 5:\n",
            "johnny ben laura rachel claire jay simon kay angela kelly\n",
            "Topic 6:\n",
            "one king fight back find world battle earth however kill\n",
            "Topic 7:\n",
            "frank george bobby julia casey hamlet al vincent ruth kyle\n",
            "Topic 8:\n",
            "police money joe men gang kill killed car gun two\n",
            "Topic 9:\n",
            "danny marty catherine doc khan kirk singh hercules buddy kumar\n",
            "Topic 10:\n",
            "peter jeff larry kim terry brian sara sally spider stephen\n",
            "Topic 11:\n",
            "alex bob scott arthur ann maggie lee bugs emily holmes\n",
            "Topic 12:\n",
            "school not home new father mother friends day party later\n",
            "Topic 13:\n",
            "one dr back harry team ship two not group escape\n",
            "Topic 14:\n",
            "not tells says asks back see goes room go get\n"
          ],
          "name": "stdout"
        }
      ]
    },
    {
      "cell_type": "code",
      "metadata": {
        "id": "4V9_Y3WrgLvW",
        "colab_type": "code",
        "outputId": "15c6316c-dd5e-42fa-8ccb-b58ae047e7ef",
        "colab": {
          "base_uri": "https://localhost:8080/",
          "height": 34
        }
      },
      "source": [
        "lda_Z.shape"
      ],
      "execution_count": 0,
      "outputs": [
        {
          "output_type": "execute_result",
          "data": {
            "text/plain": [
              "(11862, 15)"
            ]
          },
          "metadata": {
            "tags": []
          },
          "execution_count": 132
        }
      ]
    },
    {
      "cell_type": "code",
      "metadata": {
        "id": "Dp8CrFNUsuYj",
        "colab_type": "code",
        "outputId": "52a4dfcc-326d-4bcd-96ff-f4a46eaa05a3",
        "colab": {
          "base_uri": "https://localhost:8080/",
          "height": 170
        }
      },
      "source": [
        "params = {\n",
        "    \"estimator__alpha\": [10**-5,10**-4,10**-3,10**-2, 10**-1, 10**1]\n",
        "}\n",
        "\n",
        "clf = OneVsRestClassifier(SGDClassifier(loss='log', penalty='l1',n_jobs=-1),n_jobs=-1)\n",
        "\n",
        "model=GridSearchCV(clf, param_grid=params, scoring='f1_micro',n_jobs=-1,return_train_score=True,cv=3,verbose=10)\n",
        "\n",
        "model.fit(lda_Z, y_train)\n",
        "\n",
        "print (\"The best cross-validation score:\",model.best_score_)\n",
        "print (\"The best parameters:\",model.best_params_)"
      ],
      "execution_count": 0,
      "outputs": [
        {
          "output_type": "stream",
          "text": [
            "Fitting 3 folds for each of 6 candidates, totalling 18 fits\n"
          ],
          "name": "stdout"
        },
        {
          "output_type": "stream",
          "text": [
            "[Parallel(n_jobs=-1)]: Using backend LokyBackend with 2 concurrent workers.\n",
            "[Parallel(n_jobs=-1)]: Done   1 tasks      | elapsed:    5.3s\n",
            "[Parallel(n_jobs=-1)]: Done   4 tasks      | elapsed:   10.0s\n",
            "[Parallel(n_jobs=-1)]: Done   9 tasks      | elapsed:   15.2s\n",
            "[Parallel(n_jobs=-1)]: Done  14 tasks      | elapsed:   19.8s\n",
            "[Parallel(n_jobs=-1)]: Done  18 out of  18 | elapsed:   25.6s finished\n"
          ],
          "name": "stderr"
        },
        {
          "output_type": "stream",
          "text": [
            "The best cross-validation score: 0.22374102849735716\n",
            "The best parameters: {'estimator__alpha': 10}\n"
          ],
          "name": "stdout"
        }
      ]
    },
    {
      "cell_type": "code",
      "metadata": {
        "id": "y2YJjxZ9gR_S",
        "colab_type": "code",
        "outputId": "9e796667-ddf4-4361-f5ea-f910e3aa2ba2",
        "colab": {
          "base_uri": "https://localhost:8080/",
          "height": 295
        }
      },
      "source": [
        "plot_scores(pd.DataFrame(model.cv_results_))"
      ],
      "execution_count": 0,
      "outputs": [
        {
          "output_type": "display_data",
          "data": {
            "image/png": "[encoded data removed]",
            "text/plain": [
              "<Figure size 432x288 with 1 Axes>"
            ]
          },
          "metadata": {
            "tags": []
          }
        }
      ]
    },
    {
      "cell_type": "code",
      "metadata": {
        "id": "aCrWdCFCgZBE",
        "colab_type": "code",
        "colab": {}
      },
      "source": [
        "lda_t = lda_model.transform(m_test)"
      ],
      "execution_count": 0,
      "outputs": []
    },
    {
      "cell_type": "code",
      "metadata": {
        "id": "RTLgPNM4gyMV",
        "colab_type": "code",
        "outputId": "20d6b767-539a-4d93-ad70-cab8e19f944e",
        "colab": {
          "base_uri": "https://localhost:8080/",
          "height": 34
        }
      },
      "source": [
        "lda_t.shape"
      ],
      "execution_count": 0,
      "outputs": [
        {
          "output_type": "execute_result",
          "data": {
            "text/plain": [
              "(2966, 15)"
            ]
          },
          "metadata": {
            "tags": []
          },
          "execution_count": 136
        }
      ]
    },
    {
      "cell_type": "code",
      "metadata": {
        "id": "joZra2Zbu9ac",
        "colab_type": "code",
        "outputId": "f65df88c-e709-4607-e069-58ad4f29c256",
        "colab": {
          "base_uri": "https://localhost:8080/",
          "height": 51
        }
      },
      "source": [
        "classifier = OneVsRestClassifier(SGDClassifier(loss='log', alpha=0.00001, penalty='l1'), n_jobs=-1)\n",
        "classifier.fit(lda_Z, y_train)\n",
        "predictions = classifier.predict(lda_t)\n",
        "\n",
        "precision = precision_score(y_test, predictions, average='micro')\n",
        "recall = recall_score(y_test, predictions, average='micro')\n",
        "f1 = f1_score(y_test, predictions, average='micro')\n",
        " \n",
        "print(\"Micro-average quality numbers\")\n",
        "print(\"Precision: {:.4f}, Recall: {:.4f}, F1-measure: {:.4f}\".format(precision, recall, f1))"
      ],
      "execution_count": 0,
      "outputs": [
        {
          "output_type": "stream",
          "text": [
            "Micro-average quality numbers\n",
            "Precision: 0.5772, Recall: 0.0692, F1-measure: 0.1235\n"
          ],
          "name": "stdout"
        }
      ]
    },
    {
      "cell_type": "markdown",
      "metadata": {
        "id": "j0Mol0HknBbM",
        "colab_type": "text"
      },
      "source": [
        "**TOPIC LABELS FOR SENTENCES**"
      ]
    },
    {
      "cell_type": "code",
      "metadata": {
        "id": "7qNkLEKmneSu",
        "colab_type": "code",
        "colab": {
          "base_uri": "https://localhost:8080/",
          "height": 163
        },
        "outputId": "0007e54c-a85b-49a8-ef9c-22dab87148e1"
      },
      "source": [
        "lda_model.get_document_topics(m_train[0], minimum_probability=0.0)"
      ],
      "execution_count": 23,
      "outputs": [
        {
          "output_type": "error",
          "ename": "AttributeError",
          "evalue": "ignored",
          "traceback": [
            "\u001b[0;31m---------------------------------------------------------------------------\u001b[0m",
            "\u001b[0;31mAttributeError\u001b[0m                            Traceback (most recent call last)",
            "\u001b[0;32m<ipython-input-23-d211f08c072e>\u001b[0m in \u001b[0;36m<module>\u001b[0;34m()\u001b[0m\n\u001b[0;32m----> 1\u001b[0;31m \u001b[0mlda_model\u001b[0m\u001b[0;34m.\u001b[0m\u001b[0mget_document_topics\u001b[0m\u001b[0;34m(\u001b[0m\u001b[0mm_train\u001b[0m\u001b[0;34m[\u001b[0m\u001b[0;36m0\u001b[0m\u001b[0;34m]\u001b[0m\u001b[0;34m,\u001b[0m \u001b[0mminimum_probability\u001b[0m\u001b[0;34m=\u001b[0m\u001b[0;36m0.0\u001b[0m\u001b[0;34m)\u001b[0m\u001b[0;34m\u001b[0m\u001b[0;34m\u001b[0m\u001b[0m\n\u001b[0m",
            "\u001b[0;31mAttributeError\u001b[0m: 'LatentDirichletAllocation' object has no attribute 'get_document_topics'"
          ]
        }
      ]
    },
    {
      "cell_type": "code",
      "metadata": {
        "id": "BeDLGFUInHBl",
        "colab_type": "code",
        "colab": {}
      },
      "source": [
        "for i in range(len(m_train.shape[0])):\n",
        "    top_topics = lda_train.get_document_topics(m_train[i], minimum_probability=0.0)\n",
        "    topic_vec = [top_topics[i][1] for i in range(20)]\n",
        "    train_vecs.append(topic_vec)"
      ],
      "execution_count": 0,
      "outputs": []
    },
    {
      "cell_type": "markdown",
      "metadata": {
        "id": "MHjJjnnSJfds",
        "colab_type": "text"
      },
      "source": [
        "\n",
        "\n",
        "---\n",
        "\n"
      ]
    },
    {
      "cell_type": "markdown",
      "metadata": {
        "id": "wk7kxr5UyZHf",
        "colab_type": "text"
      },
      "source": [
        "**TOPIC MODELLING WITH PARTS OF SPEECH TAGGING**"
      ]
    },
    {
      "cell_type": "code",
      "metadata": {
        "id": "b0Uj_Vbwy-gy",
        "colab_type": "code",
        "outputId": "57f9fbac-f586-4cdf-f41b-e78232891f9c",
        "colab": {
          "base_uri": "https://localhost:8080/",
          "height": 119
        }
      },
      "source": [
        "from nltk import word_tokenize, pos_tag\n",
        "nltk.download('punkt')\n",
        "nltk.download('averaged_perceptron_tagger')"
      ],
      "execution_count": 0,
      "outputs": [
        {
          "output_type": "stream",
          "text": [
            "[nltk_data] Downloading package punkt to /root/nltk_data...\n",
            "[nltk_data]   Unzipping tokenizers/punkt.zip.\n",
            "[nltk_data] Downloading package averaged_perceptron_tagger to\n",
            "[nltk_data]     /root/nltk_data...\n",
            "[nltk_data]   Unzipping taggers/averaged_perceptron_tagger.zip.\n"
          ],
          "name": "stdout"
        },
        {
          "output_type": "execute_result",
          "data": {
            "text/plain": [
              "True"
            ]
          },
          "metadata": {
            "tags": []
          },
          "execution_count": 138
        }
      ]
    },
    {
      "cell_type": "code",
      "metadata": {
        "id": "rVBaWTI4xo-B",
        "colab_type": "code",
        "colab": {}
      },
      "source": [
        "# Let's create a function to pull out nouns and verbs from a string of text\n",
        "def nouns_adj(text):\n",
        "    '''Given a string of text, tokenize the text and pull out only the nouns and adjectives.'''\n",
        "    is_noun_adj = lambda pos: pos[:2] == 'NN' or pos[:2] == 'VB'\n",
        "    tokenized = word_tokenize(text)\n",
        "    nouns_adj = [word for (word, pos) in pos_tag(tokenized) if is_noun_adj(pos)] \n",
        "    return ' '.join(nouns_adj)"
      ],
      "execution_count": 0,
      "outputs": []
    },
    {
      "cell_type": "code",
      "metadata": {
        "id": "fb2TdTavyoLq",
        "colab_type": "code",
        "colab": {}
      },
      "source": [
        "data_nouns_adj = pd.DataFrame(train.preprocessed_plots.apply(nouns_adj))"
      ],
      "execution_count": 0,
      "outputs": []
    },
    {
      "cell_type": "code",
      "metadata": {
        "id": "k1sVcrsR6jmR",
        "colab_type": "code",
        "colab": {}
      },
      "source": [
        "data_nouns_adj_test = pd.DataFrame(test.preprocessed_plots.apply(nouns_adj))"
      ],
      "execution_count": 0,
      "outputs": []
    },
    {
      "cell_type": "code",
      "metadata": {
        "id": "iW8ImNBZ1PeO",
        "colab_type": "code",
        "outputId": "20114dd4-abbb-474f-d629-229635378784",
        "colab": {
          "base_uri": "https://localhost:8080/",
          "height": 204
        }
      },
      "source": [
        "data_nouns_adj.head()"
      ],
      "execution_count": 0,
      "outputs": [
        {
          "output_type": "execute_result",
          "data": {
            "text/html": [
              "<div>\n",
              "<style scoped>\n",
              "    .dataframe tbody tr th:only-of-type {\n",
              "        vertical-align: middle;\n",
              "    }\n",
              "\n",
              "    .dataframe tbody tr th {\n",
              "        vertical-align: top;\n",
              "    }\n",
              "\n",
              "    .dataframe thead th {\n",
              "        text-align: right;\n",
              "    }\n",
              "</style>\n",
              "<table border=\"1\" class=\"dataframe\">\n",
              "  <thead>\n",
              "    <tr style=\"text-align: right;\">\n",
              "      <th></th>\n",
              "      <th>preprocessed_plots</th>\n",
              "    </tr>\n",
              "  </thead>\n",
              "  <tbody>\n",
              "    <tr>\n",
              "      <th>0</th>\n",
              "      <td>note synopsis release segments order boris kar...</td>\n",
              "    </tr>\n",
              "    <tr>\n",
              "      <th>1</th>\n",
              "      <td>years sorcerer reveled corrupting spread despa...</td>\n",
              "    </tr>\n",
              "    <tr>\n",
              "      <th>2</th>\n",
              "      <td>glenn holland morning person anyone standards ...</td>\n",
              "    </tr>\n",
              "    <tr>\n",
              "      <th>3</th>\n",
              "      <td>cuban man named montana al pacino claims asylu...</td>\n",
              "    </tr>\n",
              "    <tr>\n",
              "      <th>4</th>\n",
              "      <td>george falconer colin firth approaches car acc...</td>\n",
              "    </tr>\n",
              "  </tbody>\n",
              "</table>\n",
              "</div>"
            ],
            "text/plain": [
              "                                  preprocessed_plots\n",
              "0  note synopsis release segments order boris kar...\n",
              "1  years sorcerer reveled corrupting spread despa...\n",
              "2  glenn holland morning person anyone standards ...\n",
              "3  cuban man named montana al pacino claims asylu...\n",
              "4  george falconer colin firth approaches car acc..."
            ]
          },
          "metadata": {
            "tags": []
          },
          "execution_count": 142
        }
      ]
    },
    {
      "cell_type": "code",
      "metadata": {
        "id": "4oQQPRU2zCR-",
        "colab_type": "code",
        "colab": {}
      },
      "source": [
        "vectorizer =CountVectorizer(min_df=5,max_df=0.8)\n",
        "vectorizer.fit(data_nouns_adj.preprocessed_plots)\n",
        "m_train=vectorizer.transform(data_nouns_adj.preprocessed_plots)"
      ],
      "execution_count": 0,
      "outputs": []
    },
    {
      "cell_type": "code",
      "metadata": {
        "id": "DzY7N4Wd7JGL",
        "colab_type": "code",
        "colab": {}
      },
      "source": [
        "m_test=vectorizer.transform(data_nouns_adj_test.preprocessed_plots)"
      ],
      "execution_count": 0,
      "outputs": []
    },
    {
      "cell_type": "code",
      "metadata": {
        "id": "wMgTTSt81MT_",
        "colab_type": "code",
        "outputId": "6367e2de-1ac4-4504-f6bb-9676610e013d",
        "colab": {
          "base_uri": "https://localhost:8080/",
          "height": 34
        }
      },
      "source": [
        "m_train.shape"
      ],
      "execution_count": 0,
      "outputs": [
        {
          "output_type": "execute_result",
          "data": {
            "text/plain": [
              "(11862, 28493)"
            ]
          },
          "metadata": {
            "tags": []
          },
          "execution_count": 145
        }
      ]
    },
    {
      "cell_type": "code",
      "metadata": {
        "id": "UZTfpzgu08H2",
        "colab_type": "code",
        "colab": {}
      },
      "source": [
        "lda_model = LatentDirichletAllocation(n_components=20, max_iter=10,learning_method='online')\n",
        "lda_Z_pos = lda_model.fit_transform(m_train)"
      ],
      "execution_count": 0,
      "outputs": []
    },
    {
      "cell_type": "code",
      "metadata": {
        "id": "T1SAphWR1E26",
        "colab_type": "code",
        "outputId": "edd09992-5d74-42bd-8de0-8e0152b9d6f9",
        "colab": {
          "base_uri": "https://localhost:8080/",
          "height": 34
        }
      },
      "source": [
        "lda_Z.shape"
      ],
      "execution_count": 0,
      "outputs": [
        {
          "output_type": "execute_result",
          "data": {
            "text/plain": [
              "(11862, 15)"
            ]
          },
          "metadata": {
            "tags": []
          },
          "execution_count": 147
        }
      ]
    },
    {
      "cell_type": "code",
      "metadata": {
        "id": "kDAIDgll1GHX",
        "colab_type": "code",
        "outputId": "8fb5cea7-d75a-48f6-f9c4-fad4a06a165b",
        "colab": {
          "base_uri": "https://localhost:8080/",
          "height": 170
        }
      },
      "source": [
        "params = {\n",
        "    \"estimator__alpha\": [10**-5,10**-4,10**-3,10**-2, 10**-1, 10**1]\n",
        "}\n",
        "\n",
        "clf = OneVsRestClassifier(SGDClassifier(loss='log', penalty='l1',n_jobs=-1),n_jobs=-1)\n",
        "\n",
        "model=GridSearchCV(clf, param_grid=params, scoring='f1_micro',n_jobs=-1,return_train_score=True,cv=3,verbose=10)\n",
        "\n",
        "model.fit(lda_Z_pos, y_train)\n",
        "\n",
        "print (\"The best cross-validation score:\",model.best_score_)\n",
        "print (\"The best parameters:\",model.best_params_)"
      ],
      "execution_count": 0,
      "outputs": [
        {
          "output_type": "stream",
          "text": [
            "Fitting 3 folds for each of 6 candidates, totalling 18 fits\n"
          ],
          "name": "stdout"
        },
        {
          "output_type": "stream",
          "text": [
            "[Parallel(n_jobs=-1)]: Using backend LokyBackend with 2 concurrent workers.\n",
            "[Parallel(n_jobs=-1)]: Done   1 tasks      | elapsed:    6.1s\n",
            "[Parallel(n_jobs=-1)]: Done   4 tasks      | elapsed:   11.5s\n",
            "[Parallel(n_jobs=-1)]: Done   9 tasks      | elapsed:   16.7s\n",
            "[Parallel(n_jobs=-1)]: Done  14 tasks      | elapsed:   22.6s\n",
            "[Parallel(n_jobs=-1)]: Done  18 out of  18 | elapsed:   28.9s finished\n"
          ],
          "name": "stderr"
        },
        {
          "output_type": "stream",
          "text": [
            "The best cross-validation score: 0.18503314347655092\n",
            "The best parameters: {'estimator__alpha': 0.0001}\n"
          ],
          "name": "stdout"
        }
      ]
    },
    {
      "cell_type": "code",
      "metadata": {
        "id": "h3pef7RMgUpa",
        "colab_type": "code",
        "outputId": "0f82a073-4a48-42d7-8a8d-58b9ae924314",
        "colab": {
          "base_uri": "https://localhost:8080/",
          "height": 295
        }
      },
      "source": [
        "plot_scores(pd.DataFrame(model.cv_results_))"
      ],
      "execution_count": 0,
      "outputs": [
        {
          "output_type": "display_data",
          "data": {
            "image/png": "[encoded data removed]",
            "text/plain": [
              "<Figure size 432x288 with 1 Axes>"
            ]
          },
          "metadata": {
            "tags": []
          }
        }
      ]
    },
    {
      "cell_type": "code",
      "metadata": {
        "id": "MI2j1-Vx2N_O",
        "colab_type": "code",
        "colab": {}
      },
      "source": [
        "lda_t_pos = lda_model.transform(m_test)"
      ],
      "execution_count": 0,
      "outputs": []
    },
    {
      "cell_type": "code",
      "metadata": {
        "id": "yP_XTLXh7W20",
        "colab_type": "code",
        "outputId": "8fafefbe-9cf4-48d2-e856-17d1d08a2553",
        "colab": {
          "base_uri": "https://localhost:8080/",
          "height": 51
        }
      },
      "source": [
        "classifier = OneVsRestClassifier(SGDClassifier(loss='log', alpha=0.0001, penalty='l1'), n_jobs=-1)\n",
        "classifier.fit(lda_Z_pos, y_train)\n",
        "predictions = classifier.predict(lda_t_pos)\n",
        "\n",
        "precision = precision_score(y_test, predictions, average='micro')\n",
        "recall = recall_score(y_test, predictions, average='micro')\n",
        "f1 = f1_score(y_test, predictions, average='micro')\n",
        " \n",
        "print(\"Micro-average quality numbers\")\n",
        "print(\"Precision: {:.4f}, Recall: {:.4f}, F1-measure: {:.4f}\".format(precision, recall, f1))"
      ],
      "execution_count": 0,
      "outputs": [
        {
          "output_type": "stream",
          "text": [
            "Micro-average quality numbers\n",
            "Precision: 0.6411, Recall: 0.0740, F1-measure: 0.1328\n"
          ],
          "name": "stdout"
        }
      ]
    },
    {
      "cell_type": "markdown",
      "metadata": {
        "id": "aWCG_XEd73Vt",
        "colab_type": "text"
      },
      "source": [
        "**CONCATINATING TF-IDF AND LDA FEATURES TOGTHER**"
      ]
    },
    {
      "cell_type": "code",
      "metadata": {
        "id": "5UWVrHZ57buA",
        "colab_type": "code",
        "colab": {}
      },
      "source": [
        "vectorizer = TfidfVectorizer(min_df=15,max_df=0.9)\n",
        "vectorizer.fit(train['preprocessed_plots'])\n",
        "x_train=vectorizer.transform(train['preprocessed_plots'])\n",
        "x_test=vectorizer.transform(test['preprocessed_plots'])"
      ],
      "execution_count": 0,
      "outputs": []
    },
    {
      "cell_type": "code",
      "metadata": {
        "id": "7gtbgnxi91iN",
        "colab_type": "code",
        "outputId": "b487c238-aeaa-409c-c912-f90a85f9223d",
        "colab": {
          "base_uri": "https://localhost:8080/",
          "height": 34
        }
      },
      "source": [
        "x_train.shape"
      ],
      "execution_count": 0,
      "outputs": [
        {
          "output_type": "execute_result",
          "data": {
            "text/plain": [
              "(11862, 18909)"
            ]
          },
          "metadata": {
            "tags": []
          },
          "execution_count": 153
        }
      ]
    },
    {
      "cell_type": "code",
      "metadata": {
        "id": "bh7jAj6h93P0",
        "colab_type": "code",
        "outputId": "76b81226-101f-431c-946e-ecc2b8cfbb48",
        "colab": {
          "base_uri": "https://localhost:8080/",
          "height": 34
        }
      },
      "source": [
        "lda_Z.shape"
      ],
      "execution_count": 0,
      "outputs": [
        {
          "output_type": "execute_result",
          "data": {
            "text/plain": [
              "(11862, 15)"
            ]
          },
          "metadata": {
            "tags": []
          },
          "execution_count": 154
        }
      ]
    },
    {
      "cell_type": "code",
      "metadata": {
        "id": "KUuCad6A8FcV",
        "colab_type": "code",
        "colab": {}
      },
      "source": [
        "from scipy.sparse import coo_matrix, hstack\n",
        "x_train=hstack((x_train,lda_Z))"
      ],
      "execution_count": 0,
      "outputs": []
    },
    {
      "cell_type": "code",
      "metadata": {
        "id": "SHKYWyND9xLd",
        "colab_type": "code",
        "outputId": "4b79f5b1-ddd0-4a6e-d93f-715cb10b59b4",
        "colab": {
          "base_uri": "https://localhost:8080/",
          "height": 34
        }
      },
      "source": [
        "x_train.shape"
      ],
      "execution_count": 0,
      "outputs": [
        {
          "output_type": "execute_result",
          "data": {
            "text/plain": [
              "(11862, 18924)"
            ]
          },
          "metadata": {
            "tags": []
          },
          "execution_count": 156
        }
      ]
    },
    {
      "cell_type": "code",
      "metadata": {
        "id": "c_9zR7Ap-WlA",
        "colab_type": "code",
        "colab": {}
      },
      "source": [
        "x_test=hstack((x_test,lda_t))"
      ],
      "execution_count": 0,
      "outputs": []
    },
    {
      "cell_type": "code",
      "metadata": {
        "id": "4rvSeV72-aVt",
        "colab_type": "code",
        "outputId": "6f6b5ba2-c03f-47e9-d477-c56fcce0f2ee",
        "colab": {
          "base_uri": "https://localhost:8080/",
          "height": 34
        }
      },
      "source": [
        "x_test.shape"
      ],
      "execution_count": 0,
      "outputs": [
        {
          "output_type": "execute_result",
          "data": {
            "text/plain": [
              "(2966, 18924)"
            ]
          },
          "metadata": {
            "tags": []
          },
          "execution_count": 158
        }
      ]
    },
    {
      "cell_type": "code",
      "metadata": {
        "id": "xZmmMjbn-b0o",
        "colab_type": "code",
        "outputId": "d747ef4a-b39d-4d97-9c3a-1193fb1758de",
        "colab": {
          "base_uri": "https://localhost:8080/",
          "height": 170
        }
      },
      "source": [
        "params = {\n",
        "    \"estimator__alpha\": [10**-5,10**-4,10**-3,10**-2, 10**-1, 10**1]\n",
        "}\n",
        "\n",
        "clf = OneVsRestClassifier(SGDClassifier(loss='log', penalty='l1',n_jobs=-1),n_jobs=-1)\n",
        "\n",
        "model=GridSearchCV(clf, param_grid=params, scoring='f1_micro',n_jobs=-1,return_train_score=True,cv=3,verbose=10)\n",
        "\n",
        "model.fit(x_train, y_train)\n",
        "\n",
        "print (\"The best cross-validation score:\",model.best_score_)\n",
        "print (\"The best parameters:\",model.best_params_)"
      ],
      "execution_count": 0,
      "outputs": [
        {
          "output_type": "stream",
          "text": [
            "Fitting 3 folds for each of 6 candidates, totalling 18 fits\n"
          ],
          "name": "stdout"
        },
        {
          "output_type": "stream",
          "text": [
            "[Parallel(n_jobs=-1)]: Using backend LokyBackend with 2 concurrent workers.\n",
            "[Parallel(n_jobs=-1)]: Done   1 tasks      | elapsed:   37.6s\n",
            "[Parallel(n_jobs=-1)]: Done   4 tasks      | elapsed:  1.5min\n",
            "[Parallel(n_jobs=-1)]: Done   9 tasks      | elapsed:  2.8min\n",
            "[Parallel(n_jobs=-1)]: Done  14 tasks      | elapsed:  4.5min\n",
            "[Parallel(n_jobs=-1)]: Done  18 out of  18 | elapsed:  5.4min finished\n"
          ],
          "name": "stderr"
        },
        {
          "output_type": "stream",
          "text": [
            "The best cross-validation score: 0.28893653649341705\n",
            "The best parameters: {'estimator__alpha': 1e-05}\n"
          ],
          "name": "stdout"
        }
      ]
    },
    {
      "cell_type": "code",
      "metadata": {
        "id": "R_sAdTt0gYDZ",
        "colab_type": "code",
        "outputId": "295e0b4c-54d1-4366-cfda-c0a9a0f2abf9",
        "colab": {
          "base_uri": "https://localhost:8080/",
          "height": 295
        }
      },
      "source": [
        "plot_scores(pd.DataFrame(model.cv_results_))"
      ],
      "execution_count": 0,
      "outputs": [
        {
          "output_type": "display_data",
          "data": {
            "image/png": "[encoded data removed]",
            "text/plain": [
              "<Figure size 432x288 with 1 Axes>"
            ]
          },
          "metadata": {
            "tags": []
          }
        }
      ]
    },
    {
      "cell_type": "code",
      "metadata": {
        "id": "6uVvXYcC-g0_",
        "colab_type": "code",
        "outputId": "c9c44019-d2b2-40a6-b69d-f4f180dac590",
        "colab": {
          "base_uri": "https://localhost:8080/",
          "height": 51
        }
      },
      "source": [
        "classifier = OneVsRestClassifier(SGDClassifier(loss='log', alpha=1e-05, penalty='l1'), n_jobs=-1)\n",
        "classifier.fit(x_train, y_train)\n",
        "predictions = classifier.predict(x_test)\n",
        "\n",
        "precision = precision_score(y_test, predictions, average='micro')\n",
        "recall = recall_score(y_test, predictions, average='micro')\n",
        "f1 = f1_score(y_test, predictions, average='micro')\n",
        " \n",
        "print(\"Micro-average quality numbers\")\n",
        "print(\"Precision: {:.4f}, Recall: {:.4f}, F1-measure: {:.4f}\".format(precision, recall, f1))"
      ],
      "execution_count": 0,
      "outputs": [
        {
          "output_type": "stream",
          "text": [
            "Micro-average quality numbers\n",
            "Precision: 0.4523, Recall: 0.2317, F1-measure: 0.3064\n"
          ],
          "name": "stdout"
        }
      ]
    },
    {
      "cell_type": "markdown",
      "metadata": {
        "id": "BN5z8b1pUa6K",
        "colab_type": "text"
      },
      "source": [
        "**CREATING TOP 10 WORDS COEFFICIENTS AS FEATURES FOR TOPIC ASSIGNED**"
      ]
    },
    {
      "cell_type": "code",
      "metadata": {
        "id": "05JD9TFu_g7E",
        "colab_type": "code",
        "outputId": "31f2498c-61dc-4d85-f693-9a4dd0180568",
        "colab": {
          "base_uri": "https://localhost:8080/",
          "height": 34
        }
      },
      "source": [
        "lda_model.components_.shape"
      ],
      "execution_count": 0,
      "outputs": [
        {
          "output_type": "execute_result",
          "data": {
            "text/plain": [
              "(20, 28493)"
            ]
          },
          "metadata": {
            "tags": []
          },
          "execution_count": 165
        }
      ]
    },
    {
      "cell_type": "code",
      "metadata": {
        "id": "A8XEqwi5RJsK",
        "colab_type": "code",
        "outputId": "79f96b9e-6c29-435e-a941-eab93246cfd6",
        "colab": {
          "base_uri": "https://localhost:8080/",
          "height": 34
        }
      },
      "source": [
        "lda_model.components_.shape"
      ],
      "execution_count": 0,
      "outputs": [
        {
          "output_type": "execute_result",
          "data": {
            "text/plain": [
              "(20, 28493)"
            ]
          },
          "metadata": {
            "tags": []
          },
          "execution_count": 166
        }
      ]
    },
    {
      "cell_type": "code",
      "metadata": {
        "id": "Nqv5lEoWTA9h",
        "colab_type": "code",
        "colab": {}
      },
      "source": [
        "topic_assigned_train=lda_Z.argmax(axis=1)\n",
        "topic_assigned_test=lda_t.argmax(axis=1)"
      ],
      "execution_count": 0,
      "outputs": []
    },
    {
      "cell_type": "code",
      "metadata": {
        "id": "-5RRkg_FTjtK",
        "colab_type": "code",
        "colab": {}
      },
      "source": [
        "\n",
        "def extract_features(components,topic_assigned):\n",
        "  topic_features=[]\n",
        "  for i in topic_assigned:\n",
        "    \n",
        "    top_10=sorted(components[i],reverse=True)[:10]\n",
        "    topic_features.append(top_10)\n",
        "  return topic_features  "
      ],
      "execution_count": 0,
      "outputs": []
    },
    {
      "cell_type": "code",
      "metadata": {
        "id": "Cqpx39unEcQa",
        "colab_type": "code",
        "colab": {}
      },
      "source": [
        "components=lda_model.components_ / lda_model.components_.sum(axis=1)[:, np.newaxis]"
      ],
      "execution_count": 0,
      "outputs": []
    },
    {
      "cell_type": "code",
      "metadata": {
        "id": "OK0Pg3XcVXQg",
        "colab_type": "code",
        "colab": {}
      },
      "source": [
        "train_topic=extract_features(components,topic_assigned_train)"
      ],
      "execution_count": 0,
      "outputs": []
    },
    {
      "cell_type": "code",
      "metadata": {
        "id": "oaQzhRycVqsV",
        "colab_type": "code",
        "colab": {}
      },
      "source": [
        "\n",
        "test_topic=extract_features(components,topic_assigned_test)"
      ],
      "execution_count": 0,
      "outputs": []
    },
    {
      "cell_type": "code",
      "metadata": {
        "id": "xJiXhq_WW_lR",
        "colab_type": "code",
        "outputId": "338881c6-de8a-4812-f326-9d13e16fa15e",
        "colab": {
          "base_uri": "https://localhost:8080/",
          "height": 170
        }
      },
      "source": [
        "params = {\n",
        "    \"estimator__alpha\": [10**-5,10**-4,10**-3,10**-2, 10**-1, 10**1]\n",
        "}\n",
        "\n",
        "clf = OneVsRestClassifier(SGDClassifier(loss='log', penalty='l1',n_jobs=-1),n_jobs=-1)\n",
        "\n",
        "model=GridSearchCV(clf, param_grid=params, scoring='f1_micro',n_jobs=-1,return_train_score=True,cv=3,verbose=10)\n",
        "\n",
        "model.fit(train_topic, y_train)\n",
        "\n",
        "print (\"The best cross-validation score:\",model.best_score_)\n",
        "print (\"The best parameters:\",model.best_params_)"
      ],
      "execution_count": 0,
      "outputs": [
        {
          "output_type": "stream",
          "text": [
            "Fitting 3 folds for each of 6 candidates, totalling 18 fits\n"
          ],
          "name": "stdout"
        },
        {
          "output_type": "stream",
          "text": [
            "[Parallel(n_jobs=-1)]: Using backend LokyBackend with 2 concurrent workers.\n",
            "[Parallel(n_jobs=-1)]: Done   1 tasks      | elapsed:   11.3s\n",
            "[Parallel(n_jobs=-1)]: Done   4 tasks      | elapsed:   27.8s\n",
            "[Parallel(n_jobs=-1)]: Done   9 tasks      | elapsed:   53.6s\n",
            "[Parallel(n_jobs=-1)]: Done  14 tasks      | elapsed:  1.3min\n",
            "[Parallel(n_jobs=-1)]: Done  18 out of  18 | elapsed:  1.6min finished\n"
          ],
          "name": "stderr"
        },
        {
          "output_type": "stream",
          "text": [
            "The best cross-validation score: 0.05075979823788013\n",
            "The best parameters: {'estimator__alpha': 1e-05}\n"
          ],
          "name": "stdout"
        }
      ]
    },
    {
      "cell_type": "code",
      "metadata": {
        "id": "vaArA1SPgbAV",
        "colab_type": "code",
        "outputId": "5b7666a7-1186-4576-900b-8333fe99cee5",
        "colab": {
          "base_uri": "https://localhost:8080/",
          "height": 295
        }
      },
      "source": [
        "plot_scores(pd.DataFrame(model.cv_results_))"
      ],
      "execution_count": 0,
      "outputs": [
        {
          "output_type": "display_data",
          "data": {
            "image/png": "[encoded data removed]",
            "text/plain": [
              "<Figure size 432x288 with 1 Axes>"
            ]
          },
          "metadata": {
            "tags": []
          }
        }
      ]
    },
    {
      "cell_type": "code",
      "metadata": {
        "id": "zYVkrcgcoS5z",
        "colab_type": "code",
        "outputId": "f50299cd-f128-47a5-d044-50462004b122",
        "colab": {
          "base_uri": "https://localhost:8080/",
          "height": 51
        }
      },
      "source": [
        "classifier = OneVsRestClassifier(SGDClassifier(loss='log', alpha=1e-05, penalty='l1'), n_jobs=-1)\n",
        "classifier.fit(train_topic, y_train)\n",
        "predictions = classifier.predict(test_topic)\n",
        "\n",
        "precision = precision_score(y_test, predictions, average='micro')\n",
        "recall = recall_score(y_test, predictions, average='micro')\n",
        "f1 = f1_score(y_test, predictions, average='micro')\n",
        " \n",
        "print(\"Micro-average quality numbers\")\n",
        "print(\"Precision: {:.4f}, Recall: {:.4f}, F1-measure: {:.4f}\".format(precision, recall, f1))"
      ],
      "execution_count": 0,
      "outputs": [
        {
          "output_type": "stream",
          "text": [
            "Micro-average quality numbers\n",
            "Precision: 0.5244, Recall: 0.0262, F1-measure: 0.0498\n"
          ],
          "name": "stdout"
        }
      ]
    },
    {
      "cell_type": "markdown",
      "metadata": {
        "id": "BTyZyJuvsB0Z",
        "colab_type": "text"
      },
      "source": [
        "**CONCAT THE COEFFICIENTS WITH TFIDF AND TOPIC PROBABILITIES**"
      ]
    },
    {
      "cell_type": "code",
      "metadata": {
        "id": "OYh2XIb1rC6s",
        "colab_type": "code",
        "colab": {}
      },
      "source": [
        "x_train=hstack((x_train,train_topic))\n",
        "x_test=hstack((x_test,test_topic))"
      ],
      "execution_count": 0,
      "outputs": []
    },
    {
      "cell_type": "code",
      "metadata": {
        "id": "XcE0oBkJCI_b",
        "colab_type": "code",
        "outputId": "068c00f9-7054-4e9f-fea9-aa3874333a3a",
        "colab": {
          "base_uri": "https://localhost:8080/",
          "height": 34
        }
      },
      "source": [
        "x_train.shape"
      ],
      "execution_count": 0,
      "outputs": [
        {
          "output_type": "execute_result",
          "data": {
            "text/plain": [
              "(11862, 18934)"
            ]
          },
          "metadata": {
            "tags": []
          },
          "execution_count": 176
        }
      ]
    },
    {
      "cell_type": "code",
      "metadata": {
        "id": "M6CGPoB0sQ3f",
        "colab_type": "code",
        "outputId": "1f408807-faca-44bb-aea7-621fdb566c97",
        "colab": {
          "base_uri": "https://localhost:8080/",
          "height": 170
        }
      },
      "source": [
        "from sklearn.linear_model import LogisticRegression\n",
        "\n",
        "params = {\n",
        "    \"estimator__alpha\": [10**-5,10**-4,10**-3,10**-2, 10**-1, 10**1]\n",
        "}\n",
        "\n",
        "clf = OneVsRestClassifier(SGDClassifier(loss='log', penalty='l1',n_jobs=-1),n_jobs=-1)\n",
        "\n",
        "model=GridSearchCV(clf, param_grid=params, scoring='f1_micro',n_jobs=-1,return_train_score=True,cv=3,verbose=10)\n",
        "\n",
        "model.fit(np.sqrt(x_train), y_train)\n",
        "\n",
        "print (\"The best cross-validation score:\",model.best_score_)\n",
        "print (\"The best parameters:\",model.best_params_)"
      ],
      "execution_count": 0,
      "outputs": [
        {
          "output_type": "stream",
          "text": [
            "Fitting 3 folds for each of 6 candidates, totalling 18 fits\n"
          ],
          "name": "stdout"
        },
        {
          "output_type": "stream",
          "text": [
            "[Parallel(n_jobs=-1)]: Using backend LokyBackend with 2 concurrent workers.\n",
            "[Parallel(n_jobs=-1)]: Done   1 tasks      | elapsed:  1.0min\n",
            "[Parallel(n_jobs=-1)]: Done   4 tasks      | elapsed:  2.2min\n",
            "[Parallel(n_jobs=-1)]: Done   9 tasks      | elapsed:  3.4min\n",
            "[Parallel(n_jobs=-1)]: Done  14 tasks      | elapsed:  4.7min\n",
            "[Parallel(n_jobs=-1)]: Done  18 out of  18 | elapsed:  5.5min finished\n"
          ],
          "name": "stderr"
        },
        {
          "output_type": "stream",
          "text": [
            "The best cross-validation score: 0.30603237521675997\n",
            "The best parameters: {'estimator__alpha': 0.0001}\n"
          ],
          "name": "stdout"
        }
      ]
    },
    {
      "cell_type": "code",
      "metadata": {
        "id": "NBE7Kbaagd0t",
        "colab_type": "code",
        "outputId": "349633de-dfcc-4ebd-82dd-ef0c26952875",
        "colab": {
          "base_uri": "https://localhost:8080/",
          "height": 295
        }
      },
      "source": [
        "plot_scores(pd.DataFrame(model.cv_results_))"
      ],
      "execution_count": 0,
      "outputs": [
        {
          "output_type": "display_data",
          "data": {
            "image/png": "[encoded data removed]",
            "text/plain": [
              "<Figure size 432x288 with 1 Axes>"
            ]
          },
          "metadata": {
            "tags": []
          }
        }
      ]
    },
    {
      "cell_type": "code",
      "metadata": {
        "id": "zdsyuLsGsVFP",
        "colab_type": "code",
        "outputId": "d74e2fdc-f4e2-4cd2-9e40-913df47716d3",
        "colab": {
          "base_uri": "https://localhost:8080/",
          "height": 51
        }
      },
      "source": [
        "classifier = OneVsRestClassifier(SGDClassifier(loss='log', alpha=0.0001, penalty='l1'), n_jobs=-1)\n",
        "classifier.fit(x_train, y_train)\n",
        "predictions = classifier.predict(x_test)\n",
        "\n",
        "precision = precision_score(y_test, predictions, average='micro')\n",
        "recall = recall_score(y_test, predictions, average='micro')\n",
        "f1 = f1_score(y_test, predictions, average='micro')\n",
        " \n",
        "print(\"Micro-average quality numbers\")\n",
        "print(\"Precision: {:.4f}, Recall: {:.4f}, F1-measure: {:.4f}\".format(precision, recall, f1))"
      ],
      "execution_count": 0,
      "outputs": [
        {
          "output_type": "stream",
          "text": [
            "Micro-average quality numbers\n",
            "Precision: 0.6668, Recall: 0.1360, F1-measure: 0.2259\n"
          ],
          "name": "stdout"
        }
      ]
    },
    {
      "cell_type": "markdown",
      "metadata": {
        "id": "4-TPztaqJaOc",
        "colab_type": "text"
      },
      "source": [
        "\n",
        "\n",
        "---\n",
        "\n"
      ]
    },
    {
      "cell_type": "markdown",
      "metadata": {
        "id": "7INhiy4vMuTt",
        "colab_type": "text"
      },
      "source": [
        "**WORD EMBEDDINGS**"
      ]
    },
    {
      "cell_type": "code",
      "metadata": {
        "id": "TXJbCdP-Jhkn",
        "colab_type": "code",
        "colab": {}
      },
      "source": [
        "\n",
        "from gensim.models import Word2Vec\n",
        "from gensim.models import KeyedVectors"
      ],
      "execution_count": 0,
      "outputs": []
    },
    {
      "cell_type": "code",
      "metadata": {
        "id": "FA752lbFW8Vb",
        "colab_type": "code",
        "colab": {}
      },
      "source": [
        "list_of_sent_train = []\n",
        "\n",
        "for sent in train['preprocessed_plots'].values:\n",
        "    list_of_sent_train.append(sent.split())"
      ],
      "execution_count": 0,
      "outputs": []
    },
    {
      "cell_type": "code",
      "metadata": {
        "id": "TkFFyL0tYmUj",
        "colab_type": "code",
        "colab": {}
      },
      "source": [
        "list_of_sent_test = []\n",
        "\n",
        "for sent in test['preprocessed_plots'].values:\n",
        "    list_of_sent_test.append(sent.split())"
      ],
      "execution_count": 0,
      "outputs": []
    },
    {
      "cell_type": "code",
      "metadata": {
        "id": "StyurrycVdNx",
        "colab_type": "code",
        "colab": {}
      },
      "source": [
        "w2v_model_train = Word2Vec(list_of_sent_train, min_count = 5, size = 50, workers= 4)"
      ],
      "execution_count": 0,
      "outputs": []
    },
    {
      "cell_type": "code",
      "metadata": {
        "id": "7USYpcDQWKIN",
        "colab_type": "code",
        "outputId": "585e4b9e-0593-47a4-b348-7bd0b35704f5",
        "colab": {
          "base_uri": "https://localhost:8080/",
          "height": 51
        }
      },
      "source": [
        "#visualising words convered to matrix\n",
        "w2v_words_train = list(w2v_model_train.wv.vocab)\n",
        "print('number of words that occured minimum 5 times ',len(w2v_words_train))\n",
        "print('sample words', w2v_words_train[0:10])"
      ],
      "execution_count": 0,
      "outputs": [
        {
          "output_type": "stream",
          "text": [
            "number of words that occured minimum 5 times  48091\n",
            "sample words ['note', 'synopsis', 'italian', 'release', 'segments', 'certain', 'order', 'boris', 'karloff', 'introduces']\n"
          ],
          "name": "stdout"
        }
      ]
    },
    {
      "cell_type": "code",
      "metadata": {
        "id": "ti6viIgVWNH9",
        "colab_type": "code",
        "outputId": "5678fb7b-7543-4e2d-c0c1-488815e8f3e0",
        "colab": {
          "base_uri": "https://localhost:8080/",
          "height": 68
        }
      },
      "source": [
        "train_w2v = []\n",
        "\n",
        "for sent in tqdm(list_of_sent_train):\n",
        "    sent_vect = np.zeros(50)\n",
        "    cnt_words = 0\n",
        "    for word in sent:\n",
        "        if word in w2v_words_train:\n",
        "            vect = w2v_model_train.wv[word]#creating a matrix of 50 length for each word\n",
        "            sent_vect += vect \n",
        "            cnt_words = cnt_words + 1\n",
        "    if cnt_words !=0:\n",
        "        sent_vect /= cnt_words\n",
        "    \n",
        "        train_w2v.append(sent_vect)\n",
        "\n",
        "print(len(train_w2v))\n",
        "print(len(train_w2v[0]))"
      ],
      "execution_count": 0,
      "outputs": [
        {
          "output_type": "stream",
          "text": [
            "100%|██████████| 11862/11862 [18:04<00:00, 13.51it/s]"
          ],
          "name": "stderr"
        },
        {
          "output_type": "stream",
          "text": [
            "11862\n",
            "50\n"
          ],
          "name": "stdout"
        },
        {
          "output_type": "stream",
          "text": [
            "\n"
          ],
          "name": "stderr"
        }
      ]
    },
    {
      "cell_type": "code",
      "metadata": {
        "id": "Axvu-7wAY2ge",
        "colab_type": "code",
        "outputId": "79d3e298-ea00-4649-cceb-9ffb19ba5c7f",
        "colab": {
          "base_uri": "https://localhost:8080/",
          "height": 68
        }
      },
      "source": [
        "test_w2v = []\n",
        "\n",
        "for sent in tqdm(list_of_sent_test):\n",
        "    sent_vect = np.zeros(50)\n",
        "    cnt_words = 0\n",
        "    for word in sent:\n",
        "        if word in w2v_words_train:\n",
        "            vect = w2v_model_train.wv[word]#creating a matrix of 50 length for each word\n",
        "            sent_vect += vect \n",
        "            cnt_words = cnt_words + 1\n",
        "    if cnt_words !=0:\n",
        "        sent_vect /= cnt_words\n",
        "    \n",
        "        test_w2v.append(sent_vect)\n",
        "\n",
        "print(len(test_w2v))\n",
        "print(len(test_w2v[0]))"
      ],
      "execution_count": 0,
      "outputs": [
        {
          "output_type": "stream",
          "text": [
            "100%|██████████| 2966/2966 [04:51<00:00, 10.16it/s]"
          ],
          "name": "stderr"
        },
        {
          "output_type": "stream",
          "text": [
            "2966\n",
            "50\n"
          ],
          "name": "stdout"
        },
        {
          "output_type": "stream",
          "text": [
            "\n"
          ],
          "name": "stderr"
        }
      ]
    },
    {
      "cell_type": "code",
      "metadata": {
        "id": "k9VzYCUNeY2s",
        "colab_type": "code",
        "outputId": "1eda2596-fd85-4e75-a3f8-665dde0115ef",
        "colab": {
          "base_uri": "https://localhost:8080/",
          "height": 170
        }
      },
      "source": [
        "from sklearn.linear_model import LogisticRegression\n",
        "\n",
        "params = {\n",
        "    \"estimator__alpha\": [10**-5,10**-4,10**-3,10**-2, 10**-1, 10**1]\n",
        "}\n",
        "\n",
        "clf = OneVsRestClassifier(SGDClassifier(loss='log', penalty='l1',n_jobs=-1),n_jobs=-1)\n",
        "\n",
        "model=GridSearchCV(clf, param_grid=params, scoring='f1_micro',n_jobs=-1,return_train_score=True,cv=3,verbose=10)\n",
        "\n",
        "model.fit(train_w2v, y_train)\n",
        "\n",
        "print (\"The best cross-validation score:\",model.best_score_)\n",
        "print (\"The best parameters:\",model.best_params_)"
      ],
      "execution_count": 0,
      "outputs": [
        {
          "output_type": "stream",
          "text": [
            "Fitting 3 folds for each of 6 candidates, totalling 18 fits\n"
          ],
          "name": "stdout"
        },
        {
          "output_type": "stream",
          "text": [
            "[Parallel(n_jobs=-1)]: Using backend LokyBackend with 2 concurrent workers.\n",
            "[Parallel(n_jobs=-1)]: Done   1 tasks      | elapsed:   20.4s\n",
            "[Parallel(n_jobs=-1)]: Done   4 tasks      | elapsed:   42.8s\n",
            "[Parallel(n_jobs=-1)]: Done   9 tasks      | elapsed:  1.0min\n",
            "[Parallel(n_jobs=-1)]: Done  14 tasks      | elapsed:  1.3min\n",
            "[Parallel(n_jobs=-1)]: Done  18 out of  18 | elapsed:  1.6min finished\n"
          ],
          "name": "stderr"
        },
        {
          "output_type": "stream",
          "text": [
            "The best cross-validation score: 0.2483444525406961\n",
            "The best parameters: {'estimator__alpha': 1e-05}\n"
          ],
          "name": "stdout"
        }
      ]
    },
    {
      "cell_type": "code",
      "metadata": {
        "id": "c_c32ZLqfoVP",
        "colab_type": "code",
        "outputId": "301219fe-ee9b-4b7c-b0f2-df599d8bb970",
        "colab": {
          "base_uri": "https://localhost:8080/",
          "height": 51
        }
      },
      "source": [
        "classifier = OneVsRestClassifier(SGDClassifier(loss='log', alpha=1e-05, penalty='l1'), n_jobs=-1)\n",
        "classifier.fit(train_w2v, y_train)\n",
        "predictions = classifier.predict(test_w2v)\n",
        "\n",
        "precision = precision_score(y_test, predictions, average='micro')\n",
        "recall = recall_score(y_test, predictions, average='micro')\n",
        "f1 = f1_score(y_test, predictions, average='micro')\n",
        " \n",
        "print(\"Micro-average quality numbers\")\n",
        "print(\"Precision: {:.4f}, Recall: {:.4f}, F1-measure: {:.4f}\".format(precision, recall, f1))"
      ],
      "execution_count": 0,
      "outputs": [
        {
          "output_type": "stream",
          "text": [
            "Micro-average quality numbers\n",
            "Precision: 0.6038, Recall: 0.0632, F1-measure: 0.1144\n"
          ],
          "name": "stdout"
        }
      ]
    },
    {
      "cell_type": "markdown",
      "metadata": {
        "id": "-U_3Xq6phAFw",
        "colab_type": "text"
      },
      "source": [
        "**W2V+TFIDF+LDA TOGETHER**"
      ]
    },
    {
      "cell_type": "code",
      "metadata": {
        "id": "pKldDfQBg963",
        "colab_type": "code",
        "colab": {}
      },
      "source": [
        "x_train=hstack((x_train,train_w2v))\n",
        "x_test=hstack((x_test,test_w2v))"
      ],
      "execution_count": 0,
      "outputs": []
    },
    {
      "cell_type": "code",
      "metadata": {
        "id": "pcH0z4U4gYJv",
        "colab_type": "code",
        "outputId": "5540b42c-3976-49f0-a456-5906dda33394",
        "colab": {
          "base_uri": "https://localhost:8080/",
          "height": 170
        }
      },
      "source": [
        "from sklearn.linear_model import LogisticRegression\n",
        "\n",
        "params = {\n",
        "    \"estimator__alpha\": [10**-5,10**-4,10**-3,10**-2, 10**-1, 10**1]\n",
        "}\n",
        "\n",
        "clf = OneVsRestClassifier(SGDClassifier(loss='log', penalty='l1',n_jobs=-1),n_jobs=-1)\n",
        "\n",
        "model=GridSearchCV(clf, param_grid=params, scoring='f1_micro',n_jobs=-1,return_train_score=True,cv=3,verbose=10)\n",
        "\n",
        "model.fit(x_train, y_train)\n",
        "\n",
        "print (\"The best cross-validation score:\",model.best_score_)\n",
        "print (\"The best parameters:\",model.best_params_)"
      ],
      "execution_count": 0,
      "outputs": [
        {
          "output_type": "stream",
          "text": [
            "Fitting 3 folds for each of 6 candidates, totalling 18 fits\n"
          ],
          "name": "stdout"
        },
        {
          "output_type": "stream",
          "text": [
            "[Parallel(n_jobs=-1)]: Using backend LokyBackend with 2 concurrent workers.\n",
            "[Parallel(n_jobs=-1)]: Done   1 tasks      | elapsed:  1.5min\n",
            "[Parallel(n_jobs=-1)]: Done   4 tasks      | elapsed:  3.7min\n",
            "[Parallel(n_jobs=-1)]: Done   9 tasks      | elapsed:  5.5min\n",
            "[Parallel(n_jobs=-1)]: Done  14 tasks      | elapsed:  6.7min\n",
            "[Parallel(n_jobs=-1)]: Done  18 out of  18 | elapsed:  7.6min finished\n"
          ],
          "name": "stderr"
        },
        {
          "output_type": "stream",
          "text": [
            "The best cross-validation score: 0.2948013892216815\n",
            "The best parameters: {'estimator__alpha': 1e-05}\n"
          ],
          "name": "stdout"
        }
      ]
    },
    {
      "cell_type": "code",
      "metadata": {
        "id": "Q9VVJykGhPUc",
        "colab_type": "code",
        "outputId": "e0203f17-538a-4027-a106-154b0b4e6715",
        "colab": {
          "base_uri": "https://localhost:8080/",
          "height": 51
        }
      },
      "source": [
        "classifier = OneVsRestClassifier(SGDClassifier(loss='log', alpha=1e-05, penalty='l1'), n_jobs=-1)\n",
        "classifier.fit(x_train, y_train)\n",
        "predictions = classifier.predict(x_test)\n",
        "\n",
        "precision = precision_score(y_test, predictions, average='micro')\n",
        "recall = recall_score(y_test, predictions, average='micro')\n",
        "f1 = f1_score(y_test, predictions, average='micro')\n",
        " \n",
        "print(\"Micro-average quality numbers\")\n",
        "print(\"Precision: {:.4f}, Recall: {:.4f}, F1-measure: {:.4f}\".format(precision, recall, f1))"
      ],
      "execution_count": 0,
      "outputs": [
        {
          "output_type": "stream",
          "text": [
            "Micro-average quality numbers\n",
            "Precision: 0.3759, Recall: 0.2609, F1-measure: 0.3080\n"
          ],
          "name": "stdout"
        }
      ]
    },
    {
      "cell_type": "markdown",
      "metadata": {
        "id": "Tua0NqeCJWg2",
        "colab_type": "text"
      },
      "source": [
        "\n",
        "\n",
        "---\n",
        "\n"
      ]
    },
    {
      "cell_type": "markdown",
      "metadata": {
        "id": "4AwOOtdD28JJ",
        "colab_type": "text"
      },
      "source": [
        "**FAST TEXT**"
      ]
    },
    {
      "cell_type": "code",
      "metadata": {
        "id": "ZfX7TXfWjOsL",
        "colab_type": "code",
        "colab": {}
      },
      "source": [
        "from gensim.models import FastText\n",
        "model_ted = FastText(list_of_sent_train, size=100, window=5, min_count=5, workers=4,sg=1)\n"
      ],
      "execution_count": 0,
      "outputs": []
    },
    {
      "cell_type": "code",
      "metadata": {
        "id": "Iuh5akdy5Vhf",
        "colab_type": "code",
        "outputId": "5d64478a-f6b6-4020-c58b-a98bfd22ae6b",
        "colab": {
          "base_uri": "https://localhost:8080/",
          "height": 51
        }
      },
      "source": [
        "fast_words_train = list(model_ted.wv.vocab)\n",
        "print('number of words that occured minimum 5 times ',len(fast_words_train))\n",
        "print('sample words', fast_words_train[0:10])"
      ],
      "execution_count": 0,
      "outputs": [
        {
          "output_type": "stream",
          "text": [
            "number of words that occured minimum 5 times  48091\n",
            "sample words ['note', 'synopsis', 'italian', 'release', 'segments', 'certain', 'order', 'boris', 'karloff', 'introduces']\n"
          ],
          "name": "stdout"
        }
      ]
    },
    {
      "cell_type": "code",
      "metadata": {
        "id": "cMkoeSTr3IS4",
        "colab_type": "code",
        "outputId": "598ee995-d72d-49d3-fd8b-625081575667",
        "colab": {
          "base_uri": "https://localhost:8080/",
          "height": 68
        }
      },
      "source": [
        "train_fast = []\n",
        "\n",
        "for sent in tqdm(list_of_sent_train):\n",
        "    sent_vect = np.zeros(100)\n",
        "    cnt_words = 0\n",
        "    for word in sent:\n",
        "        if word in fast_words_train:\n",
        "            vect = model_ted.wv[word]#creating a matrix of 50 length for each word\n",
        "            sent_vect += vect \n",
        "            cnt_words = cnt_words + 1\n",
        "    if cnt_words !=0:\n",
        "        sent_vect /= cnt_words\n",
        "    \n",
        "        train_fast.append(sent_vect)\n",
        "\n",
        "print(len(train_fast))\n",
        "print(len(train_fast[0]))"
      ],
      "execution_count": 0,
      "outputs": [
        {
          "output_type": "stream",
          "text": [
            "100%|██████████| 11862/11862 [18:45<00:00, 10.54it/s]"
          ],
          "name": "stderr"
        },
        {
          "output_type": "stream",
          "text": [
            "11862\n",
            "100\n"
          ],
          "name": "stdout"
        },
        {
          "output_type": "stream",
          "text": [
            "\n"
          ],
          "name": "stderr"
        }
      ]
    },
    {
      "cell_type": "code",
      "metadata": {
        "id": "yWfdTMT75xui",
        "colab_type": "code",
        "outputId": "cb436e5f-3758-4309-fa65-46c2ff23fab3",
        "colab": {
          "base_uri": "https://localhost:8080/",
          "height": 68
        }
      },
      "source": [
        "test_fast = []\n",
        "\n",
        "for sent in tqdm(list_of_sent_test):\n",
        "    sent_vect = np.zeros(100)\n",
        "    cnt_words = 0\n",
        "    for word in sent:\n",
        "        if word in fast_words_train:\n",
        "            vect = model_ted.wv[word]#creating a matrix of 50 length for each word\n",
        "            sent_vect += vect \n",
        "            cnt_words = cnt_words + 1\n",
        "    if cnt_words !=0:\n",
        "        sent_vect /= cnt_words\n",
        "    \n",
        "        test_fast.append(sent_vect)\n",
        "\n",
        "print(len(test_fast))\n",
        "print(len(test_fast[0]))"
      ],
      "execution_count": 0,
      "outputs": [
        {
          "output_type": "stream",
          "text": [
            "100%|██████████| 2966/2966 [04:56<00:00,  9.99it/s]"
          ],
          "name": "stderr"
        },
        {
          "output_type": "stream",
          "text": [
            "2966\n",
            "100\n"
          ],
          "name": "stdout"
        },
        {
          "output_type": "stream",
          "text": [
            "\n"
          ],
          "name": "stderr"
        }
      ]
    },
    {
      "cell_type": "code",
      "metadata": {
        "id": "BzoeKvUV-APp",
        "colab_type": "code",
        "outputId": "8d665fd1-7f94-4866-fd79-8f4f1abd5ec4",
        "colab": {
          "base_uri": "https://localhost:8080/",
          "height": 170
        }
      },
      "source": [
        "from sklearn.linear_model import LogisticRegression\n",
        "\n",
        "params = {\n",
        "    \"estimator__alpha\": [10**-5,10**-4,10**-3,10**-2, 10**-1, 10**1]\n",
        "}\n",
        "\n",
        "clf = OneVsRestClassifier(SGDClassifier(loss='log', penalty='l1',n_jobs=-1),n_jobs=-1)\n",
        "\n",
        "model=GridSearchCV(clf, param_grid=params, scoring='f1_micro',n_jobs=-1,return_train_score=True,cv=3,verbose=10)\n",
        "\n",
        "model.fit(train_fast, y_train)\n",
        "\n",
        "print (\"The best cross-validation score:\",model.best_score_)\n",
        "print (\"The best parameters:\",model.best_params_)"
      ],
      "execution_count": 0,
      "outputs": [
        {
          "output_type": "stream",
          "text": [
            "Fitting 3 folds for each of 6 candidates, totalling 18 fits\n"
          ],
          "name": "stdout"
        },
        {
          "output_type": "stream",
          "text": [
            "[Parallel(n_jobs=-1)]: Using backend LokyBackend with 2 concurrent workers.\n",
            "[Parallel(n_jobs=-1)]: Done   1 tasks      | elapsed:   27.6s\n",
            "[Parallel(n_jobs=-1)]: Done   4 tasks      | elapsed:   57.4s\n",
            "[Parallel(n_jobs=-1)]: Done   9 tasks      | elapsed:  1.3min\n",
            "[Parallel(n_jobs=-1)]: Done  14 tasks      | elapsed:  1.8min\n",
            "[Parallel(n_jobs=-1)]: Done  18 out of  18 | elapsed:  2.2min finished\n"
          ],
          "name": "stderr"
        },
        {
          "output_type": "stream",
          "text": [
            "The best cross-validation score: 0.2447451822236593\n",
            "The best parameters: {'estimator__alpha': 1e-05}\n"
          ],
          "name": "stdout"
        }
      ]
    },
    {
      "cell_type": "code",
      "metadata": {
        "id": "ZjZrdD9lB5uN",
        "colab_type": "code",
        "outputId": "9de3efc3-98cd-4449-96c5-b4fbda68eee6",
        "colab": {
          "base_uri": "https://localhost:8080/",
          "height": 51
        }
      },
      "source": [
        "classifier = OneVsRestClassifier(SGDClassifier(loss='log', alpha=1e-05, penalty='l1'), n_jobs=-1)\n",
        "classifier.fit(train_fast, y_train)\n",
        "predictions = classifier.predict(test_fast)\n",
        "\n",
        "precision = precision_score(y_test, predictions, average='micro')\n",
        "recall = recall_score(y_test, predictions, average='micro')\n",
        "f1 = f1_score(y_test, predictions, average='micro')\n",
        " \n",
        "print(\"Micro-average quality numbers\")\n",
        "print(\"Precision: {:.4f}, Recall: {:.4f}, F1-measure: {:.4f}\".format(precision, recall, f1))"
      ],
      "execution_count": 0,
      "outputs": [
        {
          "output_type": "stream",
          "text": [
            "Micro-average quality numbers\n",
            "Precision: 0.5849, Recall: 0.1726, F1-measure: 0.2665\n"
          ],
          "name": "stdout"
        }
      ]
    },
    {
      "cell_type": "markdown",
      "metadata": {
        "id": "6TWa9kNDJUhV",
        "colab_type": "text"
      },
      "source": [
        "\n",
        "\n",
        "---\n",
        "\n"
      ]
    },
    {
      "cell_type": "markdown",
      "metadata": {
        "id": "HNzauZPDEb5x",
        "colab_type": "text"
      },
      "source": [
        "**CONCAT FAST-TEXT AND TFIDF**"
      ]
    },
    {
      "cell_type": "code",
      "metadata": {
        "id": "pApvsvWVCJAD",
        "colab_type": "code",
        "colab": {}
      },
      "source": [
        "vectorizer = TfidfVectorizer(min_df=15,max_df=0.9)\n",
        "vectorizer.fit(train['preprocessed_plots'])\n",
        "x_train=vectorizer.transform(train['preprocessed_plots'])\n",
        "x_test=vectorizer.transform(test['preprocessed_plots'])"
      ],
      "execution_count": 0,
      "outputs": []
    },
    {
      "cell_type": "code",
      "metadata": {
        "id": "fO6z5g8oEfrr",
        "colab_type": "code",
        "colab": {}
      },
      "source": [
        "from scipy.sparse import coo_matrix, hstack\n",
        "x_train=hstack((x_train,train_fast))\n",
        "x_test=hstack((x_test,test_fast))"
      ],
      "execution_count": 0,
      "outputs": []
    },
    {
      "cell_type": "code",
      "metadata": {
        "id": "pSKHUR9zEoe4",
        "colab_type": "code",
        "outputId": "e067a3da-eee8-476e-9cc9-43693848a71d",
        "colab": {
          "base_uri": "https://localhost:8080/",
          "height": 170
        }
      },
      "source": [
        "from sklearn.linear_model import LogisticRegression\n",
        "\n",
        "params = {\n",
        "    \"estimator__alpha\": [10**-5,10**-4,10**-3,10**-2, 10**-1, 10**1]\n",
        "}\n",
        "\n",
        "clf = OneVsRestClassifier(SGDClassifier(loss='log', penalty='l1',n_jobs=-1),n_jobs=-1)\n",
        "\n",
        "model=GridSearchCV(clf, param_grid=params, scoring='f1_micro',n_jobs=-1,return_train_score=True,cv=3,verbose=10)\n",
        "\n",
        "model.fit(x_train, y_train)\n",
        "\n",
        "print (\"The best cross-validation score:\",model.best_score_)\n",
        "print (\"The best parameters:\",model.best_params_)"
      ],
      "execution_count": 0,
      "outputs": [
        {
          "output_type": "stream",
          "text": [
            "Fitting 3 folds for each of 6 candidates, totalling 18 fits\n"
          ],
          "name": "stdout"
        },
        {
          "output_type": "stream",
          "text": [
            "[Parallel(n_jobs=-1)]: Using backend LokyBackend with 2 concurrent workers.\n",
            "[Parallel(n_jobs=-1)]: Done   1 tasks      | elapsed:  1.1min\n",
            "[Parallel(n_jobs=-1)]: Done   4 tasks      | elapsed:  2.7min\n",
            "[Parallel(n_jobs=-1)]: Done   9 tasks      | elapsed:  4.3min\n",
            "[Parallel(n_jobs=-1)]: Done  14 tasks      | elapsed:  5.8min\n",
            "[Parallel(n_jobs=-1)]: Done  18 out of  18 | elapsed:  6.6min finished\n"
          ],
          "name": "stderr"
        },
        {
          "output_type": "stream",
          "text": [
            "The best cross-validation score: 0.2894519229473909\n",
            "The best parameters: {'estimator__alpha': 1e-05}\n"
          ],
          "name": "stdout"
        }
      ]
    },
    {
      "cell_type": "code",
      "metadata": {
        "id": "tpg3bE8hE11n",
        "colab_type": "code",
        "outputId": "3a0e3d3b-56af-4f4f-f322-c6971c3caeda",
        "colab": {
          "base_uri": "https://localhost:8080/",
          "height": 51
        }
      },
      "source": [
        "classifier = OneVsRestClassifier(SGDClassifier(loss='log', alpha=1e-05, penalty='l1'), n_jobs=-1)\n",
        "classifier.fit(x_train, y_train)\n",
        "predictions = classifier.predict(x_test)\n",
        "\n",
        "precision = precision_score(y_test, predictions, average='micro')\n",
        "recall = recall_score(y_test, predictions, average='micro')\n",
        "f1 = f1_score(y_test, predictions, average='micro')\n",
        " \n",
        "print(\"Micro-average quality numbers\")\n",
        "print(\"Precision: {:.4f}, Recall: {:.4f}, F1-measure: {:.4f}\".format(precision, recall, f1))"
      ],
      "execution_count": 0,
      "outputs": [
        {
          "output_type": "stream",
          "text": [
            "Micro-average quality numbers\n",
            "Precision: 0.3981, Recall: 0.2476, F1-measure: 0.3053\n"
          ],
          "name": "stdout"
        }
      ]
    },
    {
      "cell_type": "markdown",
      "metadata": {
        "id": "1ruusrp0JR0o",
        "colab_type": "text"
      },
      "source": [
        "\n",
        "\n",
        "---\n",
        "\n"
      ]
    },
    {
      "cell_type": "markdown",
      "metadata": {
        "id": "UOSYWcAvO8Tx",
        "colab_type": "text"
      },
      "source": [
        "**GLOVE MODEL WITH TEXT**"
      ]
    },
    {
      "cell_type": "code",
      "metadata": {
        "id": "hwACaAgPO_6D",
        "colab_type": "code",
        "colab": {}
      },
      "source": [
        "import numpy as np\n",
        "def loadGloveModel(gloveFile):\n",
        "    print(\"Loading Glove Model\")\n",
        "    f = open(gloveFile,'r')\n",
        "    model = {}\n",
        "    for line in f:\n",
        "        splitLine = line.split()\n",
        "        word = splitLine[0]\n",
        "        embedding = np.array([float(val) for val in splitLine[1:]])\n",
        "        model[word] = embedding\n",
        "    print(\"Done.\",len(model),\" words loaded!\")\n",
        "    return model"
      ],
      "execution_count": 0,
      "outputs": []
    },
    {
      "cell_type": "code",
      "metadata": {
        "id": "DJJold7HPB0R",
        "colab_type": "code",
        "outputId": "7534225a-417f-4112-df9a-c06c14f0ff34",
        "colab": {
          "base_uri": "https://localhost:8080/",
          "height": 51
        }
      },
      "source": [
        "glove_model=loadGloveModel('/content/gdrive/My Drive/glove.6B.50d.txt')"
      ],
      "execution_count": 46,
      "outputs": [
        {
          "output_type": "stream",
          "text": [
            "Loading Glove Model\n",
            "Done. 400000  words loaded!\n"
          ],
          "name": "stdout"
        }
      ]
    },
    {
      "cell_type": "code",
      "metadata": {
        "id": "AlZtJVb4PXOW",
        "colab_type": "code",
        "outputId": "da815ac3-b17e-4154-fc9b-5654deefb682",
        "colab": {
          "base_uri": "https://localhost:8080/",
          "height": 51
        }
      },
      "source": [
        "train_glove = []\n",
        "\n",
        "for sent in tqdm(list_of_sent_train):\n",
        "    sent_vect = np.zeros(50)\n",
        "    cnt_words = 0\n",
        "    for word in sent:\n",
        "        if word in glove_model:\n",
        "            vect = glove_model[word]#creating a matrix of 50 length for each word\n",
        "            sent_vect += vect \n",
        "            cnt_words = cnt_words + 1\n",
        "    if cnt_words !=0:\n",
        "        sent_vect /= cnt_words\n",
        "    \n",
        "        train_glove.append(sent_vect)\n",
        "\n",
        "print(len(train_glove))"
      ],
      "execution_count": 50,
      "outputs": [
        {
          "output_type": "stream",
          "text": [
            "100%|██████████| 11862/11862 [00:10<00:00, 1177.37it/s]"
          ],
          "name": "stderr"
        },
        {
          "output_type": "stream",
          "text": [
            "11862\n"
          ],
          "name": "stdout"
        },
        {
          "output_type": "stream",
          "text": [
            "\n"
          ],
          "name": "stderr"
        }
      ]
    },
    {
      "cell_type": "code",
      "metadata": {
        "id": "kzF35XCUPxoa",
        "colab_type": "code",
        "outputId": "83ee7d7d-89bb-4a5a-85c2-89582bf0f6de",
        "colab": {
          "base_uri": "https://localhost:8080/",
          "height": 51
        }
      },
      "source": [
        "test_glove = []\n",
        "\n",
        "for sent in tqdm(list_of_sent_test):\n",
        "    sent_vect = np.zeros(50)\n",
        "    cnt_words = 0\n",
        "    for word in sent:\n",
        "        if word in glove_model:\n",
        "            vect = glove_model[word]#creating a matrix of 50 length for each word\n",
        "            sent_vect += vect \n",
        "            cnt_words = cnt_words + 1\n",
        "    if cnt_words !=0:\n",
        "        sent_vect /= cnt_words\n",
        "    \n",
        "        test_glove.append(sent_vect)\n",
        "\n",
        "print(len(test_glove))"
      ],
      "execution_count": 51,
      "outputs": [
        {
          "output_type": "stream",
          "text": [
            "100%|██████████| 2966/2966 [00:02<00:00, 1167.07it/s]"
          ],
          "name": "stderr"
        },
        {
          "output_type": "stream",
          "text": [
            "2966\n"
          ],
          "name": "stdout"
        },
        {
          "output_type": "stream",
          "text": [
            "\n"
          ],
          "name": "stderr"
        }
      ]
    },
    {
      "cell_type": "code",
      "metadata": {
        "id": "MpypVKxuP9x6",
        "colab_type": "code",
        "outputId": "bc6f716d-2616-4fef-c7e1-46d3d33f7f34",
        "colab": {
          "base_uri": "https://localhost:8080/",
          "height": 170
        }
      },
      "source": [
        "from sklearn.linear_model import LogisticRegression\n",
        "\n",
        "params = {\n",
        "    \"estimator__alpha\": [10**-5,10**-4,10**-3,10**-2, 10**-1, 10**1]\n",
        "}\n",
        "\n",
        "clf = OneVsRestClassifier(SGDClassifier(loss='log', penalty='l1',n_jobs=-1),n_jobs=-1)\n",
        "\n",
        "model=GridSearchCV(clf, param_grid=params, scoring='f1_micro',n_jobs=-1,return_train_score=True,cv=3,verbose=10)\n",
        "\n",
        "model.fit(train_glove, y_train)\n",
        "\n",
        "print (\"The best cross-validation score:\",model.best_score_)\n",
        "print (\"The best parameters:\",model.best_params_)"
      ],
      "execution_count": 0,
      "outputs": [
        {
          "output_type": "stream",
          "text": [
            "[Parallel(n_jobs=-1)]: Using backend LokyBackend with 2 concurrent workers.\n"
          ],
          "name": "stderr"
        },
        {
          "output_type": "stream",
          "text": [
            "Fitting 3 folds for each of 6 candidates, totalling 18 fits\n"
          ],
          "name": "stdout"
        },
        {
          "output_type": "stream",
          "text": [
            "[Parallel(n_jobs=-1)]: Done   1 tasks      | elapsed:   18.2s\n",
            "[Parallel(n_jobs=-1)]: Done   4 tasks      | elapsed:   37.6s\n",
            "[Parallel(n_jobs=-1)]: Done   9 tasks      | elapsed:   55.3s\n",
            "[Parallel(n_jobs=-1)]: Done  14 tasks      | elapsed:  1.3min\n",
            "[Parallel(n_jobs=-1)]: Done  18 out of  18 | elapsed:  1.5min finished\n"
          ],
          "name": "stderr"
        },
        {
          "output_type": "stream",
          "text": [
            "The best cross-validation score: 0.239770405291418\n",
            "The best parameters: {'estimator__alpha': 1e-05}\n"
          ],
          "name": "stdout"
        }
      ]
    },
    {
      "cell_type": "code",
      "metadata": {
        "id": "LPqjn5NGQvvG",
        "colab_type": "code",
        "outputId": "35acbe83-809c-4f0c-e094-a776525338ce",
        "colab": {
          "base_uri": "https://localhost:8080/",
          "height": 51
        }
      },
      "source": [
        "classifier = OneVsRestClassifier(SGDClassifier(loss='log', alpha=1e-05, penalty='l1'), n_jobs=-1)\n",
        "classifier.fit(train_glove, y_train)\n",
        "predictions = classifier.predict(test_glove)\n",
        "\n",
        "precision = precision_score(y_test, predictions, average='micro')\n",
        "recall = recall_score(y_test, predictions, average='micro')\n",
        "f1 = f1_score(y_test, predictions, average='micro')\n",
        " \n",
        "print(\"Micro-average quality numbers\")\n",
        "print(\"Precision: {:.4f}, Recall: {:.4f}, F1-measure: {:.4f}\".format(precision, recall, f1))"
      ],
      "execution_count": 0,
      "outputs": [
        {
          "output_type": "stream",
          "text": [
            "Micro-average quality numbers\n",
            "Precision: 0.5605, Recall: 0.1288, F1-measure: 0.2095\n"
          ],
          "name": "stdout"
        }
      ]
    },
    {
      "cell_type": "markdown",
      "metadata": {
        "id": "8rJE67qjIHTj",
        "colab_type": "text"
      },
      "source": [
        "\n",
        "\n",
        "---\n",
        "\n"
      ]
    },
    {
      "cell_type": "markdown",
      "metadata": {
        "id": "AiIYNhEnsa3m",
        "colab_type": "text"
      },
      "source": [
        "**GLVOE VECTORS +LDA FEATURES**"
      ]
    },
    {
      "cell_type": "code",
      "metadata": {
        "id": "BGJEZuiHs9Le",
        "colab_type": "code",
        "colab": {}
      },
      "source": [
        "from scipy.sparse import coo_matrix, vstack\n"
      ],
      "execution_count": 0,
      "outputs": []
    },
    {
      "cell_type": "code",
      "metadata": {
        "id": "tAHWxu5MsebV",
        "colab_type": "code",
        "colab": {}
      },
      "source": [
        "x_train=np.hstack((np.array(train_glove),lda_Z))\n",
        "x_test=np.hstack((np.array(test_glove),lda_t))"
      ],
      "execution_count": 0,
      "outputs": []
    },
    {
      "cell_type": "code",
      "metadata": {
        "id": "rTasGIAttotU",
        "colab_type": "code",
        "colab": {
          "base_uri": "https://localhost:8080/",
          "height": 170
        },
        "outputId": "f8a34f22-9c20-4e3c-8391-4298c396653b"
      },
      "source": [
        "from sklearn.linear_model import LogisticRegression\n",
        "\n",
        "params = {\n",
        "    \"estimator__alpha\": [10**-5,10**-4,10**-3,10**-2, 10**-1, 10**1]\n",
        "}\n",
        "\n",
        "clf = OneVsRestClassifier(SGDClassifier(loss='log', penalty='l1',n_jobs=-1),n_jobs=-1)\n",
        "\n",
        "model=GridSearchCV(clf, param_grid=params, scoring='f1_micro',n_jobs=-1,return_train_score=True,cv=3,verbose=10)\n",
        "\n",
        "model.fit(x_train, y_train)\n",
        "\n",
        "print (\"The best cross-validation score:\",model.best_score_)\n",
        "print (\"The best parameters:\",model.best_params_)"
      ],
      "execution_count": 68,
      "outputs": [
        {
          "output_type": "stream",
          "text": [
            "Fitting 3 folds for each of 6 candidates, totalling 18 fits\n"
          ],
          "name": "stdout"
        },
        {
          "output_type": "stream",
          "text": [
            "[Parallel(n_jobs=-1)]: Using backend LokyBackend with 2 concurrent workers.\n",
            "[Parallel(n_jobs=-1)]: Done   1 tasks      | elapsed:   17.9s\n",
            "[Parallel(n_jobs=-1)]: Done   4 tasks      | elapsed:   37.1s\n",
            "[Parallel(n_jobs=-1)]: Done   9 tasks      | elapsed:   52.5s\n",
            "[Parallel(n_jobs=-1)]: Done  14 tasks      | elapsed:  1.1min\n",
            "[Parallel(n_jobs=-1)]: Done  18 out of  18 | elapsed:  1.4min finished\n"
          ],
          "name": "stderr"
        },
        {
          "output_type": "stream",
          "text": [
            "The best cross-validation score: 0.25342883143012535\n",
            "The best parameters: {'estimator__alpha': 0.0001}\n"
          ],
          "name": "stdout"
        }
      ]
    },
    {
      "cell_type": "code",
      "metadata": {
        "id": "F2Nv9W42u3O4",
        "colab_type": "code",
        "colab": {
          "base_uri": "https://localhost:8080/",
          "height": 51
        },
        "outputId": "e96cd3a6-d837-4383-f06a-5bd97027110e"
      },
      "source": [
        "classifier = OneVsRestClassifier(SGDClassifier(loss='log', alpha=1e-03, penalty='l1'), n_jobs=-1)\n",
        "classifier.fit(x_train, y_train)\n",
        "predictions = classifier.predict(x_test)\n",
        "\n",
        "precision = precision_score(y_test, predictions, average='micro')\n",
        "recall = recall_score(y_test, predictions, average='micro')\n",
        "f1 = f1_score(y_test, predictions, average='micro')\n",
        " \n",
        "print(\"Micro-average quality numbers\")\n",
        "print(\"Precision: {:.4f}, Recall: {:.4f}, F1-measure: {:.4f}\".format(precision, recall, f1))"
      ],
      "execution_count": 72,
      "outputs": [
        {
          "output_type": "stream",
          "text": [
            "Micro-average quality numbers\n",
            "Precision: 0.6340, Recall: 0.1148, F1-measure: 0.1944\n"
          ],
          "name": "stdout"
        }
      ]
    },
    {
      "cell_type": "markdown",
      "metadata": {
        "id": "jCasODJ9vK1j",
        "colab_type": "text"
      },
      "source": [
        "**GLOVE VECTOR+LDA+TFIDF**"
      ]
    },
    {
      "cell_type": "code",
      "metadata": {
        "id": "3VurTaiHvUnX",
        "colab_type": "code",
        "colab": {}
      },
      "source": [
        "vectorizer = TfidfVectorizer(min_df=15,max_df=0.9)\n",
        "vectorizer.fit(train['preprocessed_plots'])\n",
        "x_train_tf=vectorizer.transform(train['preprocessed_plots'])\n",
        "x_test_tf=vectorizer.transform(test['preprocessed_plots'])"
      ],
      "execution_count": 0,
      "outputs": []
    },
    {
      "cell_type": "code",
      "metadata": {
        "id": "TU3A_WqovJ-a",
        "colab_type": "code",
        "colab": {}
      },
      "source": [
        "x_train=hstack((x_train,x_train_tf))\n",
        "x_test=hstack((x_test,x_test_tf))"
      ],
      "execution_count": 0,
      "outputs": []
    },
    {
      "cell_type": "code",
      "metadata": {
        "id": "BkliAyK6vv3I",
        "colab_type": "code",
        "colab": {
          "base_uri": "https://localhost:8080/",
          "height": 170
        },
        "outputId": "7f8a20bf-0079-44d0-ce31-0bc331c7c6fe"
      },
      "source": [
        "from sklearn.linear_model import LogisticRegression\n",
        "\n",
        "params = {\n",
        "    \"estimator__alpha\": [10**-5,10**-4,10**-3,10**-2, 10**-1, 10**1]\n",
        "}\n",
        "\n",
        "clf = OneVsRestClassifier(SGDClassifier(loss='log', penalty='l1',n_jobs=-1),n_jobs=-1)\n",
        "\n",
        "model=GridSearchCV(clf, param_grid=params, scoring='f1_micro',n_jobs=-1,return_train_score=True,cv=3,verbose=10)\n",
        "\n",
        "model.fit(x_train, y_train)\n",
        "\n",
        "print (\"The best cross-validation score:\",model.best_score_)\n",
        "print (\"The best parameters:\",model.best_params_)"
      ],
      "execution_count": 79,
      "outputs": [
        {
          "output_type": "stream",
          "text": [
            "Fitting 3 folds for each of 6 candidates, totalling 18 fits\n"
          ],
          "name": "stdout"
        },
        {
          "output_type": "stream",
          "text": [
            "[Parallel(n_jobs=-1)]: Using backend LokyBackend with 2 concurrent workers.\n",
            "[Parallel(n_jobs=-1)]: Done   1 tasks      | elapsed:  1.4min\n",
            "[Parallel(n_jobs=-1)]: Done   4 tasks      | elapsed:  3.5min\n",
            "[Parallel(n_jobs=-1)]: Done   9 tasks      | elapsed:  5.2min\n",
            "[Parallel(n_jobs=-1)]: Done  14 tasks      | elapsed:  6.4min\n",
            "[Parallel(n_jobs=-1)]: Done  18 out of  18 | elapsed:  7.2min finished\n"
          ],
          "name": "stderr"
        },
        {
          "output_type": "stream",
          "text": [
            "The best cross-validation score: 0.2933276744111386\n",
            "The best parameters: {'estimator__alpha': 1e-05}\n"
          ],
          "name": "stdout"
        }
      ]
    },
    {
      "cell_type": "code",
      "metadata": {
        "id": "CwZd5RDTx1UR",
        "colab_type": "code",
        "colab": {
          "base_uri": "https://localhost:8080/",
          "height": 51
        },
        "outputId": "880906d0-2035-40e0-f5f5-59ad50d244fd"
      },
      "source": [
        "classifier = OneVsRestClassifier(SGDClassifier(loss='log', alpha=1e-05, penalty='l1'), n_jobs=-1)\n",
        "classifier.fit(x_train, y_train)\n",
        "predictions = classifier.predict(x_test)\n",
        "\n",
        "precision = precision_score(y_test, predictions, average='micro')\n",
        "recall = recall_score(y_test, predictions, average='micro')\n",
        "f1 = f1_score(y_test, predictions, average='micro')\n",
        " \n",
        "print(\"Micro-average quality numbers\")\n",
        "print(\"Precision: {:.4f}, Recall: {:.4f}, F1-measure: {:.4f}\".format(precision, recall, f1))"
      ],
      "execution_count": 91,
      "outputs": [
        {
          "output_type": "stream",
          "text": [
            "Micro-average quality numbers\n",
            "Precision: 0.3703, Recall: 0.2703, F1-measure: 0.3125\n"
          ],
          "name": "stdout"
        }
      ]
    },
    {
      "cell_type": "markdown",
      "metadata": {
        "id": "ahhXuuAC22ap",
        "colab_type": "text"
      },
      "source": [
        " THIS IS OUR BEST ML MODEL WITH F1-SCORE OF 0.3125"
      ]
    },
    {
      "cell_type": "markdown",
      "metadata": {
        "id": "yl_nJLafKNGi",
        "colab_type": "text"
      },
      "source": [
        "# **DEEP-LEARNING MODELS**"
      ]
    },
    {
      "cell_type": "code",
      "metadata": {
        "id": "w0ynEMprLEU4",
        "colab_type": "code",
        "colab": {}
      },
      "source": [
        "train=df.loc[df.split=='train']\n",
        "cv=df.loc[df.split==\"val\"]\n",
        "cv=cv.reset_index()\n",
        "train=train.reset_index()\n",
        "test=df.loc[df.split=='test']\n",
        "test=test.reset_index()"
      ],
      "execution_count": 0,
      "outputs": []
    },
    {
      "cell_type": "code",
      "metadata": {
        "id": "lK0SEr7qLMu4",
        "colab_type": "code",
        "colab": {}
      },
      "source": [
        "vectorizer = CountVectorizer(tokenizer = lambda x: x.split(\",\"), binary='true')\n",
        "y_train = vectorizer.fit_transform(train['tags']).toarray()\n",
        "y_test=vectorizer.transform(test['tags']).toarray()\n",
        "y_cv=vectorizer.transform(cv['tags']).toarray()"
      ],
      "execution_count": 0,
      "outputs": []
    },
    {
      "cell_type": "code",
      "metadata": {
        "id": "D58K81aZYP5U",
        "colab_type": "code",
        "colab": {}
      },
      "source": [
        "import tensorflow as tf\n",
        "\n",
        "session_conf = tf.ConfigProto(\n",
        " intra_op_parallelism_threads=1, \n",
        "                        inter_op_parallelism_threads=1, \n",
        "                      )"
      ],
      "execution_count": 0,
      "outputs": []
    },
    {
      "cell_type": "code",
      "metadata": {
        "id": "xaSK_ZyXH05x",
        "colab_type": "code",
        "outputId": "5d3abfc0-813d-4aa9-dfbb-8431733629a3",
        "colab": {
          "base_uri": "https://localhost:8080/",
          "height": 34
        }
      },
      "source": [
        "from keras.preprocessing.text import Tokenizer\n",
        "from keras.preprocessing.sequence import pad_sequences\n",
        "from keras.models import Sequential\n",
        "from keras.layers import Dense, Flatten, LSTM, Conv1D, MaxPooling1D, Dropout, Activation\n",
        "from keras.layers.embeddings import Embedding"
      ],
      "execution_count": 0,
      "outputs": [
        {
          "output_type": "stream",
          "text": [
            "Using TensorFlow backend.\n"
          ],
          "name": "stderr"
        }
      ]
    },
    {
      "cell_type": "code",
      "metadata": {
        "id": "qokdve7qJ53m",
        "colab_type": "code",
        "outputId": "3183ad5e-4a15-4c13-ca3f-ecb6794e53d0",
        "colab": {
          "base_uri": "https://localhost:8080/",
          "height": 34
        }
      },
      "source": [
        "train.preprocessed_plots.str.split().apply(len).max()\n"
      ],
      "execution_count": 0,
      "outputs": [
        {
          "output_type": "execute_result",
          "data": {
            "text/plain": [
              "6044"
            ]
          },
          "metadata": {
            "tags": []
          },
          "execution_count": 221
        }
      ]
    },
    {
      "cell_type": "code",
      "metadata": {
        "id": "-eryZ8MITdQL",
        "colab_type": "code",
        "outputId": "df38906b-eb20-4201-9fe3-80f9ffd1e5b1",
        "colab": {
          "base_uri": "https://localhost:8080/",
          "height": 136
        }
      },
      "source": [
        "t = Tokenizer()\n",
        "t.fit_on_texts(train.preprocessed_plots)\n",
        "vocab_size = len(t.word_index) + 1\n",
        "# integer encode the documents\n",
        "encoded_docs = t.texts_to_sequences(train.preprocessed_plots)\n",
        "max_length = vocab_size\n",
        "padded_docs = pad_sequences(encoded_docs, maxlen=1000, padding='post')\n",
        "print(padded_docs)"
      ],
      "execution_count": 0,
      "outputs": [
        {
          "output_type": "stream",
          "text": [
            "[[  680  4577 54887 ...     0     0     0]\n",
            " [    6  4356    69 ...     0     0     0]\n",
            " [ 2771  4762   102 ...    19    66  6797]\n",
            " ...\n",
            " [   66  2554   401 ...     0     0     0]\n",
            " [ 4799  2605  2908 ...     0     0     0]\n",
            " [ 1160  2299  2425 ...     0     0     0]]\n"
          ],
          "name": "stdout"
        }
      ]
    },
    {
      "cell_type": "code",
      "metadata": {
        "id": "wAqucEG23_qZ",
        "colab_type": "code",
        "outputId": "0e641e42-03e0-47d4-b90d-d8fb7d63b2d4",
        "colab": {
          "base_uri": "https://localhost:8080/",
          "height": 34
        }
      },
      "source": [
        "padded_docs.shape"
      ],
      "execution_count": 0,
      "outputs": [
        {
          "output_type": "execute_result",
          "data": {
            "text/plain": [
              "(9489, 1000)"
            ]
          },
          "metadata": {
            "tags": []
          },
          "execution_count": 223
        }
      ]
    },
    {
      "cell_type": "code",
      "metadata": {
        "id": "aLQo9ANUT0tu",
        "colab_type": "code",
        "colab": {}
      },
      "source": [
        "encoded_docs_test = t.texts_to_sequences(test.preprocessed_plots)\n",
        "padded_docs_test = pad_sequences(encoded_docs_test, maxlen=1000, padding='post')\n",
        "encoded_docs_cv = t.texts_to_sequences(cv.preprocessed_plots)\n",
        "padded_docs_cv = pad_sequences(encoded_docs_cv, maxlen=1000, padding='post')\n",
        "\n"
      ],
      "execution_count": 0,
      "outputs": []
    },
    {
      "cell_type": "code",
      "metadata": {
        "id": "wdmDgCYySV_W",
        "colab_type": "code",
        "colab": {}
      },
      "source": [
        "embedding_matrix = np.zeros((vocab_size,50))\n",
        "for word, i in t.word_index.items():\n",
        "\tembedding_vector = glove_model.get(word)\n",
        "\tif embedding_vector is not None:\n",
        "\t\tembedding_matrix[i] = embedding_vector"
      ],
      "execution_count": 0,
      "outputs": []
    },
    {
      "cell_type": "code",
      "metadata": {
        "id": "AYlP3_znYgTM",
        "colab_type": "code",
        "colab": {}
      },
      "source": [
        "import tensorflow as tf\n",
        "from sklearn.metrics import f1_score\n",
        "from keras.optimizers import Adam\n",
        "from keras.callbacks import TensorBoard\n",
        "from time import time\n",
        "from keras.callbacks import ModelCheckpoint\n",
        "\n",
        "def f1micro(y_true, y_pred):\n",
        "    return tf.py_func(f1_score(y_true, y_pred,average='mirco'),tf.double)\n"
      ],
      "execution_count": 0,
      "outputs": []
    },
    {
      "cell_type": "code",
      "metadata": {
        "id": "5dcTBtpyZPKL",
        "colab_type": "code",
        "colab": {}
      },
      "source": [
        "tensorboard = TensorBoard(log_dir='logs/{}'.format(time()))\n",
        "filepath=\"weights.best.hdf5\"\n",
        "checkpoint = ModelCheckpoint(filepath, monitor='val_f1micro', verbose=0, save_best_only=True, mode='max')"
      ],
      "execution_count": 0,
      "outputs": []
    },
    {
      "cell_type": "code",
      "metadata": {
        "id": "cIoIwVhCSFA_",
        "colab_type": "code",
        "outputId": "50dc440a-e9ad-439d-ef7b-3c9cf7585a00",
        "colab": {
          "base_uri": "https://localhost:8080/",
          "height": 221
        }
      },
      "source": [
        "model_glove = Sequential()\n",
        "model_glove.add(Embedding(vocab_size,output_dim=embedding_matrix.shape[1],input_length=1000,weights=[embedding_matrix], trainable=False))\n",
        "model_glove.add(LSTM(256, return_sequences=True,activation='relu'))\n",
        "model_glove.add(Flatten())\n",
        "model_glove.add(Dense(256, activation='relu'))\n",
        "model_glove.add(Dropout(0.5))\n",
        "model_glove.add(Dense(256, activation='relu'))\n",
        "model_glove.add(Dropout(0.5))\n",
        "model_glove.add(Dense(71, activation='sigmoid'))\n",
        "model_glove.compile(loss='binary_crossentropy', optimizer='adam')\n",
        "## Fit train data\n",
        "model_glove.fit(padded_docs, y_train,validation_data=(padded_docs_cv,y_cv), epochs =5,batch_size=32,callbacks=[tensorboard])"
      ],
      "execution_count": 0,
      "outputs": [
        {
          "output_type": "stream",
          "text": [
            "Train on 9489 samples, validate on 2373 samples\n",
            "Epoch 1/5\n",
            "9489/9489 [==============================] - 630s 66ms/step - loss: 0.1923 - val_loss: 0.1421\n",
            "Epoch 2/5\n",
            "9489/9489 [==============================] - 628s 66ms/step - loss: 0.1458 - val_loss: 0.1376\n",
            "Epoch 3/5\n",
            "9489/9489 [==============================] - 629s 66ms/step - loss: 0.1372 - val_loss: 0.1348\n",
            "Epoch 4/5\n",
            "9489/9489 [==============================] - 628s 66ms/step - loss: 0.1307 - val_loss: 0.1333\n",
            "Epoch 5/5\n",
            "9489/9489 [==============================] - 626s 66ms/step - loss: 0.1257 - val_loss: 0.1320\n"
          ],
          "name": "stdout"
        },
        {
          "output_type": "execute_result",
          "data": {
            "text/plain": [
              "<keras.callbacks.History at 0x7f893504c390>"
            ]
          },
          "metadata": {
            "tags": []
          },
          "execution_count": 230
        }
      ]
    },
    {
      "cell_type": "code",
      "metadata": {
        "id": "rTpzhqRrVZrX",
        "colab_type": "code",
        "colab": {}
      },
      "source": [
        "predictions=model_glove.predict([padded_docs_test])"
      ],
      "execution_count": 0,
      "outputs": []
    },
    {
      "cell_type": "code",
      "metadata": {
        "id": "gvxa5RiZZ3iZ",
        "colab_type": "code",
        "colab": {}
      },
      "source": [
        "thresholds=[0.1,0.2,0.3,0.4,0.5,0.6,0.7,0.8,0.9]"
      ],
      "execution_count": 0,
      "outputs": []
    },
    {
      "cell_type": "code",
      "metadata": {
        "id": "dAtMsO9-WfBc",
        "colab_type": "code",
        "outputId": "c4bb25a9-6c9d-4eff-8061-fe638a1c9022",
        "colab": {
          "base_uri": "https://localhost:8080/",
          "height": 323
        }
      },
      "source": [
        "for val in thresholds:\n",
        "  pred=predictions.copy()\n",
        "  \n",
        "  pred[pred>=val]=1\n",
        "  pred[pred<val]=0\n",
        "  \n",
        "  precision = precision_score(y_test, pred, average='micro')\n",
        "  recall = recall_score(y_test, pred, average='micro')\n",
        "  f1 = f1_score(y_test, pred, average='micro')\n",
        "   \n",
        "  print(\"Micro-average quality numbers\")\n",
        "  print(\"Precision: {:.4f}, Recall: {:.4f}, F1-measure: {:.4f}\".format(precision, recall, f1))"
      ],
      "execution_count": 0,
      "outputs": [
        {
          "output_type": "stream",
          "text": [
            "Micro-average quality numbers\n",
            "Precision: 0.2382, Recall: 0.5715, F1-measure: 0.3363\n",
            "Micro-average quality numbers\n",
            "Precision: 0.3469, Recall: 0.3925, F1-measure: 0.3683\n",
            "Micro-average quality numbers\n",
            "Precision: 0.4471, Recall: 0.2673, F1-measure: 0.3346\n",
            "Micro-average quality numbers\n",
            "Precision: 0.5391, Recall: 0.1879, F1-measure: 0.2786\n",
            "Micro-average quality numbers\n",
            "Precision: 0.6162, Recall: 0.1276, F1-measure: 0.2114\n",
            "Micro-average quality numbers\n",
            "Precision: 0.6944, Recall: 0.0693, F1-measure: 0.1260\n",
            "Micro-average quality numbers\n",
            "Precision: 0.7507, Recall: 0.0297, F1-measure: 0.0571\n",
            "Micro-average quality numbers\n",
            "Precision: 0.8571, Recall: 0.0047, F1-measure: 0.0093\n",
            "Micro-average quality numbers\n",
            "Precision: 1.0000, Recall: 0.0004, F1-measure: 0.0009\n"
          ],
          "name": "stdout"
        }
      ]
    },
    {
      "cell_type": "markdown",
      "metadata": {
        "id": "YqzPTsVPG-Ln",
        "colab_type": "text"
      },
      "source": [
        "**We get the best score of 0.3682 with threshold being 0.2**"
      ]
    },
    {
      "cell_type": "markdown",
      "metadata": {
        "id": "CrkOLKXcH6N-",
        "colab_type": "text"
      },
      "source": [
        "\n",
        "\n",
        "---\n",
        "\n"
      ]
    },
    {
      "cell_type": "markdown",
      "metadata": {
        "id": "gb5wud2NHiTG",
        "colab_type": "text"
      },
      "source": [
        "**WE OBSERVE THAT AS THE TAGS ARE SKEWED THE MODELS WOULD PERFOM BETTER IF WE MADE PRECITIONS ON FEWER **"
      ]
    },
    {
      "cell_type": "code",
      "metadata": {
        "id": "vwZQdguzIbCp",
        "colab_type": "code",
        "colab": {}
      },
      "source": [
        "train=df.loc[(df.split=='train')|(df.split==\"val\")]\n",
        "train=train.reset_index()\n",
        "test=df.loc[df.split=='test']\n",
        "test=test.reset_index()"
      ],
      "execution_count": 0,
      "outputs": []
    },
    {
      "cell_type": "code",
      "metadata": {
        "id": "AkU5yPCIIaAS",
        "colab_type": "code",
        "colab": {}
      },
      "source": [
        "vectorizer = CountVectorizer(tokenizer = lambda x: x.split(\",\"), binary='true',max_features=10)\n",
        "y_train = vectorizer.fit_transform(train['tags']).toarray()\n",
        "y_test=vectorizer.transform(test['tags']).toarray()\n",
        "y_cv=vectorizer.transform(cv['tags']).toarray()"
      ],
      "execution_count": 0,
      "outputs": []
    },
    {
      "cell_type": "code",
      "metadata": {
        "id": "ny9mkWoAHwRI",
        "colab_type": "code",
        "colab": {}
      },
      "source": [
        "vectorizer = TfidfVectorizer(min_df=15,max_df=0.9)\n",
        "vectorizer.fit(train['preprocessed_plots'])\n",
        "x_train=vectorizer.transform(train['preprocessed_plots'])\n",
        "x_test=vectorizer.transform(test['preprocessed_plots'])"
      ],
      "execution_count": 0,
      "outputs": []
    },
    {
      "cell_type": "code",
      "metadata": {
        "id": "7dhq-MblI8E9",
        "colab_type": "code",
        "outputId": "837bd996-722a-49df-a0f4-e4c8747aab46",
        "colab": {
          "base_uri": "https://localhost:8080/",
          "height": 170
        }
      },
      "source": [
        "\n",
        "\n",
        "params = {\n",
        "    \"estimator__alpha\": [10**-5,10**-4,10**-3,10**-2, 10**-1, 10**1]\n",
        "}\n",
        "\n",
        "clf = OneVsRestClassifier(SGDClassifier(loss='log', penalty='l1',n_jobs=-1),n_jobs=-1)\n",
        "\n",
        "\n",
        "model=GridSearchCV(clf, param_grid=params, scoring='f1_micro',n_jobs=-1,return_train_score=True,cv=3,verbose=10)\n",
        "\n",
        "model.fit(x_train, y_train)\n",
        "\n",
        "print (\"The best cross-validation score:\",model.best_score_)\n",
        "print (\"The best parameters:\",model.best_params_)"
      ],
      "execution_count": 0,
      "outputs": [
        {
          "output_type": "stream",
          "text": [
            "Fitting 3 folds for each of 6 candidates, totalling 18 fits\n"
          ],
          "name": "stdout"
        },
        {
          "output_type": "stream",
          "text": [
            "[Parallel(n_jobs=-1)]: Using backend LokyBackend with 2 concurrent workers.\n",
            "[Parallel(n_jobs=-1)]: Done   1 tasks      | elapsed:    8.8s\n",
            "[Parallel(n_jobs=-1)]: Done   4 tasks      | elapsed:   19.0s\n",
            "[Parallel(n_jobs=-1)]: Done   9 tasks      | elapsed:   30.6s\n",
            "[Parallel(n_jobs=-1)]: Done  14 tasks      | elapsed:   47.8s\n",
            "[Parallel(n_jobs=-1)]: Done  18 out of  18 | elapsed:   54.2s finished\n"
          ],
          "name": "stderr"
        },
        {
          "output_type": "stream",
          "text": [
            "The best cross-validation score: 0.37752488857230615\n",
            "The best parameters: {'estimator__alpha': 1e-05}\n"
          ],
          "name": "stdout"
        }
      ]
    },
    {
      "cell_type": "code",
      "metadata": {
        "id": "VjPvJCRSJBKe",
        "colab_type": "code",
        "outputId": "09512660-033b-4375-a519-acfbe955c07d",
        "colab": {
          "base_uri": "https://localhost:8080/",
          "height": 51
        }
      },
      "source": [
        "classifier = OneVsRestClassifier(SGDClassifier(loss='log', alpha=1e-05, penalty='l1'), n_jobs=-1)\n",
        "classifier.fit(x_train, y_train)\n",
        "predictions = classifier.predict(x_test)\n",
        "\n",
        "precision = precision_score(y_test, predictions, average='micro')\n",
        "recall = recall_score(y_test, predictions, average='micro')\n",
        "f1 = f1_score(y_test, predictions, average='micro')\n",
        " \n",
        "print(\"Micro-average quality numbers\")\n",
        "print(\"Precision: {:.4f}, Recall: {:.4f}, F1-measure: {:.4f}\".format(precision, recall, f1))"
      ],
      "execution_count": 0,
      "outputs": [
        {
          "output_type": "stream",
          "text": [
            "Micro-average quality numbers\n",
            "Precision: 0.4868, Recall: 0.3429, F1-measure: 0.4024\n"
          ],
          "name": "stdout"
        }
      ]
    },
    {
      "cell_type": "markdown",
      "metadata": {
        "id": "9XyVM7nGVpe0",
        "colab_type": "text"
      },
      "source": [
        "# **CONCLUSION**"
      ]
    },
    {
      "cell_type": "code",
      "metadata": {
        "id": "ToyMiNLlK6zf",
        "colab_type": "code",
        "outputId": "05c80275-7b6d-43af-f196-9ad9e3e1f1ec",
        "colab": {
          "base_uri": "https://localhost:8080/",
          "height": 425
        }
      },
      "source": [
        "from prettytable import PrettyTable\n",
        "\n",
        "x = PrettyTable()\n",
        "\n",
        "x.field_names = [\"Model\", \"Featurization\",\"F1-score\",\"Number of tags\"]\n",
        "\n",
        "x.add_row([\"Logistic\", \"Tf-IDF\",0.3014,71])\n",
        "x.add_row([\"SVM\",\"TF-IDF\",0.3041,71])\n",
        "x.add_row([\"Logistic\", \"BI-GRAM\",0.24,71])\n",
        "x.add_row([\"Logistic\", \"TRIGRAM\",0.20,71])\n",
        "x.add_row([\"Logistic\", \"N-GRAM\",0.29,71])\n",
        "x.add_row([\"Logistic\", \"Char-3-GRAM\",0.2963,71])\n",
        "x.add_row([\"Logistic\", \"Topic modeling usig lda-topic probabilties\",0.12,71])\n",
        "x.add_row([\"Logistic\", \"Topic modeling usig lda-topic probabilties with parts of speech taggig\",0.13,71])\n",
        "x.add_row([\"Logistic\", \"Topic modeling usig lda-topic probabilties+tfidf\",0.3064,71])\n",
        "x.add_row([\"Logistic\", \"Topic modeling usig lda-word probabilties\",0.049,71])\n",
        "x.add_row([\"Logistic\", \"Topic modeling usig lda-word probabilties+Above featurization\",0.22,71])\n",
        "x.add_row([\"Logistic\", \"word embedding-word2vec\",0.11,71])\n",
        "x.add_row([\"Logistic\", \"word embedding-word2vec+tfidf\",0.308,71])\n",
        "x.add_row([\"Logistic\", \"word embedding-Fast-text\",0.26,71])\n",
        "x.add_row([\"Logistic\", \"word embedding-Fast-text+tfidf\",0.3053,71])\n",
        "x.add_row([\"Logistic\", \"word embedding-glove\",0.20,71])\n",
        "x.add_row([\"Logistic\", \"word embedding-glove+lda\",0.19,71])\n",
        "x.add_row([\"Logistic\", \"word embedding-glove+lda+tfidf\",0.3125,71])\n",
        "x.add_row([\"Logistic\", \"lastm-256-dense-256-dense-256-dense-71\",0.368,71])\n",
        "x.add_row([\"Logistic\", \"Tf-IDF\",0.40,10])\n",
        "\n",
        "\n",
        "\n",
        "print(x)\n"
      ],
      "execution_count": 92,
      "outputs": [
        {
          "output_type": "stream",
          "text": [
            "+----------+------------------------------------------------------------------------+----------+----------------+\n",
            "|  Model   |                             Featurization                              | F1-score | Number of tags |\n",
            "+----------+------------------------------------------------------------------------+----------+----------------+\n",
            "| Logistic |                                 Tf-IDF                                 |  0.3014  |       71       |\n",
            "|   SVM    |                                 TF-IDF                                 |  0.3041  |       71       |\n",
            "| Logistic |                                BI-GRAM                                 |   0.24   |       71       |\n",
            "| Logistic |                                TRIGRAM                                 |   0.2    |       71       |\n",
            "| Logistic |                                 N-GRAM                                 |   0.29   |       71       |\n",
            "| Logistic |                              Char-3-GRAM                               |  0.2963  |       71       |\n",
            "| Logistic |               Topic modeling usig lda-topic probabilties               |   0.12   |       71       |\n",
            "| Logistic | Topic modeling usig lda-topic probabilties with parts of speech taggig |   0.13   |       71       |\n",
            "| Logistic |            Topic modeling usig lda-topic probabilties+tfidf            |  0.3064  |       71       |\n",
            "| Logistic |               Topic modeling usig lda-word probabilties                |  0.049   |       71       |\n",
            "| Logistic |     Topic modeling usig lda-word probabilties+Above featurization      |   0.22   |       71       |\n",
            "| Logistic |                        word embedding-word2vec                         |   0.11   |       71       |\n",
            "| Logistic |                     word embedding-word2vec+tfidf                      |  0.308   |       71       |\n",
            "| Logistic |                        word embedding-Fast-text                        |   0.26   |       71       |\n",
            "| Logistic |                     word embedding-Fast-text+tfidf                     |  0.3053  |       71       |\n",
            "| Logistic |                          word embedding-glove                          |   0.2    |       71       |\n",
            "| Logistic |                        word embedding-glove+lda                        |   0.19   |       71       |\n",
            "| Logistic |                     word embedding-glove+lda+tfidf                     |  0.3125  |       71       |\n",
            "| Logistic |                 lastm-256-dense-256-dense-256-dense-71                 |  0.368   |       71       |\n",
            "| Logistic |                                 Tf-IDF                                 |   0.4    |       10       |\n",
            "+----------+------------------------------------------------------------------------+----------+----------------+\n"
          ],
          "name": "stdout"
        }
      ]
    },
    {
      "cell_type": "markdown",
      "metadata": {
        "id": "-SIjVVgrLa9a",
        "colab_type": "text"
      },
      "source": [
        "**OBSERVATIONS**\n",
        "\n",
        "1.   Even with our simplest of models we are able to acheive a score of 0.4024\n",
        "2.   Taking fewer tags increase our scores as our tags distrubution is skewed and average number of tags per plot is only 3\n",
        "3.   With all the 71 tags our best score was 0.368 ,that too using deep learning models\n",
        "\n"
      ]
    },
    {
      "cell_type": "code",
      "metadata": {
        "id": "gsP_RvAvcDV5",
        "colab_type": "code",
        "colab": {}
      },
      "source": [
        ""
      ],
      "execution_count": 0,
      "outputs": []
    }
  ]
}